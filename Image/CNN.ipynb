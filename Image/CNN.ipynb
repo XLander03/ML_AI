{
 "cells": [
  {
   "cell_type": "code",
   "execution_count": 1,
   "id": "01ca1d2f",
   "metadata": {
    "_cell_guid": "b1076dfc-b9ad-4769-8c92-a6c4dae69d19",
    "_uuid": "8f2839f25d086af736a60e9eeb907d3b93b6e0e5",
    "execution": {
     "iopub.execute_input": "2023-08-18T05:26:48.478511Z",
     "iopub.status.busy": "2023-08-18T05:26:48.477982Z",
     "iopub.status.idle": "2023-08-18T05:26:48.506535Z",
     "shell.execute_reply": "2023-08-18T05:26:48.505288Z"
    },
    "papermill": {
     "duration": 0.041608,
     "end_time": "2023-08-18T05:26:48.508910",
     "exception": false,
     "start_time": "2023-08-18T05:26:48.467302",
     "status": "completed"
    },
    "tags": []
   },
   "outputs": [
    {
     "name": "stdout",
     "output_type": "stream",
     "text": [
      "/kaggle/input/cifar10/data_batch_1\n",
      "/kaggle/input/cifar10/data_batch_2\n",
      "/kaggle/input/cifar10/batches.meta\n",
      "/kaggle/input/cifar10/test_batch\n",
      "/kaggle/input/cifar10/data_batch_3\n",
      "/kaggle/input/cifar10/data_batch_5\n",
      "/kaggle/input/cifar10/data_batch_4\n"
     ]
    }
   ],
   "source": [
    "# This Python 3 environment comes with many helpful analytics libraries installed\n",
    "# It is defined by the kaggle/python Docker image: https://github.com/kaggle/docker-python\n",
    "# For example, here's several helpful packages to load\n",
    "\n",
    "import numpy as np # linear algebra\n",
    "import pandas as pd # data processing, CSV file I/O (e.g. pd.read_csv)\n",
    "\n",
    "# Input data files are available in the read-only \"../input/\" directory\n",
    "# For example, running this (by clicking run or pressing Shift+Enter) will list all files under the input directory\n",
    "\n",
    "import os\n",
    "for dirname, _, filenames in os.walk('/kaggle/input'):\n",
    "    for filename in filenames:\n",
    "        print(os.path.join(dirname, filename))\n",
    "\n",
    "# You can write up to 20GB to the current directory (/kaggle/working/) that gets preserved as output when you create a version using \"Save & Run All\" \n",
    "# You can also write temporary files to /kaggle/temp/, but they won't be saved outside of the current session"
   ]
  },
  {
   "cell_type": "code",
   "execution_count": 2,
   "id": "f788215b",
   "metadata": {
    "_kg_hide-input": true,
    "_kg_hide-output": true,
    "execution": {
     "iopub.execute_input": "2023-08-18T05:26:48.530518Z",
     "iopub.status.busy": "2023-08-18T05:26:48.530225Z",
     "iopub.status.idle": "2023-08-18T05:26:53.098822Z",
     "shell.execute_reply": "2023-08-18T05:26:53.097825Z"
    },
    "papermill": {
     "duration": 4.580769,
     "end_time": "2023-08-18T05:26:53.101293",
     "exception": false,
     "start_time": "2023-08-18T05:26:48.520524",
     "status": "completed"
    },
    "tags": []
   },
   "outputs": [
    {
     "name": "stderr",
     "output_type": "stream",
     "text": [
      "/opt/conda/lib/python3.10/site-packages/scipy/__init__.py:146: UserWarning: A NumPy version >=1.16.5 and <1.23.0 is required for this version of SciPy (detected version 1.23.5\n",
      "  warnings.warn(f\"A NumPy version >={np_minversion} and <{np_maxversion}\"\n"
     ]
    }
   ],
   "source": [
    "#importing neccessary libraries\n",
    "import torch\n",
    "import torchvision\n",
    "import torchvision.transforms as transforms\n",
    "from sklearn.metrics import accuracy_score, confusion_matrix, classification_report\n",
    "from sklearn.ensemble import RandomForestClassifier\n",
    "import numpy as np\n",
    "import torch.nn as nn\n",
    "import torch.optim as optim\n",
    "import torch.nn.functional as F\n",
    "import matplotlib.pyplot as plt"
   ]
  },
  {
   "cell_type": "markdown",
   "id": "477ad23a",
   "metadata": {
    "papermill": {
     "duration": 0.008664,
     "end_time": "2023-08-18T05:26:53.118934",
     "exception": false,
     "start_time": "2023-08-18T05:26:53.110270",
     "status": "completed"
    },
    "tags": []
   },
   "source": [
    "# DATASET: CIFAR10\n",
    "The CIFAR-10 dataset contains 60,000 32x32 color images in 10 different classes."
   ]
  },
  {
   "cell_type": "code",
   "execution_count": 3,
   "id": "7432c49f",
   "metadata": {
    "execution": {
     "iopub.execute_input": "2023-08-18T05:26:53.138336Z",
     "iopub.status.busy": "2023-08-18T05:26:53.137159Z",
     "iopub.status.idle": "2023-08-18T05:27:04.077771Z",
     "shell.execute_reply": "2023-08-18T05:27:04.076628Z"
    },
    "papermill": {
     "duration": 10.952785,
     "end_time": "2023-08-18T05:27:04.080297",
     "exception": false,
     "start_time": "2023-08-18T05:26:53.127512",
     "status": "completed"
    },
    "tags": []
   },
   "outputs": [
    {
     "name": "stdout",
     "output_type": "stream",
     "text": [
      "Downloading https://www.cs.toronto.edu/~kriz/cifar-10-python.tar.gz to ./data/cifar-10-python.tar.gz\n"
     ]
    },
    {
     "name": "stderr",
     "output_type": "stream",
     "text": [
      "\r\n",
      "  0%|          | 0/170498071 [00:00<?, ?it/s]"
     ]
    },
    {
     "name": "stderr",
     "output_type": "stream",
     "text": [
      "\r\n",
      "  0%|          | 65536/170498071 [00:00<07:54, 359247.08it/s]"
     ]
    },
    {
     "name": "stderr",
     "output_type": "stream",
     "text": [
      "\r\n",
      "  0%|          | 229376/170498071 [00:00<04:12, 674131.37it/s]"
     ]
    },
    {
     "name": "stderr",
     "output_type": "stream",
     "text": [
      "\r\n",
      "  1%|          | 917504/170498071 [00:00<01:21, 2076753.90it/s]"
     ]
    },
    {
     "name": "stderr",
     "output_type": "stream",
     "text": [
      "\r\n",
      "  2%|▏         | 2686976/170498071 [00:00<00:27, 6170074.78it/s]"
     ]
    },
    {
     "name": "stderr",
     "output_type": "stream",
     "text": [
      "\r\n",
      "  3%|▎         | 5439488/170498071 [00:00<00:13, 11982697.83it/s]"
     ]
    },
    {
     "name": "stderr",
     "output_type": "stream",
     "text": [
      "\r\n",
      "  5%|▌         | 9076736/170498071 [00:00<00:08, 18802851.28it/s]"
     ]
    },
    {
     "name": "stderr",
     "output_type": "stream",
     "text": [
      "\r\n",
      "  7%|▋         | 12648448/170498071 [00:00<00:06, 23615307.65it/s]"
     ]
    },
    {
     "name": "stderr",
     "output_type": "stream",
     "text": [
      "\r\n",
      "  9%|▉         | 16187392/170498071 [00:01<00:06, 23445133.20it/s]"
     ]
    },
    {
     "name": "stderr",
     "output_type": "stream",
     "text": [
      "\r\n",
      " 12%|█▏        | 19791872/170498071 [00:01<00:05, 26759073.30it/s]"
     ]
    },
    {
     "name": "stderr",
     "output_type": "stream",
     "text": [
      "\r\n",
      " 14%|█▎        | 23396352/170498071 [00:01<00:05, 29259123.71it/s]"
     ]
    },
    {
     "name": "stderr",
     "output_type": "stream",
     "text": [
      "\r\n",
      " 16%|█▌        | 26542080/170498071 [00:01<00:04, 29657100.76it/s]"
     ]
    },
    {
     "name": "stderr",
     "output_type": "stream",
     "text": [
      "\r\n",
      " 17%|█▋        | 29687808/170498071 [00:01<00:04, 29867774.72it/s]"
     ]
    },
    {
     "name": "stderr",
     "output_type": "stream",
     "text": [
      "\r\n",
      " 20%|█▉        | 33292288/170498071 [00:01<00:04, 31631598.43it/s]"
     ]
    },
    {
     "name": "stderr",
     "output_type": "stream",
     "text": [
      "\r\n",
      " 22%|██▏       | 36896768/170498071 [00:01<00:04, 32903949.34it/s]"
     ]
    },
    {
     "name": "stderr",
     "output_type": "stream",
     "text": [
      "\r\n",
      " 24%|██▍       | 40501248/170498071 [00:01<00:03, 33800803.77it/s]"
     ]
    },
    {
     "name": "stderr",
     "output_type": "stream",
     "text": [
      "\r\n",
      " 26%|██▌       | 43974656/170498071 [00:01<00:03, 34056050.24it/s]"
     ]
    },
    {
     "name": "stderr",
     "output_type": "stream",
     "text": [
      "\r\n",
      " 28%|██▊       | 47415296/170498071 [00:02<00:03, 32257306.64it/s]"
     ]
    },
    {
     "name": "stderr",
     "output_type": "stream",
     "text": [
      "\r\n",
      " 30%|██▉       | 50855936/170498071 [00:02<00:03, 32830903.67it/s]"
     ]
    },
    {
     "name": "stderr",
     "output_type": "stream",
     "text": [
      "\r\n",
      " 32%|███▏      | 54460416/170498071 [00:02<00:03, 31881735.56it/s]"
     ]
    },
    {
     "name": "stderr",
     "output_type": "stream",
     "text": [
      "\r\n",
      " 34%|███▍      | 57704448/170498071 [00:02<00:03, 31295866.65it/s]"
     ]
    },
    {
     "name": "stderr",
     "output_type": "stream",
     "text": [
      "\r\n",
      " 36%|███▌      | 60882944/170498071 [00:02<00:03, 31165347.39it/s]"
     ]
    },
    {
     "name": "stderr",
     "output_type": "stream",
     "text": [
      "\r\n",
      " 38%|███▊      | 64192512/170498071 [00:02<00:03, 31703624.57it/s]"
     ]
    },
    {
     "name": "stderr",
     "output_type": "stream",
     "text": [
      "\r\n",
      " 40%|███▉      | 67469312/170498071 [00:02<00:03, 31887354.12it/s]"
     ]
    },
    {
     "name": "stderr",
     "output_type": "stream",
     "text": [
      "\r\n",
      " 42%|████▏     | 71073792/170498071 [00:02<00:03, 33075385.88it/s]"
     ]
    },
    {
     "name": "stderr",
     "output_type": "stream",
     "text": [
      "\r\n",
      " 44%|████▍     | 74711040/170498071 [00:02<00:02, 34029178.04it/s]"
     ]
    },
    {
     "name": "stderr",
     "output_type": "stream",
     "text": [
      "\r\n",
      " 46%|████▌     | 78184448/170498071 [00:02<00:02, 34236221.23it/s]"
     ]
    },
    {
     "name": "stderr",
     "output_type": "stream",
     "text": [
      "\r\n",
      " 48%|████▊     | 81625088/170498071 [00:03<00:02, 33075545.69it/s]"
     ]
    },
    {
     "name": "stderr",
     "output_type": "stream",
     "text": [
      "\r\n",
      " 50%|████▉     | 84967424/170498071 [00:03<00:02, 33005267.13it/s]"
     ]
    },
    {
     "name": "stderr",
     "output_type": "stream",
     "text": [
      "\r\n",
      " 52%|█████▏    | 88276992/170498071 [00:03<00:02, 32959514.54it/s]"
     ]
    },
    {
     "name": "stderr",
     "output_type": "stream",
     "text": [
      "\r\n",
      " 54%|█████▍    | 91914240/170498071 [00:03<00:02, 33444993.90it/s]"
     ]
    },
    {
     "name": "stderr",
     "output_type": "stream",
     "text": [
      "\r\n",
      " 56%|█████▌    | 95289344/170498071 [00:03<00:02, 33242759.12it/s]"
     ]
    },
    {
     "name": "stderr",
     "output_type": "stream",
     "text": [
      "\r\n",
      " 58%|█████▊    | 98631680/170498071 [00:03<00:02, 32668356.69it/s]"
     ]
    },
    {
     "name": "stderr",
     "output_type": "stream",
     "text": [
      "\r\n",
      " 60%|█████▉    | 101908480/170498071 [00:03<00:02, 32390368.68it/s]"
     ]
    },
    {
     "name": "stderr",
     "output_type": "stream",
     "text": [
      "\r\n",
      " 62%|██████▏   | 105283584/170498071 [00:03<00:02, 32448008.85it/s]"
     ]
    },
    {
     "name": "stderr",
     "output_type": "stream",
     "text": [
      "\r\n",
      " 64%|██████▎   | 108560384/170498071 [00:03<00:01, 31728050.02it/s]"
     ]
    },
    {
     "name": "stderr",
     "output_type": "stream",
     "text": [
      "\r\n",
      " 66%|██████▌   | 111837184/170498071 [00:04<00:01, 31990908.40it/s]"
     ]
    },
    {
     "name": "stderr",
     "output_type": "stream",
     "text": [
      "\r\n",
      " 68%|██████▊   | 115113984/170498071 [00:04<00:01, 32131070.44it/s]"
     ]
    },
    {
     "name": "stderr",
     "output_type": "stream",
     "text": [
      "\r\n",
      " 70%|██████▉   | 118751232/170498071 [00:04<00:01, 33348755.89it/s]"
     ]
    },
    {
     "name": "stderr",
     "output_type": "stream",
     "text": [
      "\r\n",
      " 72%|███████▏  | 122355712/170498071 [00:04<00:01, 34125480.21it/s]"
     ]
    },
    {
     "name": "stderr",
     "output_type": "stream",
     "text": [
      "\r\n",
      " 74%|███████▍  | 125829120/170498071 [00:04<00:01, 34074374.89it/s]"
     ]
    },
    {
     "name": "stderr",
     "output_type": "stream",
     "text": [
      "\r\n",
      " 76%|███████▌  | 129269760/170498071 [00:04<00:01, 32810103.61it/s]"
     ]
    },
    {
     "name": "stderr",
     "output_type": "stream",
     "text": [
      "\r\n",
      " 78%|███████▊  | 132612096/170498071 [00:04<00:01, 32961244.09it/s]"
     ]
    },
    {
     "name": "stderr",
     "output_type": "stream",
     "text": [
      "\r\n",
      " 80%|███████▉  | 136183808/170498071 [00:04<00:01, 33764690.85it/s]"
     ]
    },
    {
     "name": "stderr",
     "output_type": "stream",
     "text": [
      "\r\n",
      " 82%|████████▏ | 139591680/170498071 [00:04<00:00, 33588107.75it/s]"
     ]
    },
    {
     "name": "stderr",
     "output_type": "stream",
     "text": [
      "\r\n",
      " 84%|████████▍ | 142966784/170498071 [00:04<00:00, 32807292.81it/s]"
     ]
    },
    {
     "name": "stderr",
     "output_type": "stream",
     "text": [
      "\r\n",
      " 86%|████████▌ | 146309120/170498071 [00:05<00:00, 32466607.64it/s]"
     ]
    },
    {
     "name": "stderr",
     "output_type": "stream",
     "text": [
      "\r\n",
      " 88%|████████▊ | 149585920/170498071 [00:05<00:00, 32030923.66it/s]"
     ]
    },
    {
     "name": "stderr",
     "output_type": "stream",
     "text": [
      "\r\n",
      " 90%|████████▉ | 152895488/170498071 [00:05<00:00, 32316247.97it/s]"
     ]
    },
    {
     "name": "stderr",
     "output_type": "stream",
     "text": [
      "\r\n",
      " 92%|█████████▏| 156139520/170498071 [00:05<00:00, 31987956.05it/s]"
     ]
    },
    {
     "name": "stderr",
     "output_type": "stream",
     "text": [
      "\r\n",
      " 94%|█████████▎| 159481856/170498071 [00:05<00:00, 32251051.26it/s]"
     ]
    },
    {
     "name": "stderr",
     "output_type": "stream",
     "text": [
      "\r\n",
      " 95%|█████████▌| 162791424/170498071 [00:05<00:00, 32402610.55it/s]"
     ]
    },
    {
     "name": "stderr",
     "output_type": "stream",
     "text": [
      "\r\n",
      " 98%|█████████▊| 166395904/170498071 [00:05<00:00, 33455757.87it/s]"
     ]
    },
    {
     "name": "stderr",
     "output_type": "stream",
     "text": [
      "\r\n",
      "100%|█████████▉| 169869312/170498071 [00:05<00:00, 33804961.52it/s]"
     ]
    },
    {
     "name": "stderr",
     "output_type": "stream",
     "text": [
      "\r\n",
      "100%|██████████| 170498071/170498071 [00:05<00:00, 29529171.87it/s]"
     ]
    },
    {
     "name": "stderr",
     "output_type": "stream",
     "text": [
      "\n"
     ]
    },
    {
     "name": "stdout",
     "output_type": "stream",
     "text": [
      "Extracting ./data/cifar-10-python.tar.gz to ./data\n"
     ]
    },
    {
     "name": "stdout",
     "output_type": "stream",
     "text": [
      "Files already downloaded and verified\n"
     ]
    }
   ],
   "source": [
    "transform = transforms.Compose([\n",
    "    transforms.RandomHorizontalFlip(), \n",
    "    transforms.RandomCrop(32, padding=4),  \n",
    "    transforms.ToTensor(),\n",
    "    transforms.Normalize((0.5, 0.5, 0.5), (0.5, 0.5, 0.5))\n",
    "])\n",
    "train_dataset = torchvision.datasets.CIFAR10(root='./data', transform = transform, train=True,  download=True)\n",
    "test_dataset = torchvision.datasets.CIFAR10(root='./data',transform = transform, train=False, download=True)\n",
    "train_loader = torch.utils.data.DataLoader(train_dataset, batch_size=64, shuffle=True)\n",
    "test_loader = torch.utils.data.DataLoader(test_dataset, batch_size=64, shuffle=False)\n"
   ]
  },
  {
   "cell_type": "markdown",
   "id": "dfd6a666",
   "metadata": {
    "papermill": {
     "duration": 0.013036,
     "end_time": "2023-08-18T05:27:04.106866",
     "exception": false,
     "start_time": "2023-08-18T05:27:04.093830",
     "status": "completed"
    },
    "tags": []
   },
   "source": [
    "Details about the dataset:"
   ]
  },
  {
   "cell_type": "code",
   "execution_count": 4,
   "id": "9719f444",
   "metadata": {
    "execution": {
     "iopub.execute_input": "2023-08-18T05:27:04.135699Z",
     "iopub.status.busy": "2023-08-18T05:27:04.134179Z",
     "iopub.status.idle": "2023-08-18T05:27:04.140649Z",
     "shell.execute_reply": "2023-08-18T05:27:04.139536Z"
    },
    "papermill": {
     "duration": 0.022607,
     "end_time": "2023-08-18T05:27:04.142642",
     "exception": false,
     "start_time": "2023-08-18T05:27:04.120035",
     "status": "completed"
    },
    "tags": []
   },
   "outputs": [
    {
     "name": "stdout",
     "output_type": "stream",
     "text": [
      "Total samples: 60000\n",
      "Number of classes: 10\n",
      "Classes: ['airplane', 'automobile', 'bird', 'cat', 'deer', 'dog', 'frog', 'horse', 'ship', 'truck']\n"
     ]
    }
   ],
   "source": [
    "print(\"Total samples:\", len(train_dataset) + len(test_dataset))\n",
    "print(\"Number of classes:\", len(train_dataset.classes))\n",
    "print(\"Classes:\", train_dataset.classes)"
   ]
  },
  {
   "cell_type": "code",
   "execution_count": 5,
   "id": "d580951f",
   "metadata": {
    "execution": {
     "iopub.execute_input": "2023-08-18T05:27:04.170936Z",
     "iopub.status.busy": "2023-08-18T05:27:04.170104Z",
     "iopub.status.idle": "2023-08-18T05:27:04.239013Z",
     "shell.execute_reply": "2023-08-18T05:27:04.237668Z"
    },
    "papermill": {
     "duration": 0.085167,
     "end_time": "2023-08-18T05:27:04.241088",
     "exception": false,
     "start_time": "2023-08-18T05:27:04.155921",
     "status": "completed"
    },
    "tags": []
   },
   "outputs": [
    {
     "name": "stdout",
     "output_type": "stream",
     "text": [
      "Shape of the first image: torch.Size([3, 32, 32])\n"
     ]
    }
   ],
   "source": [
    "first_image_shape = train_dataset[0][0].shape\n",
    "print(\"Shape of the first image:\", first_image_shape)\n"
   ]
  },
  {
   "cell_type": "markdown",
   "id": "482f26de",
   "metadata": {
    "papermill": {
     "duration": 0.013516,
     "end_time": "2023-08-18T05:27:04.267953",
     "exception": false,
     "start_time": "2023-08-18T05:27:04.254437",
     "status": "completed"
    },
    "tags": []
   },
   "source": [
    "Each image in the dataset has 3 colour channels (RBG) and are of 32x32 dimensions."
   ]
  },
  {
   "cell_type": "code",
   "execution_count": 6,
   "id": "cdc5bb57",
   "metadata": {
    "execution": {
     "iopub.execute_input": "2023-08-18T05:27:04.296469Z",
     "iopub.status.busy": "2023-08-18T05:27:04.295622Z",
     "iopub.status.idle": "2023-08-18T05:27:04.589441Z",
     "shell.execute_reply": "2023-08-18T05:27:04.587989Z"
    },
    "papermill": {
     "duration": 0.312821,
     "end_time": "2023-08-18T05:27:04.594113",
     "exception": false,
     "start_time": "2023-08-18T05:27:04.281292",
     "status": "completed"
    },
    "tags": []
   },
   "outputs": [
    {
     "data": {
      "image/png": "[encoded data removed]",
      "text/plain": [
       "<Figure size 700x400 with 4 Axes>"
      ]
     },
     "metadata": {},
     "output_type": "display_data"
    }
   ],
   "source": [
    "classes = ('plane', 'car', 'bird', 'cat', 'deer', 'dog', 'frog', 'horse', 'ship', 'truck')\n",
    "\n",
    "# Get a batch of images and labels\n",
    "dataiter = iter(train_loader)\n",
    "images, labels = next(dataiter)\n",
    "\n",
    "# Convert images to numpy arrays for display\n",
    "images = images.numpy()\n",
    "\n",
    "# Plot the images in the batch along with the corresponding labels\n",
    "fig = plt.figure(figsize=(7, 4))\n",
    "for idx in np.arange(4):\n",
    "    ax = fig.add_subplot(1, 4, idx+1, xticks=[], yticks=[])\n",
    "    plt.imshow(np.transpose(images[idx], (1, 2, 0)))\n",
    "    ax.set_title(classes[labels[idx]])\n",
    "plt.show()"
   ]
  },
  {
   "cell_type": "code",
   "execution_count": 7,
   "id": "3fe1e3f2",
   "metadata": {
    "execution": {
     "iopub.execute_input": "2023-08-18T05:27:04.646529Z",
     "iopub.status.busy": "2023-08-18T05:27:04.646214Z",
     "iopub.status.idle": "2023-08-18T05:27:04.723418Z",
     "shell.execute_reply": "2023-08-18T05:27:04.721352Z"
    },
    "papermill": {
     "duration": 0.099585,
     "end_time": "2023-08-18T05:27:04.725442",
     "exception": false,
     "start_time": "2023-08-18T05:27:04.625857",
     "status": "completed"
    },
    "tags": []
   },
   "outputs": [
    {
     "name": "stdout",
     "output_type": "stream",
     "text": [
      "True\n"
     ]
    }
   ],
   "source": [
    "device = torch.device(\"cuda:0\" if torch.cuda.is_available() else \"cpu\")\n",
    "print(torch.cuda.is_available())\n",
    "\n",
    "def accuracy():\n",
    "    correct = 0\n",
    "    total = 0\n",
    "    with torch.no_grad():\n",
    "        for data in test_loader:\n",
    "            images, labels = data\n",
    "            images, labels = images.to(device), labels.to(device)\n",
    "            outputs = net(images)\n",
    "            _, predicted = torch.max(outputs.data, 1)\n",
    "            total += labels.size(0)\n",
    "            correct += (predicted == labels).sum().item()\n",
    "            \n",
    "    return format(100 * correct / total)\n",
    "\n",
    "    \n",
    "def load_dataset(batch_size):\n",
    "    train_dataset = torchvision.datasets.CIFAR10(root='./data', train=True, transform=transform, download=True)\n",
    "    train_loader = torch.utils.data.DataLoader(train_dataset, batch_size=batch_size, shuffle=True)\n",
    "    test_dataset = torchvision.datasets.CIFAR10(root='./data', train=False, transform=transform, download=True)\n",
    "    test_loader = torch.utils.data.DataLoader(test_dataset, batch_size=batch_size, shuffle=False)\n",
    "    \n",
    "def train_model(epochs,lr):\n",
    "    criterion = nn.CrossEntropyLoss()\n",
    "    optimizer = optim.Adam(net.parameters(), lr=lr)\n",
    "    # Training loop\n",
    "    for epoch in range(epochs):\n",
    "        net.train()\n",
    "        running_loss = 0.0\n",
    "        for i, data in enumerate(train_loader, 0):\n",
    "            inputs, labels = data\n",
    "            inputs, labels = inputs.to(device), labels.to(device)\n",
    "            optimizer.zero_grad()\n",
    "            outputs = net(inputs)\n",
    "            loss = criterion(outputs, labels)\n",
    "            loss.backward()\n",
    "            optimizer.step()\n",
    "            running_loss += loss.item()\n",
    "        print(f\"Epoch [{epoch + 1}/{epochs}] - Loss: {running_loss / len(train_loader):.4f}\")"
   ]
  },
  {
   "cell_type": "markdown",
   "id": "88b8365f",
   "metadata": {
    "papermill": {
     "duration": 0.013484,
     "end_time": "2023-08-18T05:27:04.752885",
     "exception": false,
     "start_time": "2023-08-18T05:27:04.739401",
     "status": "completed"
    },
    "tags": []
   },
   "source": [
    "# Why DL and not just ML models for image classification?"
   ]
  },
  {
   "cell_type": "code",
   "execution_count": null,
   "id": "bddf8062",
   "metadata": {
    "execution": {
     "iopub.execute_input": "2023-08-16T14:09:49.893342Z",
     "iopub.status.busy": "2023-08-16T14:09:49.892959Z",
     "iopub.status.idle": "2023-08-16T14:14:38.137951Z",
     "shell.execute_reply": "2023-08-16T14:14:38.135699Z",
     "shell.execute_reply.started": "2023-08-16T14:09:49.893309Z"
    },
    "papermill": {
     "duration": null,
     "end_time": null,
     "exception": false,
     "start_time": "2023-08-18T05:27:04.766648",
     "status": "running"
    },
    "tags": []
   },
   "outputs": [],
   "source": [
    "train_dataset = torchvision.datasets.CIFAR10(root='./data', transform = transform, train=True,  download=True)\n",
    "test_dataset = torchvision.datasets.CIFAR10(root='./data',transform = transform, train=False, download=True)\n",
    "train_loader = torch.utils.data.DataLoader(train_dataset, batch_size=len(train_dataset), shuffle=True)\n",
    "test_loader = torch.utils.data.DataLoader(test_dataset, batch_size=len(test_dataset), shuffle=False)\n",
    "\n",
    "# Convert dataset to numpy arrays\n",
    "x_train = []\n",
    "y_train = []\n",
    "for data in train_loader:\n",
    "    images, labels = data\n",
    "    x_train = images.numpy()\n",
    "    y_train = labels.numpy()\n",
    "\n",
    "x_test = []\n",
    "y_test = []\n",
    "for data in test_loader:\n",
    "    images, labels = data\n",
    "    x_test = images.numpy()\n",
    "    y_test = labels.numpy()\n",
    "\n",
    "x_train2 = x_train.reshape((len(x_train), -1))\n",
    "x_test2 = x_test.reshape((len(x_test), -1))\n",
    "\n",
    "# Train Random Forest Classifier\n",
    "model = RandomForestClassifier()\n",
    "model.fit(x_train2, y_train)\n",
    "\n",
    "# Predict and evaluate\n",
    "y_pred = model.predict(x_test2)\n",
    "accuracy = accuracy_score(y_pred, y_test)\n",
    "print(\"Accuracy:\", accuracy)\n",
    "print(classification_report(y_pred, y_test))\n"
   ]
  },
  {
   "cell_type": "markdown",
   "id": "532e692f",
   "metadata": {
    "papermill": {
     "duration": null,
     "end_time": null,
     "exception": null,
     "start_time": null,
     "status": "pending"
    },
    "tags": []
   },
   "source": [
    "Even a RandomForestClassifier gives only 47% accuracy even with normalizing the data properly, hence proving the inaccuracy of ML models with unstructered and spacial data."
   ]
  },
  {
   "cell_type": "markdown",
   "id": "3d8b4fba",
   "metadata": {
    "papermill": {
     "duration": null,
     "end_time": null,
     "exception": null,
     "start_time": null,
     "status": "pending"
    },
    "tags": []
   },
   "source": [
    "# Starting with Neural networks"
   ]
  },
  {
   "cell_type": "code",
   "execution_count": null,
   "id": "e50490b2",
   "metadata": {
    "execution": {
     "iopub.execute_input": "2023-08-17T09:28:17.357554Z",
     "iopub.status.busy": "2023-08-17T09:28:17.356507Z",
     "iopub.status.idle": "2023-08-17T09:31:56.481708Z",
     "shell.execute_reply": "2023-08-17T09:31:56.480657Z",
     "shell.execute_reply.started": "2023-08-17T09:28:17.357509Z"
    },
    "papermill": {
     "duration": null,
     "end_time": null,
     "exception": null,
     "start_time": null,
     "status": "pending"
    },
    "tags": []
   },
   "outputs": [],
   "source": [
    "\n",
    "load_dataset(64)\n",
    "\n",
    "#A NN with no convolutional layers\n",
    "class Net(nn.Module):\n",
    "    def __init__(self):\n",
    "        super(Net, self).__init__()\n",
    "        self.fc1 = nn.Linear(32 * 32 * 3, 256)\n",
    "        self.fc2 = nn.Linear(256, 128)\n",
    "        self.fc3 = nn.Linear(128, 10)\n",
    "    \n",
    "    def forward(self, x):\n",
    "        x = x.view(-1, 32 * 32 * 3)\n",
    "        x = torch.relu(self.fc1(x))\n",
    "        x = torch.relu(self.fc2(x))\n",
    "        x = self.fc3(x)\n",
    "        return x\n",
    "\n",
    "net = Net().to(device)\n",
    "train_model(10,0.001)\n",
    "accuracy()"
   ]
  },
  {
   "cell_type": "markdown",
   "id": "d29f0012",
   "metadata": {
    "papermill": {
     "duration": null,
     "end_time": null,
     "exception": null,
     "start_time": null,
     "status": "pending"
    },
    "tags": []
   },
   "source": [
    "The accuracy is still only 26% suggesting that the NNs don't take the spacial structure of the input images into account. So, we add  convolutional layers to flatten the images into a single vector which can be passed into the dense layer."
   ]
  },
  {
   "cell_type": "code",
   "execution_count": null,
   "id": "95c564e8",
   "metadata": {
    "execution": {
     "iopub.execute_input": "2023-08-16T14:43:58.965632Z",
     "iopub.status.busy": "2023-08-16T14:43:58.965234Z",
     "iopub.status.idle": "2023-08-16T14:48:55.590645Z",
     "shell.execute_reply": "2023-08-16T14:48:55.589584Z",
     "shell.execute_reply.started": "2023-08-16T14:43:58.965600Z"
    },
    "papermill": {
     "duration": null,
     "end_time": null,
     "exception": null,
     "start_time": null,
     "status": "pending"
    },
    "tags": []
   },
   "outputs": [],
   "source": [
    "\n",
    "#preprocessing the images\n",
    "transform = transforms.Compose([\n",
    "    transforms.RandomCrop(32, padding=4),\n",
    "    transforms.RandomHorizontalFlip(),\n",
    "    transforms.ToTensor(),\n",
    "    transforms.Normalize((0.5, 0.5, 0.5), (0.5, 0.5, 0.5)),\n",
    "])\n",
    "\n",
    "load_dataset(64)\n",
    "\n",
    "#Defining a CNN with 3 convolutional layers\n",
    "class Net(nn.Module):\n",
    "    def __init__(self):\n",
    "        super(Net, self).__init__()\n",
    "        self.conv1 = nn.Conv2d(3, 32, kernel_size=3, padding=1)\n",
    "        self.conv2 = nn.Conv2d(32, 64, kernel_size=3, padding=1)\n",
    "        self.conv3 = nn.Conv2d(64, 128, kernel_size=3, padding=1)\n",
    "        self.pool = nn.MaxPool2d(2, 2)\n",
    "        self.fc = nn.Linear(128 * 4 * 4, 10)  \n",
    "\n",
    "    def forward(self, x):\n",
    "        x = self.pool(F.relu(self.conv1(x)))\n",
    "        x = self.pool(F.relu(self.conv2(x)))\n",
    "        x = self.pool(F.relu(self.conv3(x)))\n",
    "        x = x.view(-1, 128 * 4 * 4)\n",
    "        x = self.fc(x)\n",
    "        return x\n",
    "    \n",
    "net = Net().to(device)\n",
    "train_model(10,0.001)\n",
    "accuracy()"
   ]
  },
  {
   "cell_type": "markdown",
   "id": "fa9602f7",
   "metadata": {
    "papermill": {
     "duration": null,
     "end_time": null,
     "exception": null,
     "start_time": null,
     "status": "pending"
    },
    "tags": []
   },
   "source": [
    "A simple CNN with 3 convolutional layers with appropriate hyper parameters ( will be explain below), yields an accuracy of 71%.\n",
    "\n",
    "**Hyperparameters:**\n",
    "* batch_size: the number of observations that will be passed to the NN at each training step, increasing the batch_size results in lesser number of parameter updates hence speeding up the convergence.\n",
    "* learning_rate: the step size taken during optimization, a bigger lr could result in jumping of the values above the minima.\n",
    "* epochs: the number of times the full training data is shown to the NN. Epochs is set to the least value before the loss starts taking negligible changes in its value.\n"
   ]
  },
  {
   "attachments": {
    "ea95c940-2a3a-45eb-aab8-492120d186ad.png": {
     "image/png": "[encoded data removed]"
    }
   },
   "cell_type": "markdown",
   "id": "aaf4053a",
   "metadata": {
    "papermill": {
     "duration": null,
     "end_time": null,
     "exception": null,
     "start_time": null,
     "status": "pending"
    },
    "tags": []
   },
   "source": [
    "![image.png](attachment:ea95c940-2a3a-45eb-aab8-492120d186ad.png)"
   ]
  },
  {
   "cell_type": "code",
   "execution_count": null,
   "id": "f551874a",
   "metadata": {
    "execution": {
     "iopub.execute_input": "2023-08-16T14:49:24.353402Z",
     "iopub.status.busy": "2023-08-16T14:49:24.353048Z",
     "iopub.status.idle": "2023-08-16T14:56:07.175925Z",
     "shell.execute_reply": "2023-08-16T14:56:07.174968Z",
     "shell.execute_reply.started": "2023-08-16T14:49:24.353372Z"
    },
    "papermill": {
     "duration": null,
     "end_time": null,
     "exception": null,
     "start_time": null,
     "status": "pending"
    },
    "tags": []
   },
   "outputs": [],
   "source": [
    "# Load CIFAR-10 dataset and normalize\n",
    "transform = transforms.Compose([transforms.ToTensor(), transforms.Normalize((0.5, 0.5, 0.5), (0.5, 0.5, 0.5))])\n",
    "load_dataset(16)\n",
    "\n",
    "# Define the neural network with 9 layers\n",
    "class Net(nn.Module):\n",
    "    def __init__(self):\n",
    "        super(Net, self).__init__()\n",
    "        self.conv1 = nn.Conv2d(3, 32, kernel_size=3, padding=1)\n",
    "        self.conv2 = nn.Conv2d(32, 64, kernel_size=3, padding=1)\n",
    "        self.conv3 = nn.Conv2d(64, 128, kernel_size=3, padding=1)\n",
    "        self.conv4 = nn.Conv2d(128, 256, kernel_size=3, padding=1)\n",
    "        self.conv5 = nn.Conv2d(256, 512, kernel_size=3, padding=1)\n",
    "        self.pool = nn.MaxPool2d(2, 2)\n",
    "        self.fc1 = nn.Linear(512 * 1 * 1, 256)  # Adjusted input size\n",
    "        self.fc2 = nn.Linear(256, 128)\n",
    "        self.fc3 = nn.Linear(128, 10)  # 10 classes in CIFAR-10\n",
    "\n",
    "    def forward(self, x):\n",
    "        x = self.pool(F.relu(self.conv1(x)))\n",
    "        x = self.pool(F.relu(self.conv2(x)))\n",
    "        x = self.pool(F.relu(self.conv3(x)))\n",
    "        x = self.pool(F.relu(self.conv4(x)))\n",
    "        x = self.pool(F.relu(self.conv5(x)))\n",
    "        x = x.view(-1, 512 * 1 * 1)  # Adjusted flattening\n",
    "        x = F.relu(self.fc1(x))\n",
    "        x = F.relu(self.fc2(x))\n",
    "        x = self.fc3(x)\n",
    "        return x\n",
    "\n",
    "\n",
    "# Instantiate the network and move it to the GPU\n",
    "net = Net().to(device)\n",
    "train_model(20,0.001)\n",
    "accuracy()\n"
   ]
  },
  {
   "cell_type": "markdown",
   "id": "e87fcee1",
   "metadata": {
    "papermill": {
     "duration": null,
     "end_time": null,
     "exception": null,
     "start_time": null,
     "status": "pending"
    },
    "tags": []
   },
   "source": [
    "A 9 layer NN gives almost the same accuracy than a 3 layer one we built earlier, proving that, increasing the layers is not doing much improvement to this NN.\n",
    "\n",
    "Hence, decreasing the layers but increasing the NN complexity might give better results"
   ]
  },
  {
   "cell_type": "code",
   "execution_count": null,
   "id": "e6c7f0c0",
   "metadata": {
    "execution": {
     "iopub.execute_input": "2023-08-16T17:38:13.664675Z",
     "iopub.status.busy": "2023-08-16T17:38:13.664308Z",
     "iopub.status.idle": "2023-08-16T17:38:13.679411Z",
     "shell.execute_reply": "2023-08-16T17:38:13.678272Z",
     "shell.execute_reply.started": "2023-08-16T17:38:13.664640Z"
    },
    "papermill": {
     "duration": null,
     "end_time": null,
     "exception": null,
     "start_time": null,
     "status": "pending"
    },
    "tags": []
   },
   "outputs": [],
   "source": [
    "results_df"
   ]
  },
  {
   "cell_type": "markdown",
   "id": "e2503d9e",
   "metadata": {
    "papermill": {
     "duration": null,
     "end_time": null,
     "exception": null,
     "start_time": null,
     "status": "pending"
    },
    "tags": []
   },
   "source": [
    "Table shows that a learning rate of 0.001 and a batch_size of 64 yeilds the best accuracy for this model."
   ]
  },
  {
   "cell_type": "code",
   "execution_count": null,
   "id": "97d0ffcb",
   "metadata": {
    "execution": {
     "iopub.execute_input": "2023-08-17T06:33:20.001045Z",
     "iopub.status.busy": "2023-08-17T06:33:20.000663Z",
     "iopub.status.idle": "2023-08-17T06:41:20.170181Z",
     "shell.execute_reply": "2023-08-17T06:41:20.169058Z",
     "shell.execute_reply.started": "2023-08-17T06:33:20.001008Z"
    },
    "papermill": {
     "duration": null,
     "end_time": null,
     "exception": null,
     "start_time": null,
     "status": "pending"
    },
    "tags": []
   },
   "outputs": [],
   "source": [
    "# Define the neural network 6 layers\n",
    "class NetF(nn.Module):\n",
    "    def __init__(self):\n",
    "        super(NetF, self).__init__()\n",
    "        self.conv1 = nn.Conv2d(3, 64, kernel_size=3, padding=1)\n",
    "        self.conv2 = nn.Conv2d(64, 128, kernel_size=3, padding=1)\n",
    "        self.conv3 = nn.Conv2d(128, 256, kernel_size=3, padding=1)\n",
    "        self.pool = nn.MaxPool2d(2, 2)\n",
    "        self.fc1 = nn.Linear(256 * 4 * 4, 512)\n",
    "        self.fc2 = nn.Linear(512, 256)\n",
    "        self.fc3 = nn.Linear(256, 10) \n",
    "\n",
    "    def forward(self, x):\n",
    "        x = self.pool(nn.functional.relu(self.conv1(x)))\n",
    "        x = self.pool(nn.functional.relu(self.conv2(x)))\n",
    "        x = self.pool(nn.functional.relu(self.conv3(x)))\n",
    "        x = x.view(-1, 256 * 4 * 4)\n",
    "        x = nn.functional.relu(self.fc1(x))\n",
    "        x = nn.functional.relu(self.fc2(x))\n",
    "        x = self.fc3(x)\n",
    "        return x\n",
    "\n",
    "net = NetF().to(device)\n",
    "train_model(20,0.001)\n",
    "accuracy()\n"
   ]
  },
  {
   "cell_type": "code",
   "execution_count": null,
   "id": "1771f6e8",
   "metadata": {
    "_kg_hide-input": true,
    "_kg_hide-output": true,
    "execution": {
     "iopub.execute_input": "2023-08-16T16:28:56.695315Z",
     "iopub.status.busy": "2023-08-16T16:28:56.694649Z",
     "iopub.status.idle": "2023-08-16T17:33:39.619804Z",
     "shell.execute_reply": "2023-08-16T17:33:39.617538Z",
     "shell.execute_reply.started": "2023-08-16T16:28:56.695278Z"
    },
    "papermill": {
     "duration": null,
     "end_time": null,
     "exception": null,
     "start_time": null,
     "status": "pending"
    },
    "tags": []
   },
   "outputs": [],
   "source": [
    "import pandas as pd\n",
    "\n",
    "# Define hyperparameters to tune\n",
    "learning_rates = [0.0001, 0.001, 0.01, 0.1]\n",
    "batch_sizes = [64, 32]\n",
    "\n",
    "results = []\n",
    "\n",
    "for lr in learning_rates:\n",
    "    for batch_size in batch_sizes:\n",
    "        # Load dataset\n",
    "        train_loader = torch.utils.data.DataLoader(train_dataset, batch_size=batch_size, shuffle=True)\n",
    "        test_loader = torch.utils.data.DataLoader(test_dataset, batch_size=batch_size, shuffle=False)\n",
    "        \n",
    "        #training the model\n",
    "        net = NetF().to(device)\n",
    "        train_model(20, lr)\n",
    "        \n",
    "        #Calculating accuracy\n",
    "        acc = accuracy()\n",
    "        \n",
    "        results.append({'Learning Rate': lr, 'Batch Size': batch_size, 'Accuracy': acc})\n",
    "        print(\"done\")\n",
    "# Create a DataFrame from the results\n",
    "results_df = pd.DataFrame(results)\n",
    "print(results_df)"
   ]
  },
  {
   "cell_type": "markdown",
   "id": "2c72daaf",
   "metadata": {
    "papermill": {
     "duration": null,
     "end_time": null,
     "exception": null,
     "start_time": null,
     "status": "pending"
    },
    "tags": []
   },
   "source": [
    "This model gives an accuracy of around 81%"
   ]
  },
  {
   "cell_type": "markdown",
   "id": "cad620da",
   "metadata": {
    "papermill": {
     "duration": null,
     "end_time": null,
     "exception": null,
     "start_time": null,
     "status": "pending"
    },
    "tags": []
   },
   "source": [
    "# Analyzing the model's performance"
   ]
  },
  {
   "cell_type": "code",
   "execution_count": null,
   "id": "7dd94c63",
   "metadata": {
    "execution": {
     "iopub.execute_input": "2023-08-17T08:53:00.485802Z",
     "iopub.status.busy": "2023-08-17T08:53:00.485393Z",
     "iopub.status.idle": "2023-08-17T08:53:05.454805Z",
     "shell.execute_reply": "2023-08-17T08:53:05.453678Z",
     "shell.execute_reply.started": "2023-08-17T08:53:00.485770Z"
    },
    "papermill": {
     "duration": null,
     "end_time": null,
     "exception": null,
     "start_time": null,
     "status": "pending"
    },
    "tags": []
   },
   "outputs": [],
   "source": [
    "from sklearn.metrics import confusion_matrix\n",
    "import matplotlib.pyplot as plt\n",
    "import seaborn as sns\n",
    "\n",
    "# Set the network to evaluation mode\n",
    "net.eval()\n",
    "\n",
    "predicted_labels = []\n",
    "true_labels = []\n",
    "\n",
    "# Iterate through the test dataset and collect predicted and true labels\n",
    "with torch.no_grad():\n",
    "    for data in test_loader:\n",
    "        images, labels = data\n",
    "        images, labels = images.to(device), labels.to(device)\n",
    "        outputs = net(images)\n",
    "        _, predicted = torch.max(outputs.data, 1)\n",
    "        predicted_labels.extend(predicted.cpu().numpy())\n",
    "        true_labels.extend(labels.cpu().numpy())\n",
    "\n",
    "# Calculate the confusion matrix\n",
    "conf_mat = confusion_matrix(true_labels, predicted_labels)\n",
    "\n",
    "# Define class names\n",
    "class_names = ['Plane', 'Car', 'Bird', 'Cat', 'Deer', 'Dog', 'Frog', 'Horse', 'Ship', 'Truck']\n",
    "\n",
    "# Plot the confusion matrix\n",
    "plt.figure(figsize=(10, 8))\n",
    "cfmt = pd.DataFrame(conf_mat, index=class_names, columns=class_names)\n",
    "sns.heatmap(cfmt, annot=True, cmap='BuGn', fmt=\"d\")\n",
    "plt.xlabel(\"Predicted Labels\", fontsize=14)\n",
    "plt.ylabel(\"True Labels\", fontsize=14)\n",
    "plt.title(\"Confusion Matrix\", fontsize=16)\n",
    "plt.show()\n"
   ]
  },
  {
   "cell_type": "markdown",
   "id": "82cc445f",
   "metadata": {
    "papermill": {
     "duration": null,
     "end_time": null,
     "exception": null,
     "start_time": null,
     "status": "pending"
    },
    "tags": []
   },
   "source": [
    "We can see that 179 dogs have been predicted as cats and 68 planes have been identified as birds. This data gives an inference that these predictions are not entirely going wrong. The NN is yet to efficiently predict between 2 identical classes.\n",
    "> Using autoencoders could enhance the input images hence making it easy for the NN to predict between identical classes."
   ]
  },
  {
   "cell_type": "code",
   "execution_count": null,
   "id": "2809bed4",
   "metadata": {
    "execution": {
     "iopub.execute_input": "2023-08-17T08:26:45.423849Z",
     "iopub.status.busy": "2023-08-17T08:26:45.423426Z",
     "iopub.status.idle": "2023-08-17T08:34:36.623654Z",
     "shell.execute_reply": "2023-08-17T08:34:36.622624Z",
     "shell.execute_reply.started": "2023-08-17T08:26:45.423816Z"
    },
    "papermill": {
     "duration": null,
     "end_time": null,
     "exception": null,
     "start_time": null,
     "status": "pending"
    },
    "tags": []
   },
   "outputs": [],
   "source": [
    "import matplotlib.pyplot as plt\n",
    "\n",
    "def plot_loss(loss_values):\n",
    "    plt.figure(figsize=(7, 4))\n",
    "    plt.plot(loss_values, label='Training Loss')\n",
    "    plt.xlabel('Epoch')\n",
    "    plt.ylabel('Loss')\n",
    "    plt.title('Training Loss Over Epochs')\n",
    "    plt.legend()\n",
    "    plt.show()\n",
    "\n",
    "# Tstoring loss values\n",
    "loss_values = []\n",
    "criterion = nn.CrossEntropyLoss()\n",
    "optimizer = optim.Adam(net.parameters(), lr=0.001)\n",
    "for epoch in range(20):\n",
    "    running_loss = 0.0\n",
    "    for i, data in enumerate(train_loader, 0):\n",
    "        inputs, labels = data\n",
    "        inputs, labels = inputs.to(device), labels.to(device)\n",
    "        optimizer.zero_grad()\n",
    "        outputs = net(inputs)\n",
    "        loss = criterion(outputs, labels)\n",
    "        loss.backward()\n",
    "        optimizer.step()\n",
    "        running_loss += loss.item()\n",
    "    loss_values.append(running_loss / len(train_loader))\n",
    "\n",
    "# Plot the loss values\n",
    "plot_loss(loss_values)\n"
   ]
  },
  {
   "cell_type": "markdown",
   "id": "11343c38",
   "metadata": {
    "papermill": {
     "duration": null,
     "end_time": null,
     "exception": null,
     "start_time": null,
     "status": "pending"
    },
    "tags": []
   },
   "source": [
    "The loss vs epochs chart resembles the good learning rate graph above proving that the model is tuned well."
   ]
  },
  {
   "cell_type": "code",
   "execution_count": null,
   "id": "76b134b5",
   "metadata": {
    "execution": {
     "iopub.execute_input": "2023-08-17T08:39:05.574212Z",
     "iopub.status.busy": "2023-08-17T08:39:05.573436Z",
     "iopub.status.idle": "2023-08-17T08:48:20.535686Z",
     "shell.execute_reply": "2023-08-17T08:48:20.532299Z",
     "shell.execute_reply.started": "2023-08-17T08:39:05.574175Z"
    },
    "papermill": {
     "duration": null,
     "end_time": null,
     "exception": null,
     "start_time": null,
     "status": "pending"
    },
    "tags": []
   },
   "outputs": [],
   "source": [
    "def plot_accuracy(accuracy_values):\n",
    "    plt.figure(figsize=(10, 6))\n",
    "    plt.plot(accuracy_values, label='Test Accuracy')\n",
    "    plt.xlabel('Epoch')\n",
    "    plt.ylabel('Accuracy (%)')\n",
    "    plt.title('Test Accuracy Over Epochs')\n",
    "    plt.legend()\n",
    "    plt.show()\n",
    "\n",
    "#storing accuracy values\n",
    "accuracy_values = []\n",
    "for epoch in range(20):\n",
    "    running_loss = 0.0\n",
    "    for i, data in enumerate(train_loader, 0):\n",
    "        inputs, labels = data\n",
    "        inputs, labels = inputs.to(device), labels.to(device)\n",
    "        optimizer.zero_grad()\n",
    "        outputs = net(inputs)\n",
    "        loss = criterion(outputs, labels)\n",
    "        loss.backward()\n",
    "        optimizer.step()\n",
    "        running_loss += loss.item()\n",
    "    accuracy_values.append(accuracy())\n",
    "\n",
    "# Plot the accuracy values\n",
    "plot_accuracy(accuracy_values)"
   ]
  }
 ],
 "metadata": {
  "kernelspec": {
   "display_name": "Python 3",
   "language": "python",
   "name": "python3"
  },
  "language_info": {
   "codemirror_mode": {
    "name": "ipython",
    "version": 3
   },
   "file_extension": ".py",
   "mimetype": "text/x-python",
   "name": "python",
   "nbconvert_exporter": "python",
   "pygments_lexer": "ipython3",
   "version": "3.6.4"
  },
  "papermill": {
   "default_parameters": {},
   "duration": null,
   "end_time": null,
   "environment_variables": {},
   "exception": null,
   "input_path": "__notebook__.ipynb",
   "output_path": "__notebook__.ipynb",
   "parameters": {},
   "start_time": "2023-08-18T05:26:38.661313",
   "version": "2.4.0"
  }
 },
 "nbformat": 4,
 "nbformat_minor": 5
}
