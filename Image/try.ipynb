{
 "cells": [
  {
   "cell_type": "code",
   "execution_count": 17,
   "metadata": {},
   "outputs": [],
   "source": [
    "import torch\n",
    "import torchvision\n",
    "import torchvision.transforms as tfs\n",
    "\n",
    "\n"
   ]
  },
  {
   "cell_type": "code",
   "execution_count": 24,
   "metadata": {},
   "outputs": [
    {
     "name": "stdout",
     "output_type": "stream",
     "text": [
      "Files already downloaded and verified\n",
      "Files already downloaded and verified\n"
     ]
    }
   ],
   "source": [
    "transform = tfs.Compose([\n",
    "    tfs.RandomCrop(32, padding=4),\n",
    "    tfs.RandomHorizontalFlip(),\n",
    "    tfs.ToTensor(),\n",
    "    tfs.Normalize((0.5, 0.5, 0.5), (0.5, 0.5, 0.5)),\n",
    "])\n",
    "\n",
    "trainset = torchvision.datasets.CIFAR10(root='./data', download= True, train=True, transform = transform)\n",
    "trainloader = torch.utils.data.DataLoader(trainset, batch_size=6, shuffle=True, num_workers=2)\n",
    "testset = torchvision.datasets.CIFAR10(root='./data',download = True,  train=False, transform= transform)\n",
    "testloader = torch.utils.data.DataLoader(testset,batch_size=6, shuffle= False, num_workers=2)\n",
    "classes = ('plane', 'car', 'bird', 'cat','deer',\n",
    "           'dog', 'frog', 'horse','ship', 'truck')\n",
    "\n"
   ]
  },
  {
   "cell_type": "code",
   "execution_count": 26,
   "metadata": {},
   "outputs": [
    {
     "name": "stdout",
     "output_type": "stream",
     "text": [
      "Dataset Details:\n",
      "Number of samples: 50000\n",
      "Number of classes: 10\n",
      "Classes: ['airplane', 'automobile', 'bird', 'cat', 'deer', 'dog', 'frog', 'horse', 'ship', 'truck']\n",
      "Class to index mapping: {'airplane': 0, 'automobile': 1, 'bird': 2, 'cat': 3, 'deer': 4, 'dog': 5, 'frog': 6, 'horse': 7, 'ship': 8, 'truck': 9}\n",
      "Sample shape: torch.Size([3, 32, 32])\n"
     ]
    }
   ],
   "source": [
    "print(\"Dataset Details:\")\n",
    "print(\"Number of samples:\", len(trainset))\n",
    "print(\"Number of classes:\", len(trainset.classes))\n",
    "print(\"Classes:\", trainset.classes)\n",
    "print(\"Class to index mapping:\", trainset.class_to_idx)\n",
    "print(\"Sample shape:\", trainset[0][0].shape)\n",
    "\n"
   ]
  },
  {
   "cell_type": "code",
   "execution_count": 19,
   "metadata": {},
   "outputs": [],
   "source": [
    "import torch.nn as nn\n",
    "import torch.nn.functional as F\n",
    "\n",
    "class Net(nn.Module):\n",
    "    def __init__(self):\n",
    "        super(Net, self).__init__()\n",
    "        self.conv1 = nn.Conv2d(3, 32, kernel_size=3, padding=1)\n",
    "        self.conv2 = nn.Conv2d(32, 64, kernel_size=3, padding=1)\n",
    "        self.conv3 = nn.Conv2d(64, 128, kernel_size=3, padding=1)\n",
    "        self.pool = nn.MaxPool2d(2, 2)\n",
    "        self.fc = nn.Linear(128 * 4 * 4, 10)  # 10 classes in CIFAR-10\n",
    "\n",
    "    def forward(self, x):\n",
    "        x = self.pool(F.relu(self.conv1(x)))\n",
    "        x = self.pool(F.relu(self.conv2(x)))\n",
    "        x = self.pool(F.relu(self.conv3(x)))\n",
    "        x = x.view(-1, 128 * 4 * 4)\n",
    "        x = self.fc(x)\n",
    "        return x\n",
    "    \n",
    "net = Net()\n",
    "\n"
   ]
  },
  {
   "cell_type": "code",
   "execution_count": 20,
   "metadata": {},
   "outputs": [],
   "source": [
    "import torch.optim as optim\n",
    "criterion = nn.CrossEntropyLoss()\n",
    "optimizer = optim.SGD(net.parameters(), lr=0.001, momentum=0.9)"
   ]
  },
  {
   "cell_type": "code",
   "execution_count": 21,
   "metadata": {},
   "outputs": [
    {
     "name": "stdout",
     "output_type": "stream",
     "text": [
      "[1,  2000] loss: 2.012\n",
      "[1,  4000] loss: 1.687\n",
      "[1,  6000] loss: 1.559\n",
      "[1,  8000] loss: 1.447\n",
      "[2,  2000] loss: 1.386\n",
      "[2,  4000] loss: 1.308\n",
      "[2,  6000] loss: 1.248\n",
      "[2,  8000] loss: 1.189\n",
      "[3,  2000] loss: 1.137\n",
      "[3,  4000] loss: 1.095\n",
      "[3,  6000] loss: 1.043\n",
      "[3,  8000] loss: 1.018\n",
      "[4,  2000] loss: 0.968\n",
      "[4,  4000] loss: 0.982\n",
      "[4,  6000] loss: 0.934\n",
      "[4,  8000] loss: 0.924\n",
      "[5,  2000] loss: 0.893\n",
      "[5,  4000] loss: 0.882\n",
      "[5,  6000] loss: 0.865\n",
      "[5,  8000] loss: 0.863\n",
      "[6,  2000] loss: 0.825\n",
      "[6,  4000] loss: 0.822\n",
      "[6,  6000] loss: 0.804\n",
      "[6,  8000] loss: 0.808\n",
      "[7,  2000] loss: 0.790\n",
      "[7,  4000] loss: 0.776\n",
      "[7,  6000] loss: 0.766\n",
      "[7,  8000] loss: 0.762\n",
      "[8,  2000] loss: 0.745\n",
      "[8,  4000] loss: 0.752\n",
      "[8,  6000] loss: 0.721\n",
      "[8,  8000] loss: 0.735\n",
      "[9,  2000] loss: 0.703\n",
      "[9,  4000] loss: 0.720\n",
      "[9,  6000] loss: 0.698\n",
      "[9,  8000] loss: 0.712\n",
      "[10,  2000] loss: 0.683\n",
      "[10,  4000] loss: 0.702\n",
      "[10,  6000] loss: 0.665\n",
      "[10,  8000] loss: 0.684\n",
      "Finished Training\n"
     ]
    }
   ],
   "source": [
    "for epoch in range(10):\n",
    "    running_loss = 0\n",
    "    for i,data in enumerate(trainloader, 0):\n",
    "        inputs, labels =data\n",
    "        optimizer.zero_grad()\n",
    "        outputs = net(inputs)\n",
    "        loss = criterion(outputs, labels)\n",
    "        loss.backward()\n",
    "        optimizer.step()\n",
    "\n",
    "        running_loss += loss.item()\n",
    "        if i % 2000 == 1999:    # print every 2000 mini-batches\n",
    "            print('[%d, %5d] loss: %.3f' %\n",
    "                  (epoch + 1, i + 1, running_loss / 2000))\n",
    "            running_loss = 0.0\n",
    "        \n",
    "print('Finished Training')\n",
    "        \n",
    "\n",
    "        \n"
   ]
  },
  {
   "cell_type": "code",
   "execution_count": 22,
   "metadata": {},
   "outputs": [
    {
     "name": "stdout",
     "output_type": "stream",
     "text": [
      "Accuracy of the network on the 10000 test images: 75 %\n"
     ]
    }
   ],
   "source": [
    "correct = 0\n",
    "total = 0\n",
    "with torch.no_grad():\n",
    "    for data in testloader:\n",
    "        images, labels = data\n",
    "        outputs = net(images)\n",
    "        _, predicted = torch.max(outputs.data, 1)\n",
    "        total += labels.size(0)\n",
    "        correct += (predicted == labels).sum().item()\n",
    "\n",
    "print('Accuracy of the network on the 10000 test images: %d %%' % (\n",
    "    100 * correct / total))"
   ]
  },
  {
   "cell_type": "code",
   "execution_count": 23,
   "metadata": {},
   "outputs": [
    {
     "name": "stdout",
     "output_type": "stream",
     "text": [
      "cpu\n"
     ]
    }
   ],
   "source": [
    "device = torch.device('cuda:0' if torch.cuda.is_available() else 'cpu')\n",
    "print(device)"
   ]
  },
  {
   "cell_type": "code",
   "execution_count": null,
   "metadata": {},
   "outputs": [],
   "source": [
    "#confusion matrix for the predictions\n",
    "from sklearn.metrics import confusion_matrix\n",
    "cm = confusion_matrix(y_test, y_pred)\n",
    "print(cm)\n",
    "\n",
    "#shape of each image in cifar10\n",
    "\n",
    "\n"
   ]
  }
 ],
 "metadata": {
  "kernelspec": {
   "display_name": "Python 3",
   "language": "python",
   "name": "python3"
  },
  "language_info": {
   "codemirror_mode": {
    "name": "ipython",
    "version": 3
   },
   "file_extension": ".py",
   "mimetype": "text/x-python",
   "name": "python",
   "nbconvert_exporter": "python",
   "pygments_lexer": "ipython3",
   "version": "3.11.3"
  },
  "orig_nbformat": 4
 },
 "nbformat": 4,
 "nbformat_minor": 2
}
