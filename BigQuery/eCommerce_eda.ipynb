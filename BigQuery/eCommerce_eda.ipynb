{
 "cells": [
  {
   "cell_type": "code",
   "execution_count": 16,
   "metadata": {},
   "outputs": [
    {
     "name": "stdout",
     "output_type": "stream",
     "text": [
      "The autoreload extension is already loaded. To reload it, use:\n",
      "  %reload_ext autoreload\n"
     ]
    }
   ],
   "source": [
    "%load_ext autoreload\n",
    "%autoreload 2\n",
    "import os\n",
    "import pandas as pd\n",
    "import matplotlib.pyplot as plt\n",
    "import seaborn as sns\n",
    "import plotly.graph_objs as pgo\n",
    "from plotly.offline import iplot\n",
    "import plotly.express as exp\n",
    "os.environ[\"GOOGLE_APPLICATION_CREDENTIALS\"]=\"E:\\Workspace\\Python\\Workspace\\ML_AI\\singular-server-393911-b92f5a618cf9.json\""
   ]
  },
  {
   "cell_type": "code",
   "execution_count": 17,
   "metadata": {},
   "outputs": [],
   "source": [
    "from google.cloud import bigquery\n",
    "client = bigquery.Client()\n",
    "\n",
    "#function to estimate the query output's size in bytes\n",
    "def estimate_query_size(query):\n",
    "\n",
    "    job_config = bigquery.job.QueryJobConfig(dry_run=True)\n",
    "    job = client.query(query, job_config=job_config)\n",
    "    return f\"Estimated Query size will be: {job.total_bytes_processed} bytes\"\n",
    "\n",
    "\n",
    "def execute_query(query):\n",
    "\n",
    "    query_job = client.query(query)\n",
    "    results = query_job.result()\n",
    "\n",
    "    if results.total_rows == 0:\n",
    "        print(\"Query returns an empty table\")\n",
    "        return None\n",
    "\n",
    "    print(\"Query returns a valid table\")\n",
    "    return results\n",
    "\n"
   ]
  },
  {
   "cell_type": "code",
   "execution_count": 18,
   "metadata": {},
   "outputs": [
    {
     "name": "stdout",
     "output_type": "stream",
     "text": [
      "Query returns a valid table\n"
     ]
    },
    {
     "data": {
      "text/html": [
       "<div>\n",
       "<style scoped>\n",
       "    .dataframe tbody tr th:only-of-type {\n",
       "        vertical-align: middle;\n",
       "    }\n",
       "\n",
       "    .dataframe tbody tr th {\n",
       "        vertical-align: top;\n",
       "    }\n",
       "\n",
       "    .dataframe thead th {\n",
       "        text-align: right;\n",
       "    }\n",
       "</style>\n",
       "<table border=\"1\" class=\"dataframe\">\n",
       "  <thead>\n",
       "    <tr style=\"text-align: right;\">\n",
       "      <th></th>\n",
       "      <th>month</th>\n",
       "      <th>total_user</th>\n",
       "      <th>total_order</th>\n",
       "    </tr>\n",
       "  </thead>\n",
       "  <tbody>\n",
       "    <tr>\n",
       "      <th>0</th>\n",
       "      <td>2019-01-01</td>\n",
       "      <td>6</td>\n",
       "      <td>6</td>\n",
       "    </tr>\n",
       "    <tr>\n",
       "      <th>1</th>\n",
       "      <td>2019-02-01</td>\n",
       "      <td>12</td>\n",
       "      <td>12</td>\n",
       "    </tr>\n",
       "    <tr>\n",
       "      <th>2</th>\n",
       "      <td>2019-03-01</td>\n",
       "      <td>33</td>\n",
       "      <td>33</td>\n",
       "    </tr>\n",
       "    <tr>\n",
       "      <th>3</th>\n",
       "      <td>2019-04-01</td>\n",
       "      <td>34</td>\n",
       "      <td>34</td>\n",
       "    </tr>\n",
       "    <tr>\n",
       "      <th>4</th>\n",
       "      <td>2019-05-01</td>\n",
       "      <td>34</td>\n",
       "      <td>34</td>\n",
       "    </tr>\n",
       "    <tr>\n",
       "      <th>5</th>\n",
       "      <td>2019-06-01</td>\n",
       "      <td>71</td>\n",
       "      <td>71</td>\n",
       "    </tr>\n",
       "    <tr>\n",
       "      <th>6</th>\n",
       "      <td>2019-07-01</td>\n",
       "      <td>67</td>\n",
       "      <td>67</td>\n",
       "    </tr>\n",
       "    <tr>\n",
       "      <th>7</th>\n",
       "      <td>2019-08-01</td>\n",
       "      <td>72</td>\n",
       "      <td>72</td>\n",
       "    </tr>\n",
       "    <tr>\n",
       "      <th>8</th>\n",
       "      <td>2019-09-01</td>\n",
       "      <td>93</td>\n",
       "      <td>93</td>\n",
       "    </tr>\n",
       "    <tr>\n",
       "      <th>9</th>\n",
       "      <td>2019-10-01</td>\n",
       "      <td>106</td>\n",
       "      <td>106</td>\n",
       "    </tr>\n",
       "    <tr>\n",
       "      <th>10</th>\n",
       "      <td>2019-11-01</td>\n",
       "      <td>110</td>\n",
       "      <td>110</td>\n",
       "    </tr>\n",
       "    <tr>\n",
       "      <th>11</th>\n",
       "      <td>2019-12-01</td>\n",
       "      <td>113</td>\n",
       "      <td>114</td>\n",
       "    </tr>\n",
       "    <tr>\n",
       "      <th>12</th>\n",
       "      <td>2020-01-01</td>\n",
       "      <td>116</td>\n",
       "      <td>116</td>\n",
       "    </tr>\n",
       "    <tr>\n",
       "      <th>13</th>\n",
       "      <td>2020-02-01</td>\n",
       "      <td>147</td>\n",
       "      <td>148</td>\n",
       "    </tr>\n",
       "    <tr>\n",
       "      <th>14</th>\n",
       "      <td>2020-03-01</td>\n",
       "      <td>160</td>\n",
       "      <td>161</td>\n",
       "    </tr>\n",
       "    <tr>\n",
       "      <th>15</th>\n",
       "      <td>2020-04-01</td>\n",
       "      <td>179</td>\n",
       "      <td>179</td>\n",
       "    </tr>\n",
       "    <tr>\n",
       "      <th>16</th>\n",
       "      <td>2020-05-01</td>\n",
       "      <td>200</td>\n",
       "      <td>202</td>\n",
       "    </tr>\n",
       "    <tr>\n",
       "      <th>17</th>\n",
       "      <td>2020-06-01</td>\n",
       "      <td>207</td>\n",
       "      <td>207</td>\n",
       "    </tr>\n",
       "    <tr>\n",
       "      <th>18</th>\n",
       "      <td>2020-07-01</td>\n",
       "      <td>238</td>\n",
       "      <td>239</td>\n",
       "    </tr>\n",
       "    <tr>\n",
       "      <th>19</th>\n",
       "      <td>2020-08-01</td>\n",
       "      <td>218</td>\n",
       "      <td>219</td>\n",
       "    </tr>\n",
       "    <tr>\n",
       "      <th>20</th>\n",
       "      <td>2020-09-01</td>\n",
       "      <td>238</td>\n",
       "      <td>238</td>\n",
       "    </tr>\n",
       "    <tr>\n",
       "      <th>21</th>\n",
       "      <td>2020-10-01</td>\n",
       "      <td>315</td>\n",
       "      <td>317</td>\n",
       "    </tr>\n",
       "    <tr>\n",
       "      <th>22</th>\n",
       "      <td>2020-11-01</td>\n",
       "      <td>276</td>\n",
       "      <td>281</td>\n",
       "    </tr>\n",
       "    <tr>\n",
       "      <th>23</th>\n",
       "      <td>2020-12-01</td>\n",
       "      <td>315</td>\n",
       "      <td>316</td>\n",
       "    </tr>\n",
       "    <tr>\n",
       "      <th>24</th>\n",
       "      <td>2021-01-01</td>\n",
       "      <td>334</td>\n",
       "      <td>334</td>\n",
       "    </tr>\n",
       "    <tr>\n",
       "      <th>25</th>\n",
       "      <td>2021-02-01</td>\n",
       "      <td>338</td>\n",
       "      <td>340</td>\n",
       "    </tr>\n",
       "    <tr>\n",
       "      <th>26</th>\n",
       "      <td>2021-03-01</td>\n",
       "      <td>377</td>\n",
       "      <td>382</td>\n",
       "    </tr>\n",
       "    <tr>\n",
       "      <th>27</th>\n",
       "      <td>2021-04-01</td>\n",
       "      <td>330</td>\n",
       "      <td>330</td>\n",
       "    </tr>\n",
       "    <tr>\n",
       "      <th>28</th>\n",
       "      <td>2021-05-01</td>\n",
       "      <td>427</td>\n",
       "      <td>428</td>\n",
       "    </tr>\n",
       "    <tr>\n",
       "      <th>29</th>\n",
       "      <td>2021-06-01</td>\n",
       "      <td>410</td>\n",
       "      <td>410</td>\n",
       "    </tr>\n",
       "    <tr>\n",
       "      <th>30</th>\n",
       "      <td>2021-07-01</td>\n",
       "      <td>424</td>\n",
       "      <td>424</td>\n",
       "    </tr>\n",
       "    <tr>\n",
       "      <th>31</th>\n",
       "      <td>2021-08-01</td>\n",
       "      <td>463</td>\n",
       "      <td>464</td>\n",
       "    </tr>\n",
       "    <tr>\n",
       "      <th>32</th>\n",
       "      <td>2021-09-01</td>\n",
       "      <td>468</td>\n",
       "      <td>471</td>\n",
       "    </tr>\n",
       "    <tr>\n",
       "      <th>33</th>\n",
       "      <td>2021-10-01</td>\n",
       "      <td>515</td>\n",
       "      <td>516</td>\n",
       "    </tr>\n",
       "    <tr>\n",
       "      <th>34</th>\n",
       "      <td>2021-11-01</td>\n",
       "      <td>525</td>\n",
       "      <td>525</td>\n",
       "    </tr>\n",
       "    <tr>\n",
       "      <th>35</th>\n",
       "      <td>2021-12-01</td>\n",
       "      <td>574</td>\n",
       "      <td>578</td>\n",
       "    </tr>\n",
       "    <tr>\n",
       "      <th>36</th>\n",
       "      <td>2022-01-01</td>\n",
       "      <td>619</td>\n",
       "      <td>619</td>\n",
       "    </tr>\n",
       "    <tr>\n",
       "      <th>37</th>\n",
       "      <td>2022-02-01</td>\n",
       "      <td>577</td>\n",
       "      <td>578</td>\n",
       "    </tr>\n",
       "    <tr>\n",
       "      <th>38</th>\n",
       "      <td>2022-03-01</td>\n",
       "      <td>665</td>\n",
       "      <td>670</td>\n",
       "    </tr>\n",
       "    <tr>\n",
       "      <th>39</th>\n",
       "      <td>2022-04-01</td>\n",
       "      <td>719</td>\n",
       "      <td>722</td>\n",
       "    </tr>\n",
       "  </tbody>\n",
       "</table>\n",
       "</div>"
      ],
      "text/plain": [
       "         month  total_user  total_order\n",
       "0   2019-01-01           6            6\n",
       "1   2019-02-01          12           12\n",
       "2   2019-03-01          33           33\n",
       "3   2019-04-01          34           34\n",
       "4   2019-05-01          34           34\n",
       "5   2019-06-01          71           71\n",
       "6   2019-07-01          67           67\n",
       "7   2019-08-01          72           72\n",
       "8   2019-09-01          93           93\n",
       "9   2019-10-01         106          106\n",
       "10  2019-11-01         110          110\n",
       "11  2019-12-01         113          114\n",
       "12  2020-01-01         116          116\n",
       "13  2020-02-01         147          148\n",
       "14  2020-03-01         160          161\n",
       "15  2020-04-01         179          179\n",
       "16  2020-05-01         200          202\n",
       "17  2020-06-01         207          207\n",
       "18  2020-07-01         238          239\n",
       "19  2020-08-01         218          219\n",
       "20  2020-09-01         238          238\n",
       "21  2020-10-01         315          317\n",
       "22  2020-11-01         276          281\n",
       "23  2020-12-01         315          316\n",
       "24  2021-01-01         334          334\n",
       "25  2021-02-01         338          340\n",
       "26  2021-03-01         377          382\n",
       "27  2021-04-01         330          330\n",
       "28  2021-05-01         427          428\n",
       "29  2021-06-01         410          410\n",
       "30  2021-07-01         424          424\n",
       "31  2021-08-01         463          464\n",
       "32  2021-09-01         468          471\n",
       "33  2021-10-01         515          516\n",
       "34  2021-11-01         525          525\n",
       "35  2021-12-01         574          578\n",
       "36  2022-01-01         619          619\n",
       "37  2022-02-01         577          578\n",
       "38  2022-03-01         665          670\n",
       "39  2022-04-01         719          722"
      ]
     },
     "execution_count": 18,
     "metadata": {},
     "output_type": "execute_result"
    }
   ],
   "source": [
    "query = \"\"\"\n",
    "SELECT\n",
    "   DATE_TRUNC(DATE(created_at),month) as month,\n",
    "   COUNT(DISTINCT user_id) as total_user,\n",
    "   COUNT(order_id) as total_order\n",
    " FROM `bigquery-public-data.thelook_ecommerce.orders`\n",
    " WHERE DATE(created_at) BETWEEN '2019-01-01' AND '2022-04-30'\n",
    " AND status = 'Complete'\n",
    " GROUP BY 1\n",
    " ORDER BY 1\n",
    "        \"\"\"\n",
    "\n",
    "results = execute_query(query)\n",
    "total_order_user_df = results.to_dataframe()\n",
    "total_order_user_df"
   ]
  },
  {
   "cell_type": "code",
   "execution_count": 19,
   "metadata": {},
   "outputs": [
    {
     "data": {
      "application/vnd.plotly.v1+json": {
       "config": {
        "plotlyServerURL": "https://plot.ly"
       },
       "data": [
        {
         "hovertemplate": "month=%{x}<br>total_user=%{y}<extra></extra>",
         "legendgroup": "",
         "line": {
          "color": "#636efa",
          "dash": "solid"
         },
         "marker": {
          "symbol": "circle"
         },
         "mode": "lines",
         "name": "",
         "orientation": "v",
         "showlegend": false,
         "type": "scatter",
         "x": [
          "2019-01-01",
          "2019-02-01",
          "2019-03-01",
          "2019-04-01",
          "2019-05-01",
          "2019-06-01",
          "2019-07-01",
          "2019-08-01",
          "2019-09-01",
          "2019-10-01",
          "2019-11-01",
          "2019-12-01",
          "2020-01-01",
          "2020-02-01",
          "2020-03-01",
          "2020-04-01",
          "2020-05-01",
          "2020-06-01",
          "2020-07-01",
          "2020-08-01",
          "2020-09-01",
          "2020-10-01",
          "2020-11-01",
          "2020-12-01",
          "2021-01-01",
          "2021-02-01",
          "2021-03-01",
          "2021-04-01",
          "2021-05-01",
          "2021-06-01",
          "2021-07-01",
          "2021-08-01",
          "2021-09-01",
          "2021-10-01",
          "2021-11-01",
          "2021-12-01",
          "2022-01-01",
          "2022-02-01",
          "2022-03-01",
          "2022-04-01"
         ],
         "xaxis": "x",
         "y": [
          6,
          12,
          33,
          34,
          34,
          71,
          67,
          72,
          93,
          106,
          110,
          113,
          116,
          147,
          160,
          179,
          200,
          207,
          238,
          218,
          238,
          315,
          276,
          315,
          334,
          338,
          377,
          330,
          427,
          410,
          424,
          463,
          468,
          515,
          525,
          574,
          619,
          577,
          665,
          719
         ],
         "yaxis": "y"
        }
       ],
       "layout": {
        "legend": {
         "tracegroupgap": 0
        },
        "template": {
         "data": {
          "bar": [
           {
            "error_x": {
             "color": "#2a3f5f"
            },
            "error_y": {
             "color": "#2a3f5f"
            },
            "marker": {
             "line": {
              "color": "#E5ECF6",
              "width": 0.5
             },
             "pattern": {
              "fillmode": "overlay",
              "size": 10,
              "solidity": 0.2
             }
            },
            "type": "bar"
           }
          ],
          "barpolar": [
           {
            "marker": {
             "line": {
              "color": "#E5ECF6",
              "width": 0.5
             },
             "pattern": {
              "fillmode": "overlay",
              "size": 10,
              "solidity": 0.2
             }
            },
            "type": "barpolar"
           }
          ],
          "carpet": [
           {
            "aaxis": {
             "endlinecolor": "#2a3f5f",
             "gridcolor": "white",
             "linecolor": "white",
             "minorgridcolor": "white",
             "startlinecolor": "#2a3f5f"
            },
            "baxis": {
             "endlinecolor": "#2a3f5f",
             "gridcolor": "white",
             "linecolor": "white",
             "minorgridcolor": "white",
             "startlinecolor": "#2a3f5f"
            },
            "type": "carpet"
           }
          ],
          "choropleth": [
           {
            "colorbar": {
             "outlinewidth": 0,
             "ticks": ""
            },
            "type": "choropleth"
           }
          ],
          "contour": [
           {
            "colorbar": {
             "outlinewidth": 0,
             "ticks": ""
            },
            "colorscale": [
             [
              0,
              "#0d0887"
             ],
             [
              0.1111111111111111,
              "#46039f"
             ],
             [
              0.2222222222222222,
              "#7201a8"
             ],
             [
              0.3333333333333333,
              "#9c179e"
             ],
             [
              0.4444444444444444,
              "#bd3786"
             ],
             [
              0.5555555555555556,
              "#d8576b"
             ],
             [
              0.6666666666666666,
              "#ed7953"
             ],
             [
              0.7777777777777778,
              "#fb9f3a"
             ],
             [
              0.8888888888888888,
              "#fdca26"
             ],
             [
              1,
              "#f0f921"
             ]
            ],
            "type": "contour"
           }
          ],
          "contourcarpet": [
           {
            "colorbar": {
             "outlinewidth": 0,
             "ticks": ""
            },
            "type": "contourcarpet"
           }
          ],
          "heatmap": [
           {
            "colorbar": {
             "outlinewidth": 0,
             "ticks": ""
            },
            "colorscale": [
             [
              0,
              "#0d0887"
             ],
             [
              0.1111111111111111,
              "#46039f"
             ],
             [
              0.2222222222222222,
              "#7201a8"
             ],
             [
              0.3333333333333333,
              "#9c179e"
             ],
             [
              0.4444444444444444,
              "#bd3786"
             ],
             [
              0.5555555555555556,
              "#d8576b"
             ],
             [
              0.6666666666666666,
              "#ed7953"
             ],
             [
              0.7777777777777778,
              "#fb9f3a"
             ],
             [
              0.8888888888888888,
              "#fdca26"
             ],
             [
              1,
              "#f0f921"
             ]
            ],
            "type": "heatmap"
           }
          ],
          "heatmapgl": [
           {
            "colorbar": {
             "outlinewidth": 0,
             "ticks": ""
            },
            "colorscale": [
             [
              0,
              "#0d0887"
             ],
             [
              0.1111111111111111,
              "#46039f"
             ],
             [
              0.2222222222222222,
              "#7201a8"
             ],
             [
              0.3333333333333333,
              "#9c179e"
             ],
             [
              0.4444444444444444,
              "#bd3786"
             ],
             [
              0.5555555555555556,
              "#d8576b"
             ],
             [
              0.6666666666666666,
              "#ed7953"
             ],
             [
              0.7777777777777778,
              "#fb9f3a"
             ],
             [
              0.8888888888888888,
              "#fdca26"
             ],
             [
              1,
              "#f0f921"
             ]
            ],
            "type": "heatmapgl"
           }
          ],
          "histogram": [
           {
            "marker": {
             "pattern": {
              "fillmode": "overlay",
              "size": 10,
              "solidity": 0.2
             }
            },
            "type": "histogram"
           }
          ],
          "histogram2d": [
           {
            "colorbar": {
             "outlinewidth": 0,
             "ticks": ""
            },
            "colorscale": [
             [
              0,
              "#0d0887"
             ],
             [
              0.1111111111111111,
              "#46039f"
             ],
             [
              0.2222222222222222,
              "#7201a8"
             ],
             [
              0.3333333333333333,
              "#9c179e"
             ],
             [
              0.4444444444444444,
              "#bd3786"
             ],
             [
              0.5555555555555556,
              "#d8576b"
             ],
             [
              0.6666666666666666,
              "#ed7953"
             ],
             [
              0.7777777777777778,
              "#fb9f3a"
             ],
             [
              0.8888888888888888,
              "#fdca26"
             ],
             [
              1,
              "#f0f921"
             ]
            ],
            "type": "histogram2d"
           }
          ],
          "histogram2dcontour": [
           {
            "colorbar": {
             "outlinewidth": 0,
             "ticks": ""
            },
            "colorscale": [
             [
              0,
              "#0d0887"
             ],
             [
              0.1111111111111111,
              "#46039f"
             ],
             [
              0.2222222222222222,
              "#7201a8"
             ],
             [
              0.3333333333333333,
              "#9c179e"
             ],
             [
              0.4444444444444444,
              "#bd3786"
             ],
             [
              0.5555555555555556,
              "#d8576b"
             ],
             [
              0.6666666666666666,
              "#ed7953"
             ],
             [
              0.7777777777777778,
              "#fb9f3a"
             ],
             [
              0.8888888888888888,
              "#fdca26"
             ],
             [
              1,
              "#f0f921"
             ]
            ],
            "type": "histogram2dcontour"
           }
          ],
          "mesh3d": [
           {
            "colorbar": {
             "outlinewidth": 0,
             "ticks": ""
            },
            "type": "mesh3d"
           }
          ],
          "parcoords": [
           {
            "line": {
             "colorbar": {
              "outlinewidth": 0,
              "ticks": ""
             }
            },
            "type": "parcoords"
           }
          ],
          "pie": [
           {
            "automargin": true,
            "type": "pie"
           }
          ],
          "scatter": [
           {
            "fillpattern": {
             "fillmode": "overlay",
             "size": 10,
             "solidity": 0.2
            },
            "type": "scatter"
           }
          ],
          "scatter3d": [
           {
            "line": {
             "colorbar": {
              "outlinewidth": 0,
              "ticks": ""
             }
            },
            "marker": {
             "colorbar": {
              "outlinewidth": 0,
              "ticks": ""
             }
            },
            "type": "scatter3d"
           }
          ],
          "scattercarpet": [
           {
            "marker": {
             "colorbar": {
              "outlinewidth": 0,
              "ticks": ""
             }
            },
            "type": "scattercarpet"
           }
          ],
          "scattergeo": [
           {
            "marker": {
             "colorbar": {
              "outlinewidth": 0,
              "ticks": ""
             }
            },
            "type": "scattergeo"
           }
          ],
          "scattergl": [
           {
            "marker": {
             "colorbar": {
              "outlinewidth": 0,
              "ticks": ""
             }
            },
            "type": "scattergl"
           }
          ],
          "scattermapbox": [
           {
            "marker": {
             "colorbar": {
              "outlinewidth": 0,
              "ticks": ""
             }
            },
            "type": "scattermapbox"
           }
          ],
          "scatterpolar": [
           {
            "marker": {
             "colorbar": {
              "outlinewidth": 0,
              "ticks": ""
             }
            },
            "type": "scatterpolar"
           }
          ],
          "scatterpolargl": [
           {
            "marker": {
             "colorbar": {
              "outlinewidth": 0,
              "ticks": ""
             }
            },
            "type": "scatterpolargl"
           }
          ],
          "scatterternary": [
           {
            "marker": {
             "colorbar": {
              "outlinewidth": 0,
              "ticks": ""
             }
            },
            "type": "scatterternary"
           }
          ],
          "surface": [
           {
            "colorbar": {
             "outlinewidth": 0,
             "ticks": ""
            },
            "colorscale": [
             [
              0,
              "#0d0887"
             ],
             [
              0.1111111111111111,
              "#46039f"
             ],
             [
              0.2222222222222222,
              "#7201a8"
             ],
             [
              0.3333333333333333,
              "#9c179e"
             ],
             [
              0.4444444444444444,
              "#bd3786"
             ],
             [
              0.5555555555555556,
              "#d8576b"
             ],
             [
              0.6666666666666666,
              "#ed7953"
             ],
             [
              0.7777777777777778,
              "#fb9f3a"
             ],
             [
              0.8888888888888888,
              "#fdca26"
             ],
             [
              1,
              "#f0f921"
             ]
            ],
            "type": "surface"
           }
          ],
          "table": [
           {
            "cells": {
             "fill": {
              "color": "#EBF0F8"
             },
             "line": {
              "color": "white"
             }
            },
            "header": {
             "fill": {
              "color": "#C8D4E3"
             },
             "line": {
              "color": "white"
             }
            },
            "type": "table"
           }
          ]
         },
         "layout": {
          "annotationdefaults": {
           "arrowcolor": "#2a3f5f",
           "arrowhead": 0,
           "arrowwidth": 1
          },
          "autotypenumbers": "strict",
          "coloraxis": {
           "colorbar": {
            "outlinewidth": 0,
            "ticks": ""
           }
          },
          "colorscale": {
           "diverging": [
            [
             0,
             "#8e0152"
            ],
            [
             0.1,
             "#c51b7d"
            ],
            [
             0.2,
             "#de77ae"
            ],
            [
             0.3,
             "#f1b6da"
            ],
            [
             0.4,
             "#fde0ef"
            ],
            [
             0.5,
             "#f7f7f7"
            ],
            [
             0.6,
             "#e6f5d0"
            ],
            [
             0.7,
             "#b8e186"
            ],
            [
             0.8,
             "#7fbc41"
            ],
            [
             0.9,
             "#4d9221"
            ],
            [
             1,
             "#276419"
            ]
           ],
           "sequential": [
            [
             0,
             "#0d0887"
            ],
            [
             0.1111111111111111,
             "#46039f"
            ],
            [
             0.2222222222222222,
             "#7201a8"
            ],
            [
             0.3333333333333333,
             "#9c179e"
            ],
            [
             0.4444444444444444,
             "#bd3786"
            ],
            [
             0.5555555555555556,
             "#d8576b"
            ],
            [
             0.6666666666666666,
             "#ed7953"
            ],
            [
             0.7777777777777778,
             "#fb9f3a"
            ],
            [
             0.8888888888888888,
             "#fdca26"
            ],
            [
             1,
             "#f0f921"
            ]
           ],
           "sequentialminus": [
            [
             0,
             "#0d0887"
            ],
            [
             0.1111111111111111,
             "#46039f"
            ],
            [
             0.2222222222222222,
             "#7201a8"
            ],
            [
             0.3333333333333333,
             "#9c179e"
            ],
            [
             0.4444444444444444,
             "#bd3786"
            ],
            [
             0.5555555555555556,
             "#d8576b"
            ],
            [
             0.6666666666666666,
             "#ed7953"
            ],
            [
             0.7777777777777778,
             "#fb9f3a"
            ],
            [
             0.8888888888888888,
             "#fdca26"
            ],
            [
             1,
             "#f0f921"
            ]
           ]
          },
          "colorway": [
           "#636efa",
           "#EF553B",
           "#00cc96",
           "#ab63fa",
           "#FFA15A",
           "#19d3f3",
           "#FF6692",
           "#B6E880",
           "#FF97FF",
           "#FECB52"
          ],
          "font": {
           "color": "#2a3f5f"
          },
          "geo": {
           "bgcolor": "white",
           "lakecolor": "white",
           "landcolor": "#E5ECF6",
           "showlakes": true,
           "showland": true,
           "subunitcolor": "white"
          },
          "hoverlabel": {
           "align": "left"
          },
          "hovermode": "closest",
          "mapbox": {
           "style": "light"
          },
          "paper_bgcolor": "white",
          "plot_bgcolor": "#E5ECF6",
          "polar": {
           "angularaxis": {
            "gridcolor": "white",
            "linecolor": "white",
            "ticks": ""
           },
           "bgcolor": "#E5ECF6",
           "radialaxis": {
            "gridcolor": "white",
            "linecolor": "white",
            "ticks": ""
           }
          },
          "scene": {
           "xaxis": {
            "backgroundcolor": "#E5ECF6",
            "gridcolor": "white",
            "gridwidth": 2,
            "linecolor": "white",
            "showbackground": true,
            "ticks": "",
            "zerolinecolor": "white"
           },
           "yaxis": {
            "backgroundcolor": "#E5ECF6",
            "gridcolor": "white",
            "gridwidth": 2,
            "linecolor": "white",
            "showbackground": true,
            "ticks": "",
            "zerolinecolor": "white"
           },
           "zaxis": {
            "backgroundcolor": "#E5ECF6",
            "gridcolor": "white",
            "gridwidth": 2,
            "linecolor": "white",
            "showbackground": true,
            "ticks": "",
            "zerolinecolor": "white"
           }
          },
          "shapedefaults": {
           "line": {
            "color": "#2a3f5f"
           }
          },
          "ternary": {
           "aaxis": {
            "gridcolor": "white",
            "linecolor": "white",
            "ticks": ""
           },
           "baxis": {
            "gridcolor": "white",
            "linecolor": "white",
            "ticks": ""
           },
           "bgcolor": "#E5ECF6",
           "caxis": {
            "gridcolor": "white",
            "linecolor": "white",
            "ticks": ""
           }
          },
          "title": {
           "x": 0.05
          },
          "xaxis": {
           "automargin": true,
           "gridcolor": "white",
           "linecolor": "white",
           "ticks": "",
           "title": {
            "standoff": 15
           },
           "zerolinecolor": "white",
           "zerolinewidth": 2
          },
          "yaxis": {
           "automargin": true,
           "gridcolor": "white",
           "linecolor": "white",
           "ticks": "",
           "title": {
            "standoff": 15
           },
           "zerolinecolor": "white",
           "zerolinewidth": 2
          }
         }
        },
        "title": {
         "text": "Monthly Active Users"
        },
        "xaxis": {
         "anchor": "y",
         "domain": [
          0,
          1
         ],
         "title": {
          "text": "month"
         }
        },
        "yaxis": {
         "anchor": "x",
         "domain": [
          0,
          1
         ],
         "title": {
          "text": "total_user"
         }
        }
       }
      }
     },
     "metadata": {},
     "output_type": "display_data"
    }
   ],
   "source": [
    "#visualize the above data\n",
    "fig = exp.line(total_order_user_df, x='month', y='total_user', title='Monthly Active Users')\n",
    "fig.show()\n",
    "\n",
    "\n"
   ]
  },
  {
   "cell_type": "code",
   "execution_count": 30,
   "metadata": {},
   "outputs": [
    {
     "data": {
      "application/vnd.plotly.v1+json": {
       "config": {
        "plotlyServerURL": "https://plot.ly"
       },
       "data": [
        {
         "hovertemplate": "month=%{x}<br>total_order=%{y}<extra></extra>",
         "legendgroup": "",
         "line": {
          "color": "#636efa",
          "dash": "solid"
         },
         "marker": {
          "symbol": "circle"
         },
         "mode": "lines",
         "name": "",
         "orientation": "v",
         "showlegend": false,
         "type": "scatter",
         "x": [
          "2019-01-01",
          "2019-02-01",
          "2019-03-01",
          "2019-04-01",
          "2019-05-01",
          "2019-06-01",
          "2019-07-01",
          "2019-08-01",
          "2019-09-01",
          "2019-10-01",
          "2019-11-01",
          "2019-12-01",
          "2020-01-01",
          "2020-02-01",
          "2020-03-01",
          "2020-04-01",
          "2020-05-01",
          "2020-06-01",
          "2020-07-01",
          "2020-08-01",
          "2020-09-01",
          "2020-10-01",
          "2020-11-01",
          "2020-12-01",
          "2021-01-01",
          "2021-02-01",
          "2021-03-01",
          "2021-04-01",
          "2021-05-01",
          "2021-06-01",
          "2021-07-01",
          "2021-08-01",
          "2021-09-01",
          "2021-10-01",
          "2021-11-01",
          "2021-12-01",
          "2022-01-01",
          "2022-02-01",
          "2022-03-01",
          "2022-04-01"
         ],
         "xaxis": "x",
         "y": [
          6,
          12,
          33,
          34,
          34,
          71,
          67,
          72,
          93,
          106,
          110,
          114,
          116,
          148,
          161,
          179,
          202,
          207,
          239,
          219,
          238,
          317,
          281,
          316,
          334,
          340,
          382,
          330,
          428,
          410,
          424,
          464,
          471,
          516,
          525,
          578,
          619,
          578,
          670,
          722
         ],
         "yaxis": "y"
        }
       ],
       "layout": {
        "legend": {
         "tracegroupgap": 0
        },
        "template": {
         "data": {
          "bar": [
           {
            "error_x": {
             "color": "#2a3f5f"
            },
            "error_y": {
             "color": "#2a3f5f"
            },
            "marker": {
             "line": {
              "color": "#E5ECF6",
              "width": 0.5
             },
             "pattern": {
              "fillmode": "overlay",
              "size": 10,
              "solidity": 0.2
             }
            },
            "type": "bar"
           }
          ],
          "barpolar": [
           {
            "marker": {
             "line": {
              "color": "#E5ECF6",
              "width": 0.5
             },
             "pattern": {
              "fillmode": "overlay",
              "size": 10,
              "solidity": 0.2
             }
            },
            "type": "barpolar"
           }
          ],
          "carpet": [
           {
            "aaxis": {
             "endlinecolor": "#2a3f5f",
             "gridcolor": "white",
             "linecolor": "white",
             "minorgridcolor": "white",
             "startlinecolor": "#2a3f5f"
            },
            "baxis": {
             "endlinecolor": "#2a3f5f",
             "gridcolor": "white",
             "linecolor": "white",
             "minorgridcolor": "white",
             "startlinecolor": "#2a3f5f"
            },
            "type": "carpet"
           }
          ],
          "choropleth": [
           {
            "colorbar": {
             "outlinewidth": 0,
             "ticks": ""
            },
            "type": "choropleth"
           }
          ],
          "contour": [
           {
            "colorbar": {
             "outlinewidth": 0,
             "ticks": ""
            },
            "colorscale": [
             [
              0,
              "#0d0887"
             ],
             [
              0.1111111111111111,
              "#46039f"
             ],
             [
              0.2222222222222222,
              "#7201a8"
             ],
             [
              0.3333333333333333,
              "#9c179e"
             ],
             [
              0.4444444444444444,
              "#bd3786"
             ],
             [
              0.5555555555555556,
              "#d8576b"
             ],
             [
              0.6666666666666666,
              "#ed7953"
             ],
             [
              0.7777777777777778,
              "#fb9f3a"
             ],
             [
              0.8888888888888888,
              "#fdca26"
             ],
             [
              1,
              "#f0f921"
             ]
            ],
            "type": "contour"
           }
          ],
          "contourcarpet": [
           {
            "colorbar": {
             "outlinewidth": 0,
             "ticks": ""
            },
            "type": "contourcarpet"
           }
          ],
          "heatmap": [
           {
            "colorbar": {
             "outlinewidth": 0,
             "ticks": ""
            },
            "colorscale": [
             [
              0,
              "#0d0887"
             ],
             [
              0.1111111111111111,
              "#46039f"
             ],
             [
              0.2222222222222222,
              "#7201a8"
             ],
             [
              0.3333333333333333,
              "#9c179e"
             ],
             [
              0.4444444444444444,
              "#bd3786"
             ],
             [
              0.5555555555555556,
              "#d8576b"
             ],
             [
              0.6666666666666666,
              "#ed7953"
             ],
             [
              0.7777777777777778,
              "#fb9f3a"
             ],
             [
              0.8888888888888888,
              "#fdca26"
             ],
             [
              1,
              "#f0f921"
             ]
            ],
            "type": "heatmap"
           }
          ],
          "heatmapgl": [
           {
            "colorbar": {
             "outlinewidth": 0,
             "ticks": ""
            },
            "colorscale": [
             [
              0,
              "#0d0887"
             ],
             [
              0.1111111111111111,
              "#46039f"
             ],
             [
              0.2222222222222222,
              "#7201a8"
             ],
             [
              0.3333333333333333,
              "#9c179e"
             ],
             [
              0.4444444444444444,
              "#bd3786"
             ],
             [
              0.5555555555555556,
              "#d8576b"
             ],
             [
              0.6666666666666666,
              "#ed7953"
             ],
             [
              0.7777777777777778,
              "#fb9f3a"
             ],
             [
              0.8888888888888888,
              "#fdca26"
             ],
             [
              1,
              "#f0f921"
             ]
            ],
            "type": "heatmapgl"
           }
          ],
          "histogram": [
           {
            "marker": {
             "pattern": {
              "fillmode": "overlay",
              "size": 10,
              "solidity": 0.2
             }
            },
            "type": "histogram"
           }
          ],
          "histogram2d": [
           {
            "colorbar": {
             "outlinewidth": 0,
             "ticks": ""
            },
            "colorscale": [
             [
              0,
              "#0d0887"
             ],
             [
              0.1111111111111111,
              "#46039f"
             ],
             [
              0.2222222222222222,
              "#7201a8"
             ],
             [
              0.3333333333333333,
              "#9c179e"
             ],
             [
              0.4444444444444444,
              "#bd3786"
             ],
             [
              0.5555555555555556,
              "#d8576b"
             ],
             [
              0.6666666666666666,
              "#ed7953"
             ],
             [
              0.7777777777777778,
              "#fb9f3a"
             ],
             [
              0.8888888888888888,
              "#fdca26"
             ],
             [
              1,
              "#f0f921"
             ]
            ],
            "type": "histogram2d"
           }
          ],
          "histogram2dcontour": [
           {
            "colorbar": {
             "outlinewidth": 0,
             "ticks": ""
            },
            "colorscale": [
             [
              0,
              "#0d0887"
             ],
             [
              0.1111111111111111,
              "#46039f"
             ],
             [
              0.2222222222222222,
              "#7201a8"
             ],
             [
              0.3333333333333333,
              "#9c179e"
             ],
             [
              0.4444444444444444,
              "#bd3786"
             ],
             [
              0.5555555555555556,
              "#d8576b"
             ],
             [
              0.6666666666666666,
              "#ed7953"
             ],
             [
              0.7777777777777778,
              "#fb9f3a"
             ],
             [
              0.8888888888888888,
              "#fdca26"
             ],
             [
              1,
              "#f0f921"
             ]
            ],
            "type": "histogram2dcontour"
           }
          ],
          "mesh3d": [
           {
            "colorbar": {
             "outlinewidth": 0,
             "ticks": ""
            },
            "type": "mesh3d"
           }
          ],
          "parcoords": [
           {
            "line": {
             "colorbar": {
              "outlinewidth": 0,
              "ticks": ""
             }
            },
            "type": "parcoords"
           }
          ],
          "pie": [
           {
            "automargin": true,
            "type": "pie"
           }
          ],
          "scatter": [
           {
            "fillpattern": {
             "fillmode": "overlay",
             "size": 10,
             "solidity": 0.2
            },
            "type": "scatter"
           }
          ],
          "scatter3d": [
           {
            "line": {
             "colorbar": {
              "outlinewidth": 0,
              "ticks": ""
             }
            },
            "marker": {
             "colorbar": {
              "outlinewidth": 0,
              "ticks": ""
             }
            },
            "type": "scatter3d"
           }
          ],
          "scattercarpet": [
           {
            "marker": {
             "colorbar": {
              "outlinewidth": 0,
              "ticks": ""
             }
            },
            "type": "scattercarpet"
           }
          ],
          "scattergeo": [
           {
            "marker": {
             "colorbar": {
              "outlinewidth": 0,
              "ticks": ""
             }
            },
            "type": "scattergeo"
           }
          ],
          "scattergl": [
           {
            "marker": {
             "colorbar": {
              "outlinewidth": 0,
              "ticks": ""
             }
            },
            "type": "scattergl"
           }
          ],
          "scattermapbox": [
           {
            "marker": {
             "colorbar": {
              "outlinewidth": 0,
              "ticks": ""
             }
            },
            "type": "scattermapbox"
           }
          ],
          "scatterpolar": [
           {
            "marker": {
             "colorbar": {
              "outlinewidth": 0,
              "ticks": ""
             }
            },
            "type": "scatterpolar"
           }
          ],
          "scatterpolargl": [
           {
            "marker": {
             "colorbar": {
              "outlinewidth": 0,
              "ticks": ""
             }
            },
            "type": "scatterpolargl"
           }
          ],
          "scatterternary": [
           {
            "marker": {
             "colorbar": {
              "outlinewidth": 0,
              "ticks": ""
             }
            },
            "type": "scatterternary"
           }
          ],
          "surface": [
           {
            "colorbar": {
             "outlinewidth": 0,
             "ticks": ""
            },
            "colorscale": [
             [
              0,
              "#0d0887"
             ],
             [
              0.1111111111111111,
              "#46039f"
             ],
             [
              0.2222222222222222,
              "#7201a8"
             ],
             [
              0.3333333333333333,
              "#9c179e"
             ],
             [
              0.4444444444444444,
              "#bd3786"
             ],
             [
              0.5555555555555556,
              "#d8576b"
             ],
             [
              0.6666666666666666,
              "#ed7953"
             ],
             [
              0.7777777777777778,
              "#fb9f3a"
             ],
             [
              0.8888888888888888,
              "#fdca26"
             ],
             [
              1,
              "#f0f921"
             ]
            ],
            "type": "surface"
           }
          ],
          "table": [
           {
            "cells": {
             "fill": {
              "color": "#EBF0F8"
             },
             "line": {
              "color": "white"
             }
            },
            "header": {
             "fill": {
              "color": "#C8D4E3"
             },
             "line": {
              "color": "white"
             }
            },
            "type": "table"
           }
          ]
         },
         "layout": {
          "annotationdefaults": {
           "arrowcolor": "#2a3f5f",
           "arrowhead": 0,
           "arrowwidth": 1
          },
          "autotypenumbers": "strict",
          "coloraxis": {
           "colorbar": {
            "outlinewidth": 0,
            "ticks": ""
           }
          },
          "colorscale": {
           "diverging": [
            [
             0,
             "#8e0152"
            ],
            [
             0.1,
             "#c51b7d"
            ],
            [
             0.2,
             "#de77ae"
            ],
            [
             0.3,
             "#f1b6da"
            ],
            [
             0.4,
             "#fde0ef"
            ],
            [
             0.5,
             "#f7f7f7"
            ],
            [
             0.6,
             "#e6f5d0"
            ],
            [
             0.7,
             "#b8e186"
            ],
            [
             0.8,
             "#7fbc41"
            ],
            [
             0.9,
             "#4d9221"
            ],
            [
             1,
             "#276419"
            ]
           ],
           "sequential": [
            [
             0,
             "#0d0887"
            ],
            [
             0.1111111111111111,
             "#46039f"
            ],
            [
             0.2222222222222222,
             "#7201a8"
            ],
            [
             0.3333333333333333,
             "#9c179e"
            ],
            [
             0.4444444444444444,
             "#bd3786"
            ],
            [
             0.5555555555555556,
             "#d8576b"
            ],
            [
             0.6666666666666666,
             "#ed7953"
            ],
            [
             0.7777777777777778,
             "#fb9f3a"
            ],
            [
             0.8888888888888888,
             "#fdca26"
            ],
            [
             1,
             "#f0f921"
            ]
           ],
           "sequentialminus": [
            [
             0,
             "#0d0887"
            ],
            [
             0.1111111111111111,
             "#46039f"
            ],
            [
             0.2222222222222222,
             "#7201a8"
            ],
            [
             0.3333333333333333,
             "#9c179e"
            ],
            [
             0.4444444444444444,
             "#bd3786"
            ],
            [
             0.5555555555555556,
             "#d8576b"
            ],
            [
             0.6666666666666666,
             "#ed7953"
            ],
            [
             0.7777777777777778,
             "#fb9f3a"
            ],
            [
             0.8888888888888888,
             "#fdca26"
            ],
            [
             1,
             "#f0f921"
            ]
           ]
          },
          "colorway": [
           "#636efa",
           "#EF553B",
           "#00cc96",
           "#ab63fa",
           "#FFA15A",
           "#19d3f3",
           "#FF6692",
           "#B6E880",
           "#FF97FF",
           "#FECB52"
          ],
          "font": {
           "color": "#2a3f5f"
          },
          "geo": {
           "bgcolor": "white",
           "lakecolor": "white",
           "landcolor": "#E5ECF6",
           "showlakes": true,
           "showland": true,
           "subunitcolor": "white"
          },
          "hoverlabel": {
           "align": "left"
          },
          "hovermode": "closest",
          "mapbox": {
           "style": "light"
          },
          "paper_bgcolor": "white",
          "plot_bgcolor": "#E5ECF6",
          "polar": {
           "angularaxis": {
            "gridcolor": "white",
            "linecolor": "white",
            "ticks": ""
           },
           "bgcolor": "#E5ECF6",
           "radialaxis": {
            "gridcolor": "white",
            "linecolor": "white",
            "ticks": ""
           }
          },
          "scene": {
           "xaxis": {
            "backgroundcolor": "#E5ECF6",
            "gridcolor": "white",
            "gridwidth": 2,
            "linecolor": "white",
            "showbackground": true,
            "ticks": "",
            "zerolinecolor": "white"
           },
           "yaxis": {
            "backgroundcolor": "#E5ECF6",
            "gridcolor": "white",
            "gridwidth": 2,
            "linecolor": "white",
            "showbackground": true,
            "ticks": "",
            "zerolinecolor": "white"
           },
           "zaxis": {
            "backgroundcolor": "#E5ECF6",
            "gridcolor": "white",
            "gridwidth": 2,
            "linecolor": "white",
            "showbackground": true,
            "ticks": "",
            "zerolinecolor": "white"
           }
          },
          "shapedefaults": {
           "line": {
            "color": "#2a3f5f"
           }
          },
          "ternary": {
           "aaxis": {
            "gridcolor": "white",
            "linecolor": "white",
            "ticks": ""
           },
           "baxis": {
            "gridcolor": "white",
            "linecolor": "white",
            "ticks": ""
           },
           "bgcolor": "#E5ECF6",
           "caxis": {
            "gridcolor": "white",
            "linecolor": "white",
            "ticks": ""
           }
          },
          "title": {
           "x": 0.05
          },
          "xaxis": {
           "automargin": true,
           "gridcolor": "white",
           "linecolor": "white",
           "ticks": "",
           "title": {
            "standoff": 15
           },
           "zerolinecolor": "white",
           "zerolinewidth": 2
          },
          "yaxis": {
           "automargin": true,
           "gridcolor": "white",
           "linecolor": "white",
           "ticks": "",
           "title": {
            "standoff": 15
           },
           "zerolinecolor": "white",
           "zerolinewidth": 2
          }
         }
        },
        "title": {
         "text": "Monthly Orders"
        },
        "xaxis": {
         "anchor": "y",
         "domain": [
          0,
          1
         ],
         "title": {
          "text": "month"
         }
        },
        "yaxis": {
         "anchor": "x",
         "domain": [
          0,
          1
         ],
         "title": {
          "text": "total_order"
         }
        }
       }
      }
     },
     "metadata": {},
     "output_type": "display_data"
    }
   ],
   "source": [
    "fig = exp.line(total_order_user_df, x='month', y='total_order', title='Monthly Orders')\n",
    "fig.show()\n"
   ]
  },
  {
   "cell_type": "code",
   "execution_count": 22,
   "metadata": {},
   "outputs": [
    {
     "name": "stdout",
     "output_type": "stream",
     "text": [
      "Query returns a valid table\n"
     ]
    },
    {
     "data": {
      "text/html": [
       "<div>\n",
       "<style scoped>\n",
       "    .dataframe tbody tr th:only-of-type {\n",
       "        vertical-align: middle;\n",
       "    }\n",
       "\n",
       "    .dataframe tbody tr th {\n",
       "        vertical-align: top;\n",
       "    }\n",
       "\n",
       "    .dataframe thead th {\n",
       "        text-align: right;\n",
       "    }\n",
       "</style>\n",
       "<table border=\"1\" class=\"dataframe\">\n",
       "  <thead>\n",
       "    <tr style=\"text-align: right;\">\n",
       "      <th></th>\n",
       "      <th>month_year</th>\n",
       "      <th>distinct_users</th>\n",
       "      <th>average_order_value</th>\n",
       "    </tr>\n",
       "  </thead>\n",
       "  <tbody>\n",
       "    <tr>\n",
       "      <th>0</th>\n",
       "      <td>2019-01-01</td>\n",
       "      <td>6</td>\n",
       "      <td>161.36</td>\n",
       "    </tr>\n",
       "    <tr>\n",
       "      <th>1</th>\n",
       "      <td>2019-02-01</td>\n",
       "      <td>13</td>\n",
       "      <td>77.04</td>\n",
       "    </tr>\n",
       "    <tr>\n",
       "      <th>2</th>\n",
       "      <td>2019-03-01</td>\n",
       "      <td>34</td>\n",
       "      <td>85.89</td>\n",
       "    </tr>\n",
       "    <tr>\n",
       "      <th>3</th>\n",
       "      <td>2019-04-01</td>\n",
       "      <td>34</td>\n",
       "      <td>78.97</td>\n",
       "    </tr>\n",
       "    <tr>\n",
       "      <th>4</th>\n",
       "      <td>2019-05-01</td>\n",
       "      <td>37</td>\n",
       "      <td>67.05</td>\n",
       "    </tr>\n",
       "    <tr>\n",
       "      <th>5</th>\n",
       "      <td>2019-06-01</td>\n",
       "      <td>70</td>\n",
       "      <td>90.42</td>\n",
       "    </tr>\n",
       "    <tr>\n",
       "      <th>6</th>\n",
       "      <td>2019-07-01</td>\n",
       "      <td>67</td>\n",
       "      <td>85.79</td>\n",
       "    </tr>\n",
       "    <tr>\n",
       "      <th>7</th>\n",
       "      <td>2019-08-01</td>\n",
       "      <td>73</td>\n",
       "      <td>85.82</td>\n",
       "    </tr>\n",
       "    <tr>\n",
       "      <th>8</th>\n",
       "      <td>2019-09-01</td>\n",
       "      <td>96</td>\n",
       "      <td>80.81</td>\n",
       "    </tr>\n",
       "    <tr>\n",
       "      <th>9</th>\n",
       "      <td>2019-10-01</td>\n",
       "      <td>106</td>\n",
       "      <td>89.94</td>\n",
       "    </tr>\n",
       "    <tr>\n",
       "      <th>10</th>\n",
       "      <td>2019-11-01</td>\n",
       "      <td>111</td>\n",
       "      <td>90.68</td>\n",
       "    </tr>\n",
       "    <tr>\n",
       "      <th>11</th>\n",
       "      <td>2019-12-01</td>\n",
       "      <td>111</td>\n",
       "      <td>79.83</td>\n",
       "    </tr>\n",
       "    <tr>\n",
       "      <th>12</th>\n",
       "      <td>2020-01-01</td>\n",
       "      <td>120</td>\n",
       "      <td>78.01</td>\n",
       "    </tr>\n",
       "    <tr>\n",
       "      <th>13</th>\n",
       "      <td>2020-02-01</td>\n",
       "      <td>148</td>\n",
       "      <td>84.30</td>\n",
       "    </tr>\n",
       "    <tr>\n",
       "      <th>14</th>\n",
       "      <td>2020-03-01</td>\n",
       "      <td>163</td>\n",
       "      <td>82.61</td>\n",
       "    </tr>\n",
       "    <tr>\n",
       "      <th>15</th>\n",
       "      <td>2020-04-01</td>\n",
       "      <td>185</td>\n",
       "      <td>82.61</td>\n",
       "    </tr>\n",
       "    <tr>\n",
       "      <th>16</th>\n",
       "      <td>2020-05-01</td>\n",
       "      <td>206</td>\n",
       "      <td>82.58</td>\n",
       "    </tr>\n",
       "    <tr>\n",
       "      <th>17</th>\n",
       "      <td>2020-06-01</td>\n",
       "      <td>209</td>\n",
       "      <td>80.46</td>\n",
       "    </tr>\n",
       "    <tr>\n",
       "      <th>18</th>\n",
       "      <td>2020-07-01</td>\n",
       "      <td>242</td>\n",
       "      <td>85.17</td>\n",
       "    </tr>\n",
       "    <tr>\n",
       "      <th>19</th>\n",
       "      <td>2020-08-01</td>\n",
       "      <td>219</td>\n",
       "      <td>78.81</td>\n",
       "    </tr>\n",
       "    <tr>\n",
       "      <th>20</th>\n",
       "      <td>2020-09-01</td>\n",
       "      <td>247</td>\n",
       "      <td>83.83</td>\n",
       "    </tr>\n",
       "    <tr>\n",
       "      <th>21</th>\n",
       "      <td>2020-10-01</td>\n",
       "      <td>318</td>\n",
       "      <td>87.95</td>\n",
       "    </tr>\n",
       "    <tr>\n",
       "      <th>22</th>\n",
       "      <td>2020-11-01</td>\n",
       "      <td>283</td>\n",
       "      <td>82.38</td>\n",
       "    </tr>\n",
       "    <tr>\n",
       "      <th>23</th>\n",
       "      <td>2020-12-01</td>\n",
       "      <td>319</td>\n",
       "      <td>87.97</td>\n",
       "    </tr>\n",
       "    <tr>\n",
       "      <th>24</th>\n",
       "      <td>2021-01-01</td>\n",
       "      <td>336</td>\n",
       "      <td>87.15</td>\n",
       "    </tr>\n",
       "    <tr>\n",
       "      <th>25</th>\n",
       "      <td>2021-02-01</td>\n",
       "      <td>343</td>\n",
       "      <td>93.53</td>\n",
       "    </tr>\n",
       "    <tr>\n",
       "      <th>26</th>\n",
       "      <td>2021-03-01</td>\n",
       "      <td>391</td>\n",
       "      <td>81.13</td>\n",
       "    </tr>\n",
       "    <tr>\n",
       "      <th>27</th>\n",
       "      <td>2021-04-01</td>\n",
       "      <td>342</td>\n",
       "      <td>76.41</td>\n",
       "    </tr>\n",
       "    <tr>\n",
       "      <th>28</th>\n",
       "      <td>2021-05-01</td>\n",
       "      <td>431</td>\n",
       "      <td>85.66</td>\n",
       "    </tr>\n",
       "    <tr>\n",
       "      <th>29</th>\n",
       "      <td>2021-06-01</td>\n",
       "      <td>415</td>\n",
       "      <td>81.85</td>\n",
       "    </tr>\n",
       "    <tr>\n",
       "      <th>30</th>\n",
       "      <td>2021-07-01</td>\n",
       "      <td>430</td>\n",
       "      <td>86.28</td>\n",
       "    </tr>\n",
       "    <tr>\n",
       "      <th>31</th>\n",
       "      <td>2021-08-01</td>\n",
       "      <td>472</td>\n",
       "      <td>92.18</td>\n",
       "    </tr>\n",
       "    <tr>\n",
       "      <th>32</th>\n",
       "      <td>2021-09-01</td>\n",
       "      <td>477</td>\n",
       "      <td>95.23</td>\n",
       "    </tr>\n",
       "    <tr>\n",
       "      <th>33</th>\n",
       "      <td>2021-10-01</td>\n",
       "      <td>533</td>\n",
       "      <td>79.87</td>\n",
       "    </tr>\n",
       "    <tr>\n",
       "      <th>34</th>\n",
       "      <td>2021-11-01</td>\n",
       "      <td>535</td>\n",
       "      <td>82.80</td>\n",
       "    </tr>\n",
       "    <tr>\n",
       "      <th>35</th>\n",
       "      <td>2021-12-01</td>\n",
       "      <td>577</td>\n",
       "      <td>94.96</td>\n",
       "    </tr>\n",
       "    <tr>\n",
       "      <th>36</th>\n",
       "      <td>2022-01-01</td>\n",
       "      <td>637</td>\n",
       "      <td>87.27</td>\n",
       "    </tr>\n",
       "    <tr>\n",
       "      <th>37</th>\n",
       "      <td>2022-02-01</td>\n",
       "      <td>590</td>\n",
       "      <td>85.28</td>\n",
       "    </tr>\n",
       "    <tr>\n",
       "      <th>38</th>\n",
       "      <td>2022-03-01</td>\n",
       "      <td>680</td>\n",
       "      <td>77.77</td>\n",
       "    </tr>\n",
       "    <tr>\n",
       "      <th>39</th>\n",
       "      <td>2022-04-01</td>\n",
       "      <td>743</td>\n",
       "      <td>83.08</td>\n",
       "    </tr>\n",
       "  </tbody>\n",
       "</table>\n",
       "</div>"
      ],
      "text/plain": [
       "    month_year  distinct_users  average_order_value\n",
       "0   2019-01-01               6               161.36\n",
       "1   2019-02-01              13                77.04\n",
       "2   2019-03-01              34                85.89\n",
       "3   2019-04-01              34                78.97\n",
       "4   2019-05-01              37                67.05\n",
       "5   2019-06-01              70                90.42\n",
       "6   2019-07-01              67                85.79\n",
       "7   2019-08-01              73                85.82\n",
       "8   2019-09-01              96                80.81\n",
       "9   2019-10-01             106                89.94\n",
       "10  2019-11-01             111                90.68\n",
       "11  2019-12-01             111                79.83\n",
       "12  2020-01-01             120                78.01\n",
       "13  2020-02-01             148                84.30\n",
       "14  2020-03-01             163                82.61\n",
       "15  2020-04-01             185                82.61\n",
       "16  2020-05-01             206                82.58\n",
       "17  2020-06-01             209                80.46\n",
       "18  2020-07-01             242                85.17\n",
       "19  2020-08-01             219                78.81\n",
       "20  2020-09-01             247                83.83\n",
       "21  2020-10-01             318                87.95\n",
       "22  2020-11-01             283                82.38\n",
       "23  2020-12-01             319                87.97\n",
       "24  2021-01-01             336                87.15\n",
       "25  2021-02-01             343                93.53\n",
       "26  2021-03-01             391                81.13\n",
       "27  2021-04-01             342                76.41\n",
       "28  2021-05-01             431                85.66\n",
       "29  2021-06-01             415                81.85\n",
       "30  2021-07-01             430                86.28\n",
       "31  2021-08-01             472                92.18\n",
       "32  2021-09-01             477                95.23\n",
       "33  2021-10-01             533                79.87\n",
       "34  2021-11-01             535                82.80\n",
       "35  2021-12-01             577                94.96\n",
       "36  2022-01-01             637                87.27\n",
       "37  2022-02-01             590                85.28\n",
       "38  2022-03-01             680                77.77\n",
       "39  2022-04-01             743                83.08"
      ]
     },
     "execution_count": 22,
     "metadata": {},
     "output_type": "execute_result"
    }
   ],
   "source": [
    "query = \"\"\"\n",
    "SELECT \n",
    "DATE_TRUNC(DATE(oi.created_at),MONTH) AS month_year,\n",
    "COUNT(DISTINCT oi.user_id) AS distinct_users,\n",
    "ROUND(SUM(sale_price)/ COUNT(DISTINCT oi.order_id),2) AS average_order_value\n",
    "FROM `bigquery-public-data.thelook_ecommerce.order_items` AS oi\n",
    "INNER JOIN `bigquery-public-data.thelook_ecommerce.orders` AS o\n",
    "ON oi.order_id = o.order_id\n",
    "WHERE DATE(oi.created_at) BETWEEN '2019-01-01' AND '2022-04-30'\n",
    "AND oi.status = 'Complete'\n",
    "GROUP BY month_year\n",
    "ORDER BY month_year\n",
    "        \"\"\"\n",
    "\n",
    "results = execute_query(query)\n",
    "distinct_user_df = results.to_dataframe()\n",
    "distinct_user_df"
   ]
  },
  {
   "cell_type": "code",
   "execution_count": 23,
   "metadata": {},
   "outputs": [
    {
     "data": {
      "application/vnd.plotly.v1+json": {
       "config": {
        "plotlyServerURL": "https://plot.ly"
       },
       "data": [
        {
         "hovertemplate": "month_year=%{x}<br>distinct_users=%{y}<extra></extra>",
         "legendgroup": "",
         "line": {
          "color": "#636efa",
          "dash": "solid"
         },
         "marker": {
          "symbol": "circle"
         },
         "mode": "lines",
         "name": "",
         "orientation": "v",
         "showlegend": false,
         "type": "scatter",
         "x": [
          "2019-01-01",
          "2019-02-01",
          "2019-03-01",
          "2019-04-01",
          "2019-05-01",
          "2019-06-01",
          "2019-07-01",
          "2019-08-01",
          "2019-09-01",
          "2019-10-01",
          "2019-11-01",
          "2019-12-01",
          "2020-01-01",
          "2020-02-01",
          "2020-03-01",
          "2020-04-01",
          "2020-05-01",
          "2020-06-01",
          "2020-07-01",
          "2020-08-01",
          "2020-09-01",
          "2020-10-01",
          "2020-11-01",
          "2020-12-01",
          "2021-01-01",
          "2021-02-01",
          "2021-03-01",
          "2021-04-01",
          "2021-05-01",
          "2021-06-01",
          "2021-07-01",
          "2021-08-01",
          "2021-09-01",
          "2021-10-01",
          "2021-11-01",
          "2021-12-01",
          "2022-01-01",
          "2022-02-01",
          "2022-03-01",
          "2022-04-01"
         ],
         "xaxis": "x",
         "y": [
          6,
          13,
          34,
          34,
          37,
          70,
          67,
          73,
          96,
          106,
          111,
          111,
          120,
          148,
          163,
          185,
          206,
          209,
          242,
          219,
          247,
          318,
          283,
          319,
          336,
          343,
          391,
          342,
          431,
          415,
          430,
          472,
          477,
          533,
          535,
          577,
          637,
          590,
          680,
          743
         ],
         "yaxis": "y"
        }
       ],
       "layout": {
        "legend": {
         "tracegroupgap": 0
        },
        "template": {
         "data": {
          "bar": [
           {
            "error_x": {
             "color": "#2a3f5f"
            },
            "error_y": {
             "color": "#2a3f5f"
            },
            "marker": {
             "line": {
              "color": "#E5ECF6",
              "width": 0.5
             },
             "pattern": {
              "fillmode": "overlay",
              "size": 10,
              "solidity": 0.2
             }
            },
            "type": "bar"
           }
          ],
          "barpolar": [
           {
            "marker": {
             "line": {
              "color": "#E5ECF6",
              "width": 0.5
             },
             "pattern": {
              "fillmode": "overlay",
              "size": 10,
              "solidity": 0.2
             }
            },
            "type": "barpolar"
           }
          ],
          "carpet": [
           {
            "aaxis": {
             "endlinecolor": "#2a3f5f",
             "gridcolor": "white",
             "linecolor": "white",
             "minorgridcolor": "white",
             "startlinecolor": "#2a3f5f"
            },
            "baxis": {
             "endlinecolor": "#2a3f5f",
             "gridcolor": "white",
             "linecolor": "white",
             "minorgridcolor": "white",
             "startlinecolor": "#2a3f5f"
            },
            "type": "carpet"
           }
          ],
          "choropleth": [
           {
            "colorbar": {
             "outlinewidth": 0,
             "ticks": ""
            },
            "type": "choropleth"
           }
          ],
          "contour": [
           {
            "colorbar": {
             "outlinewidth": 0,
             "ticks": ""
            },
            "colorscale": [
             [
              0,
              "#0d0887"
             ],
             [
              0.1111111111111111,
              "#46039f"
             ],
             [
              0.2222222222222222,
              "#7201a8"
             ],
             [
              0.3333333333333333,
              "#9c179e"
             ],
             [
              0.4444444444444444,
              "#bd3786"
             ],
             [
              0.5555555555555556,
              "#d8576b"
             ],
             [
              0.6666666666666666,
              "#ed7953"
             ],
             [
              0.7777777777777778,
              "#fb9f3a"
             ],
             [
              0.8888888888888888,
              "#fdca26"
             ],
             [
              1,
              "#f0f921"
             ]
            ],
            "type": "contour"
           }
          ],
          "contourcarpet": [
           {
            "colorbar": {
             "outlinewidth": 0,
             "ticks": ""
            },
            "type": "contourcarpet"
           }
          ],
          "heatmap": [
           {
            "colorbar": {
             "outlinewidth": 0,
             "ticks": ""
            },
            "colorscale": [
             [
              0,
              "#0d0887"
             ],
             [
              0.1111111111111111,
              "#46039f"
             ],
             [
              0.2222222222222222,
              "#7201a8"
             ],
             [
              0.3333333333333333,
              "#9c179e"
             ],
             [
              0.4444444444444444,
              "#bd3786"
             ],
             [
              0.5555555555555556,
              "#d8576b"
             ],
             [
              0.6666666666666666,
              "#ed7953"
             ],
             [
              0.7777777777777778,
              "#fb9f3a"
             ],
             [
              0.8888888888888888,
              "#fdca26"
             ],
             [
              1,
              "#f0f921"
             ]
            ],
            "type": "heatmap"
           }
          ],
          "heatmapgl": [
           {
            "colorbar": {
             "outlinewidth": 0,
             "ticks": ""
            },
            "colorscale": [
             [
              0,
              "#0d0887"
             ],
             [
              0.1111111111111111,
              "#46039f"
             ],
             [
              0.2222222222222222,
              "#7201a8"
             ],
             [
              0.3333333333333333,
              "#9c179e"
             ],
             [
              0.4444444444444444,
              "#bd3786"
             ],
             [
              0.5555555555555556,
              "#d8576b"
             ],
             [
              0.6666666666666666,
              "#ed7953"
             ],
             [
              0.7777777777777778,
              "#fb9f3a"
             ],
             [
              0.8888888888888888,
              "#fdca26"
             ],
             [
              1,
              "#f0f921"
             ]
            ],
            "type": "heatmapgl"
           }
          ],
          "histogram": [
           {
            "marker": {
             "pattern": {
              "fillmode": "overlay",
              "size": 10,
              "solidity": 0.2
             }
            },
            "type": "histogram"
           }
          ],
          "histogram2d": [
           {
            "colorbar": {
             "outlinewidth": 0,
             "ticks": ""
            },
            "colorscale": [
             [
              0,
              "#0d0887"
             ],
             [
              0.1111111111111111,
              "#46039f"
             ],
             [
              0.2222222222222222,
              "#7201a8"
             ],
             [
              0.3333333333333333,
              "#9c179e"
             ],
             [
              0.4444444444444444,
              "#bd3786"
             ],
             [
              0.5555555555555556,
              "#d8576b"
             ],
             [
              0.6666666666666666,
              "#ed7953"
             ],
             [
              0.7777777777777778,
              "#fb9f3a"
             ],
             [
              0.8888888888888888,
              "#fdca26"
             ],
             [
              1,
              "#f0f921"
             ]
            ],
            "type": "histogram2d"
           }
          ],
          "histogram2dcontour": [
           {
            "colorbar": {
             "outlinewidth": 0,
             "ticks": ""
            },
            "colorscale": [
             [
              0,
              "#0d0887"
             ],
             [
              0.1111111111111111,
              "#46039f"
             ],
             [
              0.2222222222222222,
              "#7201a8"
             ],
             [
              0.3333333333333333,
              "#9c179e"
             ],
             [
              0.4444444444444444,
              "#bd3786"
             ],
             [
              0.5555555555555556,
              "#d8576b"
             ],
             [
              0.6666666666666666,
              "#ed7953"
             ],
             [
              0.7777777777777778,
              "#fb9f3a"
             ],
             [
              0.8888888888888888,
              "#fdca26"
             ],
             [
              1,
              "#f0f921"
             ]
            ],
            "type": "histogram2dcontour"
           }
          ],
          "mesh3d": [
           {
            "colorbar": {
             "outlinewidth": 0,
             "ticks": ""
            },
            "type": "mesh3d"
           }
          ],
          "parcoords": [
           {
            "line": {
             "colorbar": {
              "outlinewidth": 0,
              "ticks": ""
             }
            },
            "type": "parcoords"
           }
          ],
          "pie": [
           {
            "automargin": true,
            "type": "pie"
           }
          ],
          "scatter": [
           {
            "fillpattern": {
             "fillmode": "overlay",
             "size": 10,
             "solidity": 0.2
            },
            "type": "scatter"
           }
          ],
          "scatter3d": [
           {
            "line": {
             "colorbar": {
              "outlinewidth": 0,
              "ticks": ""
             }
            },
            "marker": {
             "colorbar": {
              "outlinewidth": 0,
              "ticks": ""
             }
            },
            "type": "scatter3d"
           }
          ],
          "scattercarpet": [
           {
            "marker": {
             "colorbar": {
              "outlinewidth": 0,
              "ticks": ""
             }
            },
            "type": "scattercarpet"
           }
          ],
          "scattergeo": [
           {
            "marker": {
             "colorbar": {
              "outlinewidth": 0,
              "ticks": ""
             }
            },
            "type": "scattergeo"
           }
          ],
          "scattergl": [
           {
            "marker": {
             "colorbar": {
              "outlinewidth": 0,
              "ticks": ""
             }
            },
            "type": "scattergl"
           }
          ],
          "scattermapbox": [
           {
            "marker": {
             "colorbar": {
              "outlinewidth": 0,
              "ticks": ""
             }
            },
            "type": "scattermapbox"
           }
          ],
          "scatterpolar": [
           {
            "marker": {
             "colorbar": {
              "outlinewidth": 0,
              "ticks": ""
             }
            },
            "type": "scatterpolar"
           }
          ],
          "scatterpolargl": [
           {
            "marker": {
             "colorbar": {
              "outlinewidth": 0,
              "ticks": ""
             }
            },
            "type": "scatterpolargl"
           }
          ],
          "scatterternary": [
           {
            "marker": {
             "colorbar": {
              "outlinewidth": 0,
              "ticks": ""
             }
            },
            "type": "scatterternary"
           }
          ],
          "surface": [
           {
            "colorbar": {
             "outlinewidth": 0,
             "ticks": ""
            },
            "colorscale": [
             [
              0,
              "#0d0887"
             ],
             [
              0.1111111111111111,
              "#46039f"
             ],
             [
              0.2222222222222222,
              "#7201a8"
             ],
             [
              0.3333333333333333,
              "#9c179e"
             ],
             [
              0.4444444444444444,
              "#bd3786"
             ],
             [
              0.5555555555555556,
              "#d8576b"
             ],
             [
              0.6666666666666666,
              "#ed7953"
             ],
             [
              0.7777777777777778,
              "#fb9f3a"
             ],
             [
              0.8888888888888888,
              "#fdca26"
             ],
             [
              1,
              "#f0f921"
             ]
            ],
            "type": "surface"
           }
          ],
          "table": [
           {
            "cells": {
             "fill": {
              "color": "#EBF0F8"
             },
             "line": {
              "color": "white"
             }
            },
            "header": {
             "fill": {
              "color": "#C8D4E3"
             },
             "line": {
              "color": "white"
             }
            },
            "type": "table"
           }
          ]
         },
         "layout": {
          "annotationdefaults": {
           "arrowcolor": "#2a3f5f",
           "arrowhead": 0,
           "arrowwidth": 1
          },
          "autotypenumbers": "strict",
          "coloraxis": {
           "colorbar": {
            "outlinewidth": 0,
            "ticks": ""
           }
          },
          "colorscale": {
           "diverging": [
            [
             0,
             "#8e0152"
            ],
            [
             0.1,
             "#c51b7d"
            ],
            [
             0.2,
             "#de77ae"
            ],
            [
             0.3,
             "#f1b6da"
            ],
            [
             0.4,
             "#fde0ef"
            ],
            [
             0.5,
             "#f7f7f7"
            ],
            [
             0.6,
             "#e6f5d0"
            ],
            [
             0.7,
             "#b8e186"
            ],
            [
             0.8,
             "#7fbc41"
            ],
            [
             0.9,
             "#4d9221"
            ],
            [
             1,
             "#276419"
            ]
           ],
           "sequential": [
            [
             0,
             "#0d0887"
            ],
            [
             0.1111111111111111,
             "#46039f"
            ],
            [
             0.2222222222222222,
             "#7201a8"
            ],
            [
             0.3333333333333333,
             "#9c179e"
            ],
            [
             0.4444444444444444,
             "#bd3786"
            ],
            [
             0.5555555555555556,
             "#d8576b"
            ],
            [
             0.6666666666666666,
             "#ed7953"
            ],
            [
             0.7777777777777778,
             "#fb9f3a"
            ],
            [
             0.8888888888888888,
             "#fdca26"
            ],
            [
             1,
             "#f0f921"
            ]
           ],
           "sequentialminus": [
            [
             0,
             "#0d0887"
            ],
            [
             0.1111111111111111,
             "#46039f"
            ],
            [
             0.2222222222222222,
             "#7201a8"
            ],
            [
             0.3333333333333333,
             "#9c179e"
            ],
            [
             0.4444444444444444,
             "#bd3786"
            ],
            [
             0.5555555555555556,
             "#d8576b"
            ],
            [
             0.6666666666666666,
             "#ed7953"
            ],
            [
             0.7777777777777778,
             "#fb9f3a"
            ],
            [
             0.8888888888888888,
             "#fdca26"
            ],
            [
             1,
             "#f0f921"
            ]
           ]
          },
          "colorway": [
           "#636efa",
           "#EF553B",
           "#00cc96",
           "#ab63fa",
           "#FFA15A",
           "#19d3f3",
           "#FF6692",
           "#B6E880",
           "#FF97FF",
           "#FECB52"
          ],
          "font": {
           "color": "#2a3f5f"
          },
          "geo": {
           "bgcolor": "white",
           "lakecolor": "white",
           "landcolor": "#E5ECF6",
           "showlakes": true,
           "showland": true,
           "subunitcolor": "white"
          },
          "hoverlabel": {
           "align": "left"
          },
          "hovermode": "closest",
          "mapbox": {
           "style": "light"
          },
          "paper_bgcolor": "white",
          "plot_bgcolor": "#E5ECF6",
          "polar": {
           "angularaxis": {
            "gridcolor": "white",
            "linecolor": "white",
            "ticks": ""
           },
           "bgcolor": "#E5ECF6",
           "radialaxis": {
            "gridcolor": "white",
            "linecolor": "white",
            "ticks": ""
           }
          },
          "scene": {
           "xaxis": {
            "backgroundcolor": "#E5ECF6",
            "gridcolor": "white",
            "gridwidth": 2,
            "linecolor": "white",
            "showbackground": true,
            "ticks": "",
            "zerolinecolor": "white"
           },
           "yaxis": {
            "backgroundcolor": "#E5ECF6",
            "gridcolor": "white",
            "gridwidth": 2,
            "linecolor": "white",
            "showbackground": true,
            "ticks": "",
            "zerolinecolor": "white"
           },
           "zaxis": {
            "backgroundcolor": "#E5ECF6",
            "gridcolor": "white",
            "gridwidth": 2,
            "linecolor": "white",
            "showbackground": true,
            "ticks": "",
            "zerolinecolor": "white"
           }
          },
          "shapedefaults": {
           "line": {
            "color": "#2a3f5f"
           }
          },
          "ternary": {
           "aaxis": {
            "gridcolor": "white",
            "linecolor": "white",
            "ticks": ""
           },
           "baxis": {
            "gridcolor": "white",
            "linecolor": "white",
            "ticks": ""
           },
           "bgcolor": "#E5ECF6",
           "caxis": {
            "gridcolor": "white",
            "linecolor": "white",
            "ticks": ""
           }
          },
          "title": {
           "x": 0.05
          },
          "xaxis": {
           "automargin": true,
           "gridcolor": "white",
           "linecolor": "white",
           "ticks": "",
           "title": {
            "standoff": 15
           },
           "zerolinecolor": "white",
           "zerolinewidth": 2
          },
          "yaxis": {
           "automargin": true,
           "gridcolor": "white",
           "linecolor": "white",
           "ticks": "",
           "title": {
            "standoff": 15
           },
           "zerolinecolor": "white",
           "zerolinewidth": 2
          }
         }
        },
        "title": {
         "text": "Monthly Active Users"
        },
        "xaxis": {
         "anchor": "y",
         "domain": [
          0,
          1
         ],
         "title": {
          "text": "month_year"
         }
        },
        "yaxis": {
         "anchor": "x",
         "domain": [
          0,
          1
         ],
         "title": {
          "text": "distinct_users"
         }
        }
       }
      }
     },
     "metadata": {},
     "output_type": "display_data"
    }
   ],
   "source": [
    "fig = exp.line(distinct_user_df, x='month_year', y='distinct_users', title='Monthly Active Users')\n",
    "fig.show()\n",
    "\n"
   ]
  },
  {
   "cell_type": "code",
   "execution_count": 24,
   "metadata": {},
   "outputs": [
    {
     "name": "stdout",
     "output_type": "stream",
     "text": [
      "Query returns a valid table\n"
     ]
    },
    {
     "data": {
      "text/html": [
       "<div>\n",
       "<style scoped>\n",
       "    .dataframe tbody tr th:only-of-type {\n",
       "        vertical-align: middle;\n",
       "    }\n",
       "\n",
       "    .dataframe tbody tr th {\n",
       "        vertical-align: top;\n",
       "    }\n",
       "\n",
       "    .dataframe thead th {\n",
       "        text-align: right;\n",
       "    }\n",
       "</style>\n",
       "<table border=\"1\" class=\"dataframe\">\n",
       "  <thead>\n",
       "    <tr style=\"text-align: right;\">\n",
       "      <th></th>\n",
       "      <th>month_year</th>\n",
       "      <th>distinct_users</th>\n",
       "      <th>repeated_users</th>\n",
       "    </tr>\n",
       "  </thead>\n",
       "  <tbody>\n",
       "    <tr>\n",
       "      <th>0</th>\n",
       "      <td>2019-01-01</td>\n",
       "      <td>6</td>\n",
       "      <td>0</td>\n",
       "    </tr>\n",
       "    <tr>\n",
       "      <th>1</th>\n",
       "      <td>2019-02-01</td>\n",
       "      <td>13</td>\n",
       "      <td>0</td>\n",
       "    </tr>\n",
       "    <tr>\n",
       "      <th>2</th>\n",
       "      <td>2019-03-01</td>\n",
       "      <td>34</td>\n",
       "      <td>0</td>\n",
       "    </tr>\n",
       "    <tr>\n",
       "      <th>3</th>\n",
       "      <td>2019-04-01</td>\n",
       "      <td>34</td>\n",
       "      <td>0</td>\n",
       "    </tr>\n",
       "    <tr>\n",
       "      <th>4</th>\n",
       "      <td>2019-05-01</td>\n",
       "      <td>37</td>\n",
       "      <td>0</td>\n",
       "    </tr>\n",
       "    <tr>\n",
       "      <th>5</th>\n",
       "      <td>2019-06-01</td>\n",
       "      <td>70</td>\n",
       "      <td>0</td>\n",
       "    </tr>\n",
       "    <tr>\n",
       "      <th>6</th>\n",
       "      <td>2019-07-01</td>\n",
       "      <td>67</td>\n",
       "      <td>0</td>\n",
       "    </tr>\n",
       "    <tr>\n",
       "      <th>7</th>\n",
       "      <td>2019-08-01</td>\n",
       "      <td>73</td>\n",
       "      <td>0</td>\n",
       "    </tr>\n",
       "    <tr>\n",
       "      <th>8</th>\n",
       "      <td>2019-09-01</td>\n",
       "      <td>96</td>\n",
       "      <td>0</td>\n",
       "    </tr>\n",
       "    <tr>\n",
       "      <th>9</th>\n",
       "      <td>2019-10-01</td>\n",
       "      <td>106</td>\n",
       "      <td>0</td>\n",
       "    </tr>\n",
       "    <tr>\n",
       "      <th>10</th>\n",
       "      <td>2019-11-01</td>\n",
       "      <td>111</td>\n",
       "      <td>0</td>\n",
       "    </tr>\n",
       "    <tr>\n",
       "      <th>11</th>\n",
       "      <td>2019-12-01</td>\n",
       "      <td>111</td>\n",
       "      <td>0</td>\n",
       "    </tr>\n",
       "    <tr>\n",
       "      <th>12</th>\n",
       "      <td>2020-01-01</td>\n",
       "      <td>120</td>\n",
       "      <td>0</td>\n",
       "    </tr>\n",
       "    <tr>\n",
       "      <th>13</th>\n",
       "      <td>2020-02-01</td>\n",
       "      <td>148</td>\n",
       "      <td>0</td>\n",
       "    </tr>\n",
       "    <tr>\n",
       "      <th>14</th>\n",
       "      <td>2020-03-01</td>\n",
       "      <td>163</td>\n",
       "      <td>0</td>\n",
       "    </tr>\n",
       "    <tr>\n",
       "      <th>15</th>\n",
       "      <td>2020-04-01</td>\n",
       "      <td>185</td>\n",
       "      <td>0</td>\n",
       "    </tr>\n",
       "    <tr>\n",
       "      <th>16</th>\n",
       "      <td>2020-05-01</td>\n",
       "      <td>206</td>\n",
       "      <td>0</td>\n",
       "    </tr>\n",
       "    <tr>\n",
       "      <th>17</th>\n",
       "      <td>2020-06-01</td>\n",
       "      <td>209</td>\n",
       "      <td>0</td>\n",
       "    </tr>\n",
       "    <tr>\n",
       "      <th>18</th>\n",
       "      <td>2020-07-01</td>\n",
       "      <td>242</td>\n",
       "      <td>1</td>\n",
       "    </tr>\n",
       "    <tr>\n",
       "      <th>19</th>\n",
       "      <td>2020-08-01</td>\n",
       "      <td>219</td>\n",
       "      <td>0</td>\n",
       "    </tr>\n",
       "    <tr>\n",
       "      <th>20</th>\n",
       "      <td>2020-09-01</td>\n",
       "      <td>247</td>\n",
       "      <td>0</td>\n",
       "    </tr>\n",
       "    <tr>\n",
       "      <th>21</th>\n",
       "      <td>2020-10-01</td>\n",
       "      <td>318</td>\n",
       "      <td>0</td>\n",
       "    </tr>\n",
       "    <tr>\n",
       "      <th>22</th>\n",
       "      <td>2020-11-01</td>\n",
       "      <td>283</td>\n",
       "      <td>0</td>\n",
       "    </tr>\n",
       "    <tr>\n",
       "      <th>23</th>\n",
       "      <td>2020-12-01</td>\n",
       "      <td>319</td>\n",
       "      <td>0</td>\n",
       "    </tr>\n",
       "    <tr>\n",
       "      <th>24</th>\n",
       "      <td>2021-01-01</td>\n",
       "      <td>336</td>\n",
       "      <td>0</td>\n",
       "    </tr>\n",
       "    <tr>\n",
       "      <th>25</th>\n",
       "      <td>2021-02-01</td>\n",
       "      <td>343</td>\n",
       "      <td>0</td>\n",
       "    </tr>\n",
       "    <tr>\n",
       "      <th>26</th>\n",
       "      <td>2021-03-01</td>\n",
       "      <td>391</td>\n",
       "      <td>1</td>\n",
       "    </tr>\n",
       "    <tr>\n",
       "      <th>27</th>\n",
       "      <td>2021-04-01</td>\n",
       "      <td>342</td>\n",
       "      <td>0</td>\n",
       "    </tr>\n",
       "    <tr>\n",
       "      <th>28</th>\n",
       "      <td>2021-05-01</td>\n",
       "      <td>431</td>\n",
       "      <td>0</td>\n",
       "    </tr>\n",
       "    <tr>\n",
       "      <th>29</th>\n",
       "      <td>2021-06-01</td>\n",
       "      <td>415</td>\n",
       "      <td>0</td>\n",
       "    </tr>\n",
       "    <tr>\n",
       "      <th>30</th>\n",
       "      <td>2021-07-01</td>\n",
       "      <td>430</td>\n",
       "      <td>0</td>\n",
       "    </tr>\n",
       "    <tr>\n",
       "      <th>31</th>\n",
       "      <td>2021-08-01</td>\n",
       "      <td>472</td>\n",
       "      <td>0</td>\n",
       "    </tr>\n",
       "    <tr>\n",
       "      <th>32</th>\n",
       "      <td>2021-09-01</td>\n",
       "      <td>477</td>\n",
       "      <td>0</td>\n",
       "    </tr>\n",
       "    <tr>\n",
       "      <th>33</th>\n",
       "      <td>2021-10-01</td>\n",
       "      <td>533</td>\n",
       "      <td>0</td>\n",
       "    </tr>\n",
       "    <tr>\n",
       "      <th>34</th>\n",
       "      <td>2021-11-01</td>\n",
       "      <td>535</td>\n",
       "      <td>0</td>\n",
       "    </tr>\n",
       "    <tr>\n",
       "      <th>35</th>\n",
       "      <td>2021-12-01</td>\n",
       "      <td>577</td>\n",
       "      <td>0</td>\n",
       "    </tr>\n",
       "    <tr>\n",
       "      <th>36</th>\n",
       "      <td>2022-01-01</td>\n",
       "      <td>637</td>\n",
       "      <td>0</td>\n",
       "    </tr>\n",
       "    <tr>\n",
       "      <th>37</th>\n",
       "      <td>2022-02-01</td>\n",
       "      <td>590</td>\n",
       "      <td>0</td>\n",
       "    </tr>\n",
       "    <tr>\n",
       "      <th>38</th>\n",
       "      <td>2022-03-01</td>\n",
       "      <td>680</td>\n",
       "      <td>1</td>\n",
       "    </tr>\n",
       "    <tr>\n",
       "      <th>39</th>\n",
       "      <td>2022-04-01</td>\n",
       "      <td>743</td>\n",
       "      <td>1</td>\n",
       "    </tr>\n",
       "  </tbody>\n",
       "</table>\n",
       "</div>"
      ],
      "text/plain": [
       "    month_year  distinct_users  repeated_users\n",
       "0   2019-01-01               6               0\n",
       "1   2019-02-01              13               0\n",
       "2   2019-03-01              34               0\n",
       "3   2019-04-01              34               0\n",
       "4   2019-05-01              37               0\n",
       "5   2019-06-01              70               0\n",
       "6   2019-07-01              67               0\n",
       "7   2019-08-01              73               0\n",
       "8   2019-09-01              96               0\n",
       "9   2019-10-01             106               0\n",
       "10  2019-11-01             111               0\n",
       "11  2019-12-01             111               0\n",
       "12  2020-01-01             120               0\n",
       "13  2020-02-01             148               0\n",
       "14  2020-03-01             163               0\n",
       "15  2020-04-01             185               0\n",
       "16  2020-05-01             206               0\n",
       "17  2020-06-01             209               0\n",
       "18  2020-07-01             242               1\n",
       "19  2020-08-01             219               0\n",
       "20  2020-09-01             247               0\n",
       "21  2020-10-01             318               0\n",
       "22  2020-11-01             283               0\n",
       "23  2020-12-01             319               0\n",
       "24  2021-01-01             336               0\n",
       "25  2021-02-01             343               0\n",
       "26  2021-03-01             391               1\n",
       "27  2021-04-01             342               0\n",
       "28  2021-05-01             431               0\n",
       "29  2021-06-01             415               0\n",
       "30  2021-07-01             430               0\n",
       "31  2021-08-01             472               0\n",
       "32  2021-09-01             477               0\n",
       "33  2021-10-01             533               0\n",
       "34  2021-11-01             535               0\n",
       "35  2021-12-01             577               0\n",
       "36  2022-01-01             637               0\n",
       "37  2022-02-01             590               0\n",
       "38  2022-03-01             680               1\n",
       "39  2022-04-01             743               1"
      ]
     },
     "execution_count": 24,
     "metadata": {},
     "output_type": "execute_result"
    }
   ],
   "source": [
    "query = \"\"\"\n",
    "SELECT \n",
    "  DATE_TRUNC(DATE(oi.created_at), MONTH) AS month_year,\n",
    "  COUNT(DISTINCT oi.user_id) AS distinct_users,\n",
    "  COUNT(DISTINCT CASE WHEN repeated_orders > 1 THEN oi.user_id END) AS repeated_users\n",
    "FROM (\n",
    "  SELECT \n",
    "    o.user_id,\n",
    "    DATE(oi.created_at) AS created_at,\n",
    "    COUNT(DISTINCT oi.order_id) AS repeated_orders\n",
    "  FROM `bigquery-public-data.thelook_ecommerce.order_items` AS oi\n",
    "  INNER JOIN `bigquery-public-data.thelook_ecommerce.orders` AS o\n",
    "    ON oi.order_id = o.order_id\n",
    "  WHERE DATE(oi.created_at) BETWEEN '2019-01-01' AND '2022-04-30'\n",
    "    AND oi.status = 'Complete'\n",
    "  GROUP BY o.user_id, created_at\n",
    ") AS oi\n",
    "GROUP BY month_year\n",
    "ORDER BY month_year\n",
    "        \"\"\"\n",
    "\n",
    "results = execute_query(query)\n",
    "distinct_user_df = results.to_dataframe()\n",
    "distinct_user_df\n",
    "\n",
    "\n",
    "\n"
   ]
  },
  {
   "cell_type": "code",
   "execution_count": 25,
   "metadata": {},
   "outputs": [
    {
     "data": {
      "application/vnd.plotly.v1+json": {
       "config": {
        "plotlyServerURL": "https://plot.ly"
       },
       "data": [
        {
         "alignmentgroup": "True",
         "hovertemplate": "User Type=distinct_users<br>month_year=%{x}<br>Number of Users=%{y}<extra></extra>",
         "legendgroup": "distinct_users",
         "marker": {
          "color": "#636efa",
          "pattern": {
           "shape": ""
          }
         },
         "name": "distinct_users",
         "offsetgroup": "distinct_users",
         "orientation": "v",
         "showlegend": true,
         "textposition": "auto",
         "type": "bar",
         "x": [
          "2019-01-01",
          "2019-02-01",
          "2019-03-01",
          "2019-04-01",
          "2019-05-01",
          "2019-06-01",
          "2019-07-01",
          "2019-08-01",
          "2019-09-01",
          "2019-10-01",
          "2019-11-01",
          "2019-12-01",
          "2020-01-01",
          "2020-02-01",
          "2020-03-01",
          "2020-04-01",
          "2020-05-01",
          "2020-06-01",
          "2020-07-01",
          "2020-08-01",
          "2020-09-01",
          "2020-10-01",
          "2020-11-01",
          "2020-12-01",
          "2021-01-01",
          "2021-02-01",
          "2021-03-01",
          "2021-04-01",
          "2021-05-01",
          "2021-06-01",
          "2021-07-01",
          "2021-08-01",
          "2021-09-01",
          "2021-10-01",
          "2021-11-01",
          "2021-12-01",
          "2022-01-01",
          "2022-02-01",
          "2022-03-01",
          "2022-04-01"
         ],
         "xaxis": "x",
         "y": [
          6,
          13,
          34,
          34,
          37,
          70,
          67,
          73,
          96,
          106,
          111,
          111,
          120,
          148,
          163,
          185,
          206,
          209,
          242,
          219,
          247,
          318,
          283,
          319,
          336,
          343,
          391,
          342,
          431,
          415,
          430,
          472,
          477,
          533,
          535,
          577,
          637,
          590,
          680,
          743
         ],
         "yaxis": "y"
        },
        {
         "alignmentgroup": "True",
         "hovertemplate": "User Type=repeated_users<br>month_year=%{x}<br>Number of Users=%{y}<extra></extra>",
         "legendgroup": "repeated_users",
         "marker": {
          "color": "#EF553B",
          "pattern": {
           "shape": ""
          }
         },
         "name": "repeated_users",
         "offsetgroup": "repeated_users",
         "orientation": "v",
         "showlegend": true,
         "textposition": "auto",
         "type": "bar",
         "x": [
          "2019-01-01",
          "2019-02-01",
          "2019-03-01",
          "2019-04-01",
          "2019-05-01",
          "2019-06-01",
          "2019-07-01",
          "2019-08-01",
          "2019-09-01",
          "2019-10-01",
          "2019-11-01",
          "2019-12-01",
          "2020-01-01",
          "2020-02-01",
          "2020-03-01",
          "2020-04-01",
          "2020-05-01",
          "2020-06-01",
          "2020-07-01",
          "2020-08-01",
          "2020-09-01",
          "2020-10-01",
          "2020-11-01",
          "2020-12-01",
          "2021-01-01",
          "2021-02-01",
          "2021-03-01",
          "2021-04-01",
          "2021-05-01",
          "2021-06-01",
          "2021-07-01",
          "2021-08-01",
          "2021-09-01",
          "2021-10-01",
          "2021-11-01",
          "2021-12-01",
          "2022-01-01",
          "2022-02-01",
          "2022-03-01",
          "2022-04-01"
         ],
         "xaxis": "x",
         "y": [
          0,
          0,
          0,
          0,
          0,
          0,
          0,
          0,
          0,
          0,
          0,
          0,
          0,
          0,
          0,
          0,
          0,
          0,
          1,
          0,
          0,
          0,
          0,
          0,
          0,
          0,
          1,
          0,
          0,
          0,
          0,
          0,
          0,
          0,
          0,
          0,
          0,
          0,
          1,
          1
         ],
         "yaxis": "y"
        }
       ],
       "layout": {
        "barmode": "relative",
        "legend": {
         "title": {
          "text": "User Type"
         },
         "tracegroupgap": 0
        },
        "template": {
         "data": {
          "bar": [
           {
            "error_x": {
             "color": "#2a3f5f"
            },
            "error_y": {
             "color": "#2a3f5f"
            },
            "marker": {
             "line": {
              "color": "#E5ECF6",
              "width": 0.5
             },
             "pattern": {
              "fillmode": "overlay",
              "size": 10,
              "solidity": 0.2
             }
            },
            "type": "bar"
           }
          ],
          "barpolar": [
           {
            "marker": {
             "line": {
              "color": "#E5ECF6",
              "width": 0.5
             },
             "pattern": {
              "fillmode": "overlay",
              "size": 10,
              "solidity": 0.2
             }
            },
            "type": "barpolar"
           }
          ],
          "carpet": [
           {
            "aaxis": {
             "endlinecolor": "#2a3f5f",
             "gridcolor": "white",
             "linecolor": "white",
             "minorgridcolor": "white",
             "startlinecolor": "#2a3f5f"
            },
            "baxis": {
             "endlinecolor": "#2a3f5f",
             "gridcolor": "white",
             "linecolor": "white",
             "minorgridcolor": "white",
             "startlinecolor": "#2a3f5f"
            },
            "type": "carpet"
           }
          ],
          "choropleth": [
           {
            "colorbar": {
             "outlinewidth": 0,
             "ticks": ""
            },
            "type": "choropleth"
           }
          ],
          "contour": [
           {
            "colorbar": {
             "outlinewidth": 0,
             "ticks": ""
            },
            "colorscale": [
             [
              0,
              "#0d0887"
             ],
             [
              0.1111111111111111,
              "#46039f"
             ],
             [
              0.2222222222222222,
              "#7201a8"
             ],
             [
              0.3333333333333333,
              "#9c179e"
             ],
             [
              0.4444444444444444,
              "#bd3786"
             ],
             [
              0.5555555555555556,
              "#d8576b"
             ],
             [
              0.6666666666666666,
              "#ed7953"
             ],
             [
              0.7777777777777778,
              "#fb9f3a"
             ],
             [
              0.8888888888888888,
              "#fdca26"
             ],
             [
              1,
              "#f0f921"
             ]
            ],
            "type": "contour"
           }
          ],
          "contourcarpet": [
           {
            "colorbar": {
             "outlinewidth": 0,
             "ticks": ""
            },
            "type": "contourcarpet"
           }
          ],
          "heatmap": [
           {
            "colorbar": {
             "outlinewidth": 0,
             "ticks": ""
            },
            "colorscale": [
             [
              0,
              "#0d0887"
             ],
             [
              0.1111111111111111,
              "#46039f"
             ],
             [
              0.2222222222222222,
              "#7201a8"
             ],
             [
              0.3333333333333333,
              "#9c179e"
             ],
             [
              0.4444444444444444,
              "#bd3786"
             ],
             [
              0.5555555555555556,
              "#d8576b"
             ],
             [
              0.6666666666666666,
              "#ed7953"
             ],
             [
              0.7777777777777778,
              "#fb9f3a"
             ],
             [
              0.8888888888888888,
              "#fdca26"
             ],
             [
              1,
              "#f0f921"
             ]
            ],
            "type": "heatmap"
           }
          ],
          "heatmapgl": [
           {
            "colorbar": {
             "outlinewidth": 0,
             "ticks": ""
            },
            "colorscale": [
             [
              0,
              "#0d0887"
             ],
             [
              0.1111111111111111,
              "#46039f"
             ],
             [
              0.2222222222222222,
              "#7201a8"
             ],
             [
              0.3333333333333333,
              "#9c179e"
             ],
             [
              0.4444444444444444,
              "#bd3786"
             ],
             [
              0.5555555555555556,
              "#d8576b"
             ],
             [
              0.6666666666666666,
              "#ed7953"
             ],
             [
              0.7777777777777778,
              "#fb9f3a"
             ],
             [
              0.8888888888888888,
              "#fdca26"
             ],
             [
              1,
              "#f0f921"
             ]
            ],
            "type": "heatmapgl"
           }
          ],
          "histogram": [
           {
            "marker": {
             "pattern": {
              "fillmode": "overlay",
              "size": 10,
              "solidity": 0.2
             }
            },
            "type": "histogram"
           }
          ],
          "histogram2d": [
           {
            "colorbar": {
             "outlinewidth": 0,
             "ticks": ""
            },
            "colorscale": [
             [
              0,
              "#0d0887"
             ],
             [
              0.1111111111111111,
              "#46039f"
             ],
             [
              0.2222222222222222,
              "#7201a8"
             ],
             [
              0.3333333333333333,
              "#9c179e"
             ],
             [
              0.4444444444444444,
              "#bd3786"
             ],
             [
              0.5555555555555556,
              "#d8576b"
             ],
             [
              0.6666666666666666,
              "#ed7953"
             ],
             [
              0.7777777777777778,
              "#fb9f3a"
             ],
             [
              0.8888888888888888,
              "#fdca26"
             ],
             [
              1,
              "#f0f921"
             ]
            ],
            "type": "histogram2d"
           }
          ],
          "histogram2dcontour": [
           {
            "colorbar": {
             "outlinewidth": 0,
             "ticks": ""
            },
            "colorscale": [
             [
              0,
              "#0d0887"
             ],
             [
              0.1111111111111111,
              "#46039f"
             ],
             [
              0.2222222222222222,
              "#7201a8"
             ],
             [
              0.3333333333333333,
              "#9c179e"
             ],
             [
              0.4444444444444444,
              "#bd3786"
             ],
             [
              0.5555555555555556,
              "#d8576b"
             ],
             [
              0.6666666666666666,
              "#ed7953"
             ],
             [
              0.7777777777777778,
              "#fb9f3a"
             ],
             [
              0.8888888888888888,
              "#fdca26"
             ],
             [
              1,
              "#f0f921"
             ]
            ],
            "type": "histogram2dcontour"
           }
          ],
          "mesh3d": [
           {
            "colorbar": {
             "outlinewidth": 0,
             "ticks": ""
            },
            "type": "mesh3d"
           }
          ],
          "parcoords": [
           {
            "line": {
             "colorbar": {
              "outlinewidth": 0,
              "ticks": ""
             }
            },
            "type": "parcoords"
           }
          ],
          "pie": [
           {
            "automargin": true,
            "type": "pie"
           }
          ],
          "scatter": [
           {
            "fillpattern": {
             "fillmode": "overlay",
             "size": 10,
             "solidity": 0.2
            },
            "type": "scatter"
           }
          ],
          "scatter3d": [
           {
            "line": {
             "colorbar": {
              "outlinewidth": 0,
              "ticks": ""
             }
            },
            "marker": {
             "colorbar": {
              "outlinewidth": 0,
              "ticks": ""
             }
            },
            "type": "scatter3d"
           }
          ],
          "scattercarpet": [
           {
            "marker": {
             "colorbar": {
              "outlinewidth": 0,
              "ticks": ""
             }
            },
            "type": "scattercarpet"
           }
          ],
          "scattergeo": [
           {
            "marker": {
             "colorbar": {
              "outlinewidth": 0,
              "ticks": ""
             }
            },
            "type": "scattergeo"
           }
          ],
          "scattergl": [
           {
            "marker": {
             "colorbar": {
              "outlinewidth": 0,
              "ticks": ""
             }
            },
            "type": "scattergl"
           }
          ],
          "scattermapbox": [
           {
            "marker": {
             "colorbar": {
              "outlinewidth": 0,
              "ticks": ""
             }
            },
            "type": "scattermapbox"
           }
          ],
          "scatterpolar": [
           {
            "marker": {
             "colorbar": {
              "outlinewidth": 0,
              "ticks": ""
             }
            },
            "type": "scatterpolar"
           }
          ],
          "scatterpolargl": [
           {
            "marker": {
             "colorbar": {
              "outlinewidth": 0,
              "ticks": ""
             }
            },
            "type": "scatterpolargl"
           }
          ],
          "scatterternary": [
           {
            "marker": {
             "colorbar": {
              "outlinewidth": 0,
              "ticks": ""
             }
            },
            "type": "scatterternary"
           }
          ],
          "surface": [
           {
            "colorbar": {
             "outlinewidth": 0,
             "ticks": ""
            },
            "colorscale": [
             [
              0,
              "#0d0887"
             ],
             [
              0.1111111111111111,
              "#46039f"
             ],
             [
              0.2222222222222222,
              "#7201a8"
             ],
             [
              0.3333333333333333,
              "#9c179e"
             ],
             [
              0.4444444444444444,
              "#bd3786"
             ],
             [
              0.5555555555555556,
              "#d8576b"
             ],
             [
              0.6666666666666666,
              "#ed7953"
             ],
             [
              0.7777777777777778,
              "#fb9f3a"
             ],
             [
              0.8888888888888888,
              "#fdca26"
             ],
             [
              1,
              "#f0f921"
             ]
            ],
            "type": "surface"
           }
          ],
          "table": [
           {
            "cells": {
             "fill": {
              "color": "#EBF0F8"
             },
             "line": {
              "color": "white"
             }
            },
            "header": {
             "fill": {
              "color": "#C8D4E3"
             },
             "line": {
              "color": "white"
             }
            },
            "type": "table"
           }
          ]
         },
         "layout": {
          "annotationdefaults": {
           "arrowcolor": "#2a3f5f",
           "arrowhead": 0,
           "arrowwidth": 1
          },
          "autotypenumbers": "strict",
          "coloraxis": {
           "colorbar": {
            "outlinewidth": 0,
            "ticks": ""
           }
          },
          "colorscale": {
           "diverging": [
            [
             0,
             "#8e0152"
            ],
            [
             0.1,
             "#c51b7d"
            ],
            [
             0.2,
             "#de77ae"
            ],
            [
             0.3,
             "#f1b6da"
            ],
            [
             0.4,
             "#fde0ef"
            ],
            [
             0.5,
             "#f7f7f7"
            ],
            [
             0.6,
             "#e6f5d0"
            ],
            [
             0.7,
             "#b8e186"
            ],
            [
             0.8,
             "#7fbc41"
            ],
            [
             0.9,
             "#4d9221"
            ],
            [
             1,
             "#276419"
            ]
           ],
           "sequential": [
            [
             0,
             "#0d0887"
            ],
            [
             0.1111111111111111,
             "#46039f"
            ],
            [
             0.2222222222222222,
             "#7201a8"
            ],
            [
             0.3333333333333333,
             "#9c179e"
            ],
            [
             0.4444444444444444,
             "#bd3786"
            ],
            [
             0.5555555555555556,
             "#d8576b"
            ],
            [
             0.6666666666666666,
             "#ed7953"
            ],
            [
             0.7777777777777778,
             "#fb9f3a"
            ],
            [
             0.8888888888888888,
             "#fdca26"
            ],
            [
             1,
             "#f0f921"
            ]
           ],
           "sequentialminus": [
            [
             0,
             "#0d0887"
            ],
            [
             0.1111111111111111,
             "#46039f"
            ],
            [
             0.2222222222222222,
             "#7201a8"
            ],
            [
             0.3333333333333333,
             "#9c179e"
            ],
            [
             0.4444444444444444,
             "#bd3786"
            ],
            [
             0.5555555555555556,
             "#d8576b"
            ],
            [
             0.6666666666666666,
             "#ed7953"
            ],
            [
             0.7777777777777778,
             "#fb9f3a"
            ],
            [
             0.8888888888888888,
             "#fdca26"
            ],
            [
             1,
             "#f0f921"
            ]
           ]
          },
          "colorway": [
           "#636efa",
           "#EF553B",
           "#00cc96",
           "#ab63fa",
           "#FFA15A",
           "#19d3f3",
           "#FF6692",
           "#B6E880",
           "#FF97FF",
           "#FECB52"
          ],
          "font": {
           "color": "#2a3f5f"
          },
          "geo": {
           "bgcolor": "white",
           "lakecolor": "white",
           "landcolor": "#E5ECF6",
           "showlakes": true,
           "showland": true,
           "subunitcolor": "white"
          },
          "hoverlabel": {
           "align": "left"
          },
          "hovermode": "closest",
          "mapbox": {
           "style": "light"
          },
          "paper_bgcolor": "white",
          "plot_bgcolor": "#E5ECF6",
          "polar": {
           "angularaxis": {
            "gridcolor": "white",
            "linecolor": "white",
            "ticks": ""
           },
           "bgcolor": "#E5ECF6",
           "radialaxis": {
            "gridcolor": "white",
            "linecolor": "white",
            "ticks": ""
           }
          },
          "scene": {
           "xaxis": {
            "backgroundcolor": "#E5ECF6",
            "gridcolor": "white",
            "gridwidth": 2,
            "linecolor": "white",
            "showbackground": true,
            "ticks": "",
            "zerolinecolor": "white"
           },
           "yaxis": {
            "backgroundcolor": "#E5ECF6",
            "gridcolor": "white",
            "gridwidth": 2,
            "linecolor": "white",
            "showbackground": true,
            "ticks": "",
            "zerolinecolor": "white"
           },
           "zaxis": {
            "backgroundcolor": "#E5ECF6",
            "gridcolor": "white",
            "gridwidth": 2,
            "linecolor": "white",
            "showbackground": true,
            "ticks": "",
            "zerolinecolor": "white"
           }
          },
          "shapedefaults": {
           "line": {
            "color": "#2a3f5f"
           }
          },
          "ternary": {
           "aaxis": {
            "gridcolor": "white",
            "linecolor": "white",
            "ticks": ""
           },
           "baxis": {
            "gridcolor": "white",
            "linecolor": "white",
            "ticks": ""
           },
           "bgcolor": "#E5ECF6",
           "caxis": {
            "gridcolor": "white",
            "linecolor": "white",
            "ticks": ""
           }
          },
          "title": {
           "x": 0.05
          },
          "xaxis": {
           "automargin": true,
           "gridcolor": "white",
           "linecolor": "white",
           "ticks": "",
           "title": {
            "standoff": 15
           },
           "zerolinecolor": "white",
           "zerolinewidth": 2
          },
          "yaxis": {
           "automargin": true,
           "gridcolor": "white",
           "linecolor": "white",
           "ticks": "",
           "title": {
            "standoff": 15
           },
           "zerolinecolor": "white",
           "zerolinewidth": 2
          }
         }
        },
        "title": {
         "text": "Number of Unique Users vs Repeated Users"
        },
        "xaxis": {
         "anchor": "y",
         "domain": [
          0,
          1
         ],
         "title": {
          "text": "month_year"
         }
        },
        "yaxis": {
         "anchor": "x",
         "domain": [
          0,
          1
         ],
         "title": {
          "text": "Number of Users"
         }
        }
       }
      }
     },
     "metadata": {},
     "output_type": "display_data"
    }
   ],
   "source": [
    "fig = exp.bar(\n",
    "    distinct_user_df,\n",
    "    x=\"month_year\",\n",
    "    y=[\"distinct_users\", \"repeated_users\"],\n",
    "    title=\"Number of Unique Users vs Repeated Users\",\n",
    "    labels={\"value\": \"Number of Users\", \"variable\": \"User Type\"},\n",
    "    template=\"plotly\",\n",
    ")\n",
    "\n",
    "fig.show()"
   ]
  },
  {
   "cell_type": "code",
   "execution_count": null,
   "metadata": {},
   "outputs": [],
   "source": []
  },
  {
   "cell_type": "code",
   "execution_count": 33,
   "metadata": {},
   "outputs": [
    {
     "name": "stdout",
     "output_type": "stream",
     "text": [
      "Query returns a valid table\n"
     ]
    },
    {
     "data": {
      "text/html": [
       "<div>\n",
       "<style scoped>\n",
       "    .dataframe tbody tr th:only-of-type {\n",
       "        vertical-align: middle;\n",
       "    }\n",
       "\n",
       "    .dataframe tbody tr th {\n",
       "        vertical-align: top;\n",
       "    }\n",
       "\n",
       "    .dataframe thead th {\n",
       "        text-align: right;\n",
       "    }\n",
       "</style>\n",
       "<table border=\"1\" class=\"dataframe\">\n",
       "  <thead>\n",
       "    <tr style=\"text-align: right;\">\n",
       "      <th></th>\n",
       "      <th>month</th>\n",
       "      <th>product_id</th>\n",
       "      <th>product_name</th>\n",
       "      <th>sales</th>\n",
       "      <th>cost</th>\n",
       "      <th>profit</th>\n",
       "      <th>rank_per_month</th>\n",
       "    </tr>\n",
       "  </thead>\n",
       "  <tbody>\n",
       "    <tr>\n",
       "      <th>0</th>\n",
       "      <td>2019-01-01</td>\n",
       "      <td>7477</td>\n",
       "      <td>Ella Moss Women's Mazzy Blazer</td>\n",
       "      <td>6156.00</td>\n",
       "      <td>2474.71</td>\n",
       "      <td>3681.29</td>\n",
       "      <td>1</td>\n",
       "    </tr>\n",
       "    <tr>\n",
       "      <th>1</th>\n",
       "      <td>2019-01-01</td>\n",
       "      <td>2758</td>\n",
       "      <td>Mountain Hardwear Women's LoDown Jacket</td>\n",
       "      <td>3780.00</td>\n",
       "      <td>1425.06</td>\n",
       "      <td>2354.94</td>\n",
       "      <td>2</td>\n",
       "    </tr>\n",
       "    <tr>\n",
       "      <th>2</th>\n",
       "      <td>2019-01-01</td>\n",
       "      <td>8360</td>\n",
       "      <td>Carhartt Women's Boulder Parka</td>\n",
       "      <td>2464.15</td>\n",
       "      <td>1076.83</td>\n",
       "      <td>1387.32</td>\n",
       "      <td>3</td>\n",
       "    </tr>\n",
       "    <tr>\n",
       "      <th>3</th>\n",
       "      <td>2019-01-01</td>\n",
       "      <td>13263</td>\n",
       "      <td>L*Space Women's Aunatural Adia Bandeau Swimsui...</td>\n",
       "      <td>1976.85</td>\n",
       "      <td>887.61</td>\n",
       "      <td>1089.24</td>\n",
       "      <td>4</td>\n",
       "    </tr>\n",
       "    <tr>\n",
       "      <th>4</th>\n",
       "      <td>2019-01-01</td>\n",
       "      <td>5654</td>\n",
       "      <td>Zeniche Solid Color Linen Pants</td>\n",
       "      <td>1224.00</td>\n",
       "      <td>635.26</td>\n",
       "      <td>588.74</td>\n",
       "      <td>5</td>\n",
       "    </tr>\n",
       "    <tr>\n",
       "      <th>...</th>\n",
       "      <td>...</td>\n",
       "      <td>...</td>\n",
       "      <td>...</td>\n",
       "      <td>...</td>\n",
       "      <td>...</td>\n",
       "      <td>...</td>\n",
       "      <td>...</td>\n",
       "    </tr>\n",
       "    <tr>\n",
       "      <th>195</th>\n",
       "      <td>2022-04-01</td>\n",
       "      <td>8778</td>\n",
       "      <td>Arc'teryx Moray Jacket - Women's</td>\n",
       "      <td>15378.00</td>\n",
       "      <td>7565.98</td>\n",
       "      <td>7812.02</td>\n",
       "      <td>1</td>\n",
       "    </tr>\n",
       "    <tr>\n",
       "      <th>196</th>\n",
       "      <td>2022-04-01</td>\n",
       "      <td>7443</td>\n",
       "      <td>Rebecca Minkoff Women's Leather Luciana Skirt</td>\n",
       "      <td>11960.00</td>\n",
       "      <td>4999.28</td>\n",
       "      <td>6960.72</td>\n",
       "      <td>2</td>\n",
       "    </tr>\n",
       "    <tr>\n",
       "      <th>197</th>\n",
       "      <td>2022-04-01</td>\n",
       "      <td>23904</td>\n",
       "      <td>Carhartt Men's Flame Resistant Heavyweight Duc...</td>\n",
       "      <td>9688.10</td>\n",
       "      <td>4359.64</td>\n",
       "      <td>5328.45</td>\n",
       "      <td>3</td>\n",
       "    </tr>\n",
       "    <tr>\n",
       "      <th>198</th>\n",
       "      <td>2022-04-01</td>\n",
       "      <td>2796</td>\n",
       "      <td>ASCIS Cushion Low Socks (Pack of 3)</td>\n",
       "      <td>9030.00</td>\n",
       "      <td>3738.42</td>\n",
       "      <td>5291.58</td>\n",
       "      <td>4</td>\n",
       "    </tr>\n",
       "    <tr>\n",
       "      <th>199</th>\n",
       "      <td>2022-04-01</td>\n",
       "      <td>21784</td>\n",
       "      <td>BALLIN Men's Zig Zag Twill Manchester Pant</td>\n",
       "      <td>9100.00</td>\n",
       "      <td>3967.60</td>\n",
       "      <td>5132.40</td>\n",
       "      <td>5</td>\n",
       "    </tr>\n",
       "  </tbody>\n",
       "</table>\n",
       "<p>200 rows × 7 columns</p>\n",
       "</div>"
      ],
      "text/plain": [
       "          month  product_id  \\\n",
       "0    2019-01-01        7477   \n",
       "1    2019-01-01        2758   \n",
       "2    2019-01-01        8360   \n",
       "3    2019-01-01       13263   \n",
       "4    2019-01-01        5654   \n",
       "..          ...         ...   \n",
       "195  2022-04-01        8778   \n",
       "196  2022-04-01        7443   \n",
       "197  2022-04-01       23904   \n",
       "198  2022-04-01        2796   \n",
       "199  2022-04-01       21784   \n",
       "\n",
       "                                          product_name     sales     cost  \\\n",
       "0                       Ella Moss Women's Mazzy Blazer   6156.00  2474.71   \n",
       "1              Mountain Hardwear Women's LoDown Jacket   3780.00  1425.06   \n",
       "2                       Carhartt Women's Boulder Parka   2464.15  1076.83   \n",
       "3    L*Space Women's Aunatural Adia Bandeau Swimsui...   1976.85   887.61   \n",
       "4                      Zeniche Solid Color Linen Pants   1224.00   635.26   \n",
       "..                                                 ...       ...      ...   \n",
       "195                   Arc'teryx Moray Jacket - Women's  15378.00  7565.98   \n",
       "196      Rebecca Minkoff Women's Leather Luciana Skirt  11960.00  4999.28   \n",
       "197  Carhartt Men's Flame Resistant Heavyweight Duc...   9688.10  4359.64   \n",
       "198                ASCIS Cushion Low Socks (Pack of 3)   9030.00  3738.42   \n",
       "199         BALLIN Men's Zig Zag Twill Manchester Pant   9100.00  3967.60   \n",
       "\n",
       "      profit  rank_per_month  \n",
       "0    3681.29               1  \n",
       "1    2354.94               2  \n",
       "2    1387.32               3  \n",
       "3    1089.24               4  \n",
       "4     588.74               5  \n",
       "..       ...             ...  \n",
       "195  7812.02               1  \n",
       "196  6960.72               2  \n",
       "197  5328.45               3  \n",
       "198  5291.58               4  \n",
       "199  5132.40               5  \n",
       "\n",
       "[200 rows x 7 columns]"
      ]
     },
     "execution_count": 33,
     "metadata": {},
     "output_type": "execute_result"
    }
   ],
   "source": [
    "query = \"\"\"\n",
    "WITH profitable as \n",
    "(\n",
    "  SELECT \n",
    "    DISTINCT oi.product_id, product_name,\n",
    "    DATE_TRUNC (date(oi.created_at),month) AS month,\n",
    "    ROUND(SUM(sale_price),2) AS sales,\n",
    "    ROUND(SUM(cost),2) AS cost,\n",
    "    ROUND((SUM(sale_price) - SUM(cost)),2) AS profit\n",
    "  FROM `bigquery-public-data.thelook_ecommerce.order_items` AS oi\n",
    "  JOIN `bigquery-public-data.thelook_ecommerce.inventory_items` AS i\n",
    "  ON oi.product_id = i.product_id\n",
    "  WHERE DATE(oi.created_at) BETWEEN '2019-01-01'AND '2022-04-30'\n",
    "  AND oi.status= 'Complete'\n",
    "  GROUP BY 1,2,3\n",
    "  ORDER BY month\n",
    "),\n",
    "ranks as\n",
    "(\n",
    "  SELECT\n",
    "    month,\n",
    "    product_id,\n",
    "    product_name,\n",
    "    sales,\n",
    "    cost,\n",
    "    profit,\n",
    "    RANK() OVER (PARTITION BY month ORDER BY profit DESC) AS rank_per_month\n",
    "  FROM profitable\n",
    "  ORDER BY profitable.month)\n",
    "\n",
    "SELECT ranks.*\n",
    "FROM ranks\n",
    "WHERE rank_per_month <=5\n",
    "        \"\"\"\n",
    "\n",
    "results = execute_query(query)\n",
    "product_df = results.to_dataframe()\n",
    "product_df"
   ]
  },
  {
   "cell_type": "code",
   "execution_count": 35,
   "metadata": {},
   "outputs": [
    {
     "data": {
      "application/vnd.plotly.v1+json": {
       "config": {
        "plotlyServerURL": "https://plot.ly"
       },
       "data": [
        {
         "alignmentgroup": "True",
         "hovertemplate": "product_name=Ella Moss Women's Mazzy Blazer<br>Month=%{x}<br>Profit=%{y}<extra></extra>",
         "legendgroup": "Ella Moss Women's Mazzy Blazer",
         "marker": {
          "color": "#636efa",
          "pattern": {
           "shape": ""
          }
         },
         "name": "Ella Moss Women's Mazzy Blazer",
         "offsetgroup": "Ella Moss Women's Mazzy Blazer",
         "orientation": "v",
         "showlegend": true,
         "textposition": "auto",
         "type": "bar",
         "x": [
          "2019-01-01"
         ],
         "xaxis": "x",
         "y": [
          3681.29
         ],
         "yaxis": "y"
        },
        {
         "alignmentgroup": "True",
         "hovertemplate": "product_name=Mountain Hardwear Women's LoDown Jacket<br>Month=%{x}<br>Profit=%{y}<extra></extra>",
         "legendgroup": "Mountain Hardwear Women's LoDown Jacket",
         "marker": {
          "color": "#EF553B",
          "pattern": {
           "shape": ""
          }
         },
         "name": "Mountain Hardwear Women's LoDown Jacket",
         "offsetgroup": "Mountain Hardwear Women's LoDown Jacket",
         "orientation": "v",
         "showlegend": true,
         "textposition": "auto",
         "type": "bar",
         "x": [
          "2019-01-01"
         ],
         "xaxis": "x",
         "y": [
          2354.94
         ],
         "yaxis": "y"
        },
        {
         "alignmentgroup": "True",
         "hovertemplate": "product_name=Carhartt Women's Boulder Parka<br>Month=%{x}<br>Profit=%{y}<extra></extra>",
         "legendgroup": "Carhartt Women's Boulder Parka",
         "marker": {
          "color": "#00cc96",
          "pattern": {
           "shape": ""
          }
         },
         "name": "Carhartt Women's Boulder Parka",
         "offsetgroup": "Carhartt Women's Boulder Parka",
         "orientation": "v",
         "showlegend": true,
         "textposition": "auto",
         "type": "bar",
         "x": [
          "2019-01-01"
         ],
         "xaxis": "x",
         "y": [
          1387.32
         ],
         "yaxis": "y"
        },
        {
         "alignmentgroup": "True",
         "hovertemplate": "product_name=L*Space Women's Aunatural Adia Bandeau Swimsuit Top<br>Month=%{x}<br>Profit=%{y}<extra></extra>",
         "legendgroup": "L*Space Women's Aunatural Adia Bandeau Swimsuit Top",
         "marker": {
          "color": "#ab63fa",
          "pattern": {
           "shape": ""
          }
         },
         "name": "L*Space Women's Aunatural Adia Bandeau Swimsuit Top",
         "offsetgroup": "L*Space Women's Aunatural Adia Bandeau Swimsuit Top",
         "orientation": "v",
         "showlegend": true,
         "textposition": "auto",
         "type": "bar",
         "x": [
          "2019-01-01"
         ],
         "xaxis": "x",
         "y": [
          1089.24
         ],
         "yaxis": "y"
        },
        {
         "alignmentgroup": "True",
         "hovertemplate": "product_name=Zeniche Solid Color Linen Pants<br>Month=%{x}<br>Profit=%{y}<extra></extra>",
         "legendgroup": "Zeniche Solid Color Linen Pants",
         "marker": {
          "color": "#FFA15A",
          "pattern": {
           "shape": ""
          }
         },
         "name": "Zeniche Solid Color Linen Pants",
         "offsetgroup": "Zeniche Solid Color Linen Pants",
         "orientation": "v",
         "showlegend": true,
         "textposition": "auto",
         "type": "bar",
         "x": [
          "2019-01-01"
         ],
         "xaxis": "x",
         "y": [
          588.74
         ],
         "yaxis": "y"
        },
        {
         "alignmentgroup": "True",
         "hovertemplate": "product_name=Pure Cashmere Robe for Women<br>Month=%{x}<br>Profit=%{y}<extra></extra>",
         "legendgroup": "Pure Cashmere Robe for Women",
         "marker": {
          "color": "#19d3f3",
          "pattern": {
           "shape": ""
          }
         },
         "name": "Pure Cashmere Robe for Women",
         "offsetgroup": "Pure Cashmere Robe for Women",
         "orientation": "v",
         "showlegend": true,
         "textposition": "auto",
         "type": "bar",
         "x": [
          "2019-02-01"
         ],
         "xaxis": "x",
         "y": [
          2364.25
         ],
         "yaxis": "y"
        },
        {
         "alignmentgroup": "True",
         "hovertemplate": "product_name=Robert Graham Men's Cheshire<br>Month=%{x}<br>Profit=%{y}<extra></extra>",
         "legendgroup": "Robert Graham Men's Cheshire",
         "marker": {
          "color": "#FF6692",
          "pattern": {
           "shape": ""
          }
         },
         "name": "Robert Graham Men's Cheshire",
         "offsetgroup": "Robert Graham Men's Cheshire",
         "orientation": "v",
         "showlegend": true,
         "textposition": "auto",
         "type": "bar",
         "x": [
          "2019-02-01"
         ],
         "xaxis": "x",
         "y": [
          2182.38
         ],
         "yaxis": "y"
        },
        {
         "alignmentgroup": "True",
         "hovertemplate": "product_name=Mountain Hardwear Women's LoDown Vest<br>Month=%{x}<br>Profit=%{y}<extra></extra>",
         "legendgroup": "Mountain Hardwear Women's LoDown Vest",
         "marker": {
          "color": "#B6E880",
          "pattern": {
           "shape": ""
          }
         },
         "name": "Mountain Hardwear Women's LoDown Vest",
         "offsetgroup": "Mountain Hardwear Women's LoDown Vest",
         "orientation": "v",
         "showlegend": true,
         "textposition": "auto",
         "type": "bar",
         "x": [
          "2019-02-01"
         ],
         "xaxis": "x",
         "y": [
          1923.24
         ],
         "yaxis": "y"
        },
        {
         "alignmentgroup": "True",
         "hovertemplate": "product_name=Silver Jeans Men's Zac Relaxed Fit Jean<br>Month=%{x}<br>Profit=%{y}<extra></extra>",
         "legendgroup": "Silver Jeans Men's Zac Relaxed Fit Jean",
         "marker": {
          "color": "#FF97FF",
          "pattern": {
           "shape": ""
          }
         },
         "name": "Silver Jeans Men's Zac Relaxed Fit Jean",
         "offsetgroup": "Silver Jeans Men's Zac Relaxed Fit Jean",
         "orientation": "v",
         "showlegend": true,
         "textposition": "auto",
         "type": "bar",
         "x": [
          "2019-02-01"
         ],
         "xaxis": "x",
         "y": [
          1270.08
         ],
         "yaxis": "y"
        },
        {
         "alignmentgroup": "True",
         "hovertemplate": "product_name=KingSize Big & Tall Cotton Jersey Open-Bottom Pants<br>Month=%{x}<br>Profit=%{y}<extra></extra>",
         "legendgroup": "KingSize Big & Tall Cotton Jersey Open-Bottom Pants",
         "marker": {
          "color": "#FECB52",
          "pattern": {
           "shape": ""
          }
         },
         "name": "KingSize Big & Tall Cotton Jersey Open-Bottom Pants",
         "offsetgroup": "KingSize Big & Tall Cotton Jersey Open-Bottom Pants",
         "orientation": "v",
         "showlegend": true,
         "textposition": "auto",
         "type": "bar",
         "x": [
          "2019-02-01"
         ],
         "xaxis": "x",
         "y": [
          709.25
         ],
         "yaxis": "y"
        },
        {
         "alignmentgroup": "True",
         "hovertemplate": "product_name=Anne Klein Collection Women's Single Button Soft Blazer<br>Month=%{x}<br>Profit=%{y}<extra></extra>",
         "legendgroup": "Anne Klein Collection Women's Single Button Soft Blazer",
         "marker": {
          "color": "#636efa",
          "pattern": {
           "shape": ""
          }
         },
         "name": "Anne Klein Collection Women's Single Button Soft Blazer",
         "offsetgroup": "Anne Klein Collection Women's Single Button Soft Blazer",
         "orientation": "v",
         "showlegend": true,
         "textposition": "auto",
         "type": "bar",
         "x": [
          "2019-03-01"
         ],
         "xaxis": "x",
         "y": [
          2052.69
         ],
         "yaxis": "y"
        },
        {
         "alignmentgroup": "True",
         "hovertemplate": "product_name=Arc'teryx Atom LT Insulated Pullover Jacket - Men's<br>Month=%{x}<br>Profit=%{y}<extra></extra>",
         "legendgroup": "Arc'teryx Atom LT Insulated Pullover Jacket - Men's",
         "marker": {
          "color": "#EF553B",
          "pattern": {
           "shape": ""
          }
         },
         "name": "Arc'teryx Atom LT Insulated Pullover Jacket - Men's",
         "offsetgroup": "Arc'teryx Atom LT Insulated Pullover Jacket - Men's",
         "orientation": "v",
         "showlegend": true,
         "textposition": "auto",
         "type": "bar",
         "x": [
          "2019-03-01"
         ],
         "xaxis": "x",
         "y": [
          1916.97
         ],
         "yaxis": "y"
        },
        {
         "alignmentgroup": "True",
         "hovertemplate": "product_name=Tasso Elba Mens Brown Khaki Tailored Fit Wool Cashmere Suit<br>Month=%{x}<br>Profit=%{y}<extra></extra>",
         "legendgroup": "Tasso Elba Mens Brown Khaki Tailored Fit Wool Cashmere Suit",
         "marker": {
          "color": "#00cc96",
          "pattern": {
           "shape": ""
          }
         },
         "name": "Tasso Elba Mens Brown Khaki Tailored Fit Wool Cashmere Suit",
         "offsetgroup": "Tasso Elba Mens Brown Khaki Tailored Fit Wool Cashmere Suit",
         "orientation": "v",
         "showlegend": true,
         "textposition": "auto",
         "type": "bar",
         "x": [
          "2019-03-01"
         ],
         "xaxis": "x",
         "y": [
          1896.44
         ],
         "yaxis": "y"
        },
        {
         "alignmentgroup": "True",
         "hovertemplate": "product_name=Kate Spade New York Cobble Hill-Lacey  Wallet<br>Month=%{x}<br>Profit=%{y}<extra></extra>",
         "legendgroup": "Kate Spade New York Cobble Hill-Lacey  Wallet",
         "marker": {
          "color": "#ab63fa",
          "pattern": {
           "shape": ""
          }
         },
         "name": "Kate Spade New York Cobble Hill-Lacey  Wallet",
         "offsetgroup": "Kate Spade New York Cobble Hill-Lacey  Wallet",
         "orientation": "v",
         "showlegend": true,
         "textposition": "auto",
         "type": "bar",
         "x": [
          "2019-03-01"
         ],
         "xaxis": "x",
         "y": [
          1850.67
         ],
         "yaxis": "y"
        },
        {
         "alignmentgroup": "True",
         "hovertemplate": "product_name=PUMA Men's Ferrari Hooded Sweat Jacket<br>Month=%{x}<br>Profit=%{y}<extra></extra>",
         "legendgroup": "PUMA Men's Ferrari Hooded Sweat Jacket",
         "marker": {
          "color": "#FFA15A",
          "pattern": {
           "shape": ""
          }
         },
         "name": "PUMA Men's Ferrari Hooded Sweat Jacket",
         "offsetgroup": "PUMA Men's Ferrari Hooded Sweat Jacket",
         "orientation": "v",
         "showlegend": true,
         "textposition": "auto",
         "type": "bar",
         "x": [
          "2019-03-01"
         ],
         "xaxis": "x",
         "y": [
          1707.75
         ],
         "yaxis": "y"
        },
        {
         "alignmentgroup": "True",
         "hovertemplate": "product_name=Tommy Hilfiger Men's Side Vent Trim Fit Tuxedo Coat<br>Month=%{x}<br>Profit=%{y}<extra></extra>",
         "legendgroup": "Tommy Hilfiger Men's Side Vent Trim Fit Tuxedo Coat",
         "marker": {
          "color": "#19d3f3",
          "pattern": {
           "shape": ""
          }
         },
         "name": "Tommy Hilfiger Men's Side Vent Trim Fit Tuxedo Coat",
         "offsetgroup": "Tommy Hilfiger Men's Side Vent Trim Fit Tuxedo Coat",
         "orientation": "v",
         "showlegend": true,
         "textposition": "auto",
         "type": "bar",
         "x": [
          "2019-04-01"
         ],
         "xaxis": "x",
         "y": [
          3868.89
         ],
         "yaxis": "y"
        },
        {
         "alignmentgroup": "True",
         "hovertemplate": "product_name=Diesel Men's Safado Slim Straight Leg 802I Jean<br>Month=%{x}<br>Profit=%{y}<extra></extra>",
         "legendgroup": "Diesel Men's Safado Slim Straight Leg 802I Jean",
         "marker": {
          "color": "#FF6692",
          "pattern": {
           "shape": ""
          }
         },
         "name": "Diesel Men's Safado Slim Straight Leg 802I Jean",
         "offsetgroup": "Diesel Men's Safado Slim Straight Leg 802I Jean",
         "orientation": "v",
         "showlegend": true,
         "textposition": "auto",
         "type": "bar",
         "x": [
          "2019-04-01"
         ],
         "xaxis": "x",
         "y": [
          2721.26
         ],
         "yaxis": "y"
        },
        {
         "alignmentgroup": "True",
         "hovertemplate": "product_name=Men's Kuhl Spy Wool Sweater Jacket<br>Month=%{x}<br>Profit=%{y}<extra></extra>",
         "legendgroup": "Men's Kuhl Spy Wool Sweater Jacket",
         "marker": {
          "color": "#B6E880",
          "pattern": {
           "shape": ""
          }
         },
         "name": "Men's Kuhl Spy Wool Sweater Jacket",
         "offsetgroup": "Men's Kuhl Spy Wool Sweater Jacket",
         "orientation": "v",
         "showlegend": true,
         "textposition": "auto",
         "type": "bar",
         "x": [
          "2019-04-01"
         ],
         "xaxis": "x",
         "y": [
          1551.2
         ],
         "yaxis": "y"
        },
        {
         "alignmentgroup": "True",
         "hovertemplate": "product_name=PAIGE Men's Doheny Tread Pocket Classic Rise Straight Jean<br>Month=%{x}<br>Profit=%{y}<extra></extra>",
         "legendgroup": "PAIGE Men's Doheny Tread Pocket Classic Rise Straight Jean",
         "marker": {
          "color": "#FF97FF",
          "pattern": {
           "shape": ""
          }
         },
         "name": "PAIGE Men's Doheny Tread Pocket Classic Rise Straight Jean",
         "offsetgroup": "PAIGE Men's Doheny Tread Pocket Classic Rise Straight Jean",
         "orientation": "v",
         "showlegend": true,
         "textposition": "auto",
         "type": "bar",
         "x": [
          "2019-04-01"
         ],
         "xaxis": "x",
         "y": [
          1478.36
         ],
         "yaxis": "y"
        },
        {
         "alignmentgroup": "True",
         "hovertemplate": "product_name=Ray-Ban Sunglasses -Flight Senior RB 3212<br>Month=%{x}<br>Profit=%{y}<extra></extra>",
         "legendgroup": "Ray-Ban Sunglasses -Flight Senior RB 3212",
         "marker": {
          "color": "#FECB52",
          "pattern": {
           "shape": ""
          }
         },
         "name": "Ray-Ban Sunglasses -Flight Senior RB 3212",
         "offsetgroup": "Ray-Ban Sunglasses -Flight Senior RB 3212",
         "orientation": "v",
         "showlegend": true,
         "textposition": "auto",
         "type": "bar",
         "x": [
          "2019-04-01"
         ],
         "xaxis": "x",
         "y": [
          1442.07
         ],
         "yaxis": "y"
        },
        {
         "alignmentgroup": "True",
         "hovertemplate": "product_name=Icebreaker Men's Long Sleeve Aries Crewe<br>Month=%{x}<br>Profit=%{y}<extra></extra>",
         "legendgroup": "Icebreaker Men's Long Sleeve Aries Crewe",
         "marker": {
          "color": "#636efa",
          "pattern": {
           "shape": ""
          }
         },
         "name": "Icebreaker Men's Long Sleeve Aries Crewe",
         "offsetgroup": "Icebreaker Men's Long Sleeve Aries Crewe",
         "orientation": "v",
         "showlegend": true,
         "textposition": "auto",
         "type": "bar",
         "x": [
          "2019-05-01"
         ],
         "xaxis": "x",
         "y": [
          2243.88
         ],
         "yaxis": "y"
        },
        {
         "alignmentgroup": "True",
         "hovertemplate": "product_name=Woolrich Men's Elite Lightweight Discreet Carry Tactical Vest<br>Month=%{x}<br>Profit=%{y}<extra></extra>",
         "legendgroup": "Woolrich Men's Elite Lightweight Discreet Carry Tactical Vest",
         "marker": {
          "color": "#EF553B",
          "pattern": {
           "shape": ""
          }
         },
         "name": "Woolrich Men's Elite Lightweight Discreet Carry Tactical Vest",
         "offsetgroup": "Woolrich Men's Elite Lightweight Discreet Carry Tactical Vest",
         "orientation": "v",
         "showlegend": true,
         "textposition": "auto",
         "type": "bar",
         "x": [
          "2019-05-01"
         ],
         "xaxis": "x",
         "y": [
          1264.5
         ],
         "yaxis": "y"
        },
        {
         "alignmentgroup": "True",
         "hovertemplate": "product_name=Anne Klein Casa Blanca Skirt Suit<br>Month=%{x}<br>Profit=%{y}<extra></extra>",
         "legendgroup": "Anne Klein Casa Blanca Skirt Suit",
         "marker": {
          "color": "#00cc96",
          "pattern": {
           "shape": ""
          }
         },
         "name": "Anne Klein Casa Blanca Skirt Suit",
         "offsetgroup": "Anne Klein Casa Blanca Skirt Suit",
         "orientation": "v",
         "showlegend": true,
         "textposition": "auto",
         "type": "bar",
         "x": [
          "2019-05-01"
         ],
         "xaxis": "x",
         "y": [
          1226.13
         ],
         "yaxis": "y"
        },
        {
         "alignmentgroup": "True",
         "hovertemplate": "product_name=Haggar Men's 2 Button Textured Weave Side Vent Sport Coat<br>Month=%{x}<br>Profit=%{y}<extra></extra>",
         "legendgroup": "Haggar Men's 2 Button Textured Weave Side Vent Sport Coat",
         "marker": {
          "color": "#ab63fa",
          "pattern": {
           "shape": ""
          }
         },
         "name": "Haggar Men's 2 Button Textured Weave Side Vent Sport Coat",
         "offsetgroup": "Haggar Men's 2 Button Textured Weave Side Vent Sport Coat",
         "orientation": "v",
         "showlegend": true,
         "textposition": "auto",
         "type": "bar",
         "x": [
          "2019-05-01"
         ],
         "xaxis": "x",
         "y": [
          1095.73
         ],
         "yaxis": "y"
        },
        {
         "alignmentgroup": "True",
         "hovertemplate": "product_name=7 For All Mankind Women's The Skinny Slim Fit Jean in Nouveau New York Dark<br>Month=%{x}<br>Profit=%{y}<extra></extra>",
         "legendgroup": "7 For All Mankind Women's The Skinny Slim Fit Jean in Nouveau New York Dark",
         "marker": {
          "color": "#FFA15A",
          "pattern": {
           "shape": ""
          }
         },
         "name": "7 For All Mankind Women's The Skinny Slim Fit Jean in Nouveau New York Dark",
         "offsetgroup": "7 For All Mankind Women's The Skinny Slim Fit Jean in Nouveau New York Dark",
         "orientation": "v",
         "showlegend": true,
         "textposition": "auto",
         "type": "bar",
         "x": [
          "2019-05-01"
         ],
         "xaxis": "x",
         "y": [
          991.1
         ],
         "yaxis": "y"
        },
        {
         "alignmentgroup": "True",
         "hovertemplate": "product_name=7 For All Mankind Men's Classic Bootcut Jean in Black Out<br>Month=%{x}<br>Profit=%{y}<extra></extra>",
         "legendgroup": "7 For All Mankind Men's Classic Bootcut Jean in Black Out",
         "marker": {
          "color": "#19d3f3",
          "pattern": {
           "shape": ""
          }
         },
         "name": "7 For All Mankind Men's Classic Bootcut Jean in Black Out",
         "offsetgroup": "7 For All Mankind Men's Classic Bootcut Jean in Black Out",
         "orientation": "v",
         "showlegend": true,
         "textposition": "auto",
         "type": "bar",
         "x": [
          "2019-06-01"
         ],
         "xaxis": "x",
         "y": [
          2707.38
         ],
         "yaxis": "y"
        },
        {
         "alignmentgroup": "True",
         "hovertemplate": "product_name=Filson Mens 11010LD Midweight Merino Wool Pullover - Loden<br>Month=%{x}<br>Profit=%{y}<extra></extra>",
         "legendgroup": "Filson Mens 11010LD Midweight Merino Wool Pullover - Loden",
         "marker": {
          "color": "#FF6692",
          "pattern": {
           "shape": ""
          }
         },
         "name": "Filson Mens 11010LD Midweight Merino Wool Pullover - Loden",
         "offsetgroup": "Filson Mens 11010LD Midweight Merino Wool Pullover - Loden",
         "orientation": "v",
         "showlegend": true,
         "textposition": "auto",
         "type": "bar",
         "x": [
          "2019-06-01"
         ],
         "xaxis": "x",
         "y": [
          2418.75
         ],
         "yaxis": "y"
        },
        {
         "alignmentgroup": "True",
         "hovertemplate": "product_name=Kenneth Cole Reaction Men's Gray Solid Suit Separate Coat<br>Month=%{x}<br>Profit=%{y}<extra></extra>",
         "legendgroup": "Kenneth Cole Reaction Men's Gray Solid Suit Separate Coat",
         "marker": {
          "color": "#B6E880",
          "pattern": {
           "shape": ""
          }
         },
         "name": "Kenneth Cole Reaction Men's Gray Solid Suit Separate Coat",
         "offsetgroup": "Kenneth Cole Reaction Men's Gray Solid Suit Separate Coat",
         "orientation": "v",
         "showlegend": true,
         "textposition": "auto",
         "type": "bar",
         "x": [
          "2019-06-01"
         ],
         "xaxis": "x",
         "y": [
          2406.06
         ],
         "yaxis": "y"
        },
        {
         "alignmentgroup": "True",
         "hovertemplate": "product_name=Victorinox Men's Full Zip Sweater<br>Month=%{x}<br>Profit=%{y}<extra></extra>",
         "legendgroup": "Victorinox Men's Full Zip Sweater",
         "marker": {
          "color": "#FF97FF",
          "pattern": {
           "shape": ""
          }
         },
         "name": "Victorinox Men's Full Zip Sweater",
         "offsetgroup": "Victorinox Men's Full Zip Sweater",
         "orientation": "v",
         "showlegend": true,
         "textposition": "auto",
         "type": "bar",
         "x": [
          "2019-06-01"
         ],
         "xaxis": "x",
         "y": [
          2129.4
         ],
         "yaxis": "y"
        },
        {
         "alignmentgroup": "True",
         "hovertemplate": "product_name=Diesel Men's Thavar Skinny-Fit Straight-Leg Jean<br>Month=%{x}<br>Profit=%{y}<extra></extra>",
         "legendgroup": "Diesel Men's Thavar Skinny-Fit Straight-Leg Jean",
         "marker": {
          "color": "#FECB52",
          "pattern": {
           "shape": ""
          }
         },
         "name": "Diesel Men's Thavar Skinny-Fit Straight-Leg Jean",
         "offsetgroup": "Diesel Men's Thavar Skinny-Fit Straight-Leg Jean",
         "orientation": "v",
         "showlegend": true,
         "textposition": "auto",
         "type": "bar",
         "x": [
          "2019-06-01"
         ],
         "xaxis": "x",
         "y": [
          1723.8
         ],
         "yaxis": "y"
        },
        {
         "alignmentgroup": "True",
         "hovertemplate": "product_name=Huntmaster Cashmere Sweater<br>Month=%{x}<br>Profit=%{y}<extra></extra>",
         "legendgroup": "Huntmaster Cashmere Sweater",
         "marker": {
          "color": "#636efa",
          "pattern": {
           "shape": ""
          }
         },
         "name": "Huntmaster Cashmere Sweater",
         "offsetgroup": "Huntmaster Cashmere Sweater",
         "orientation": "v",
         "showlegend": true,
         "textposition": "auto",
         "type": "bar",
         "x": [
          "2019-07-01",
          "2019-11-01"
         ],
         "xaxis": "x",
         "y": [
          4648.32,
          4648.32
         ],
         "yaxis": "y"
        },
        {
         "alignmentgroup": "True",
         "hovertemplate": "product_name=Trina Turk Women's Snowonder Blazer<br>Month=%{x}<br>Profit=%{y}<extra></extra>",
         "legendgroup": "Trina Turk Women's Snowonder Blazer",
         "marker": {
          "color": "#EF553B",
          "pattern": {
           "shape": ""
          }
         },
         "name": "Trina Turk Women's Snowonder Blazer",
         "offsetgroup": "Trina Turk Women's Snowonder Blazer",
         "orientation": "v",
         "showlegend": true,
         "textposition": "auto",
         "type": "bar",
         "x": [
          "2019-07-01"
         ],
         "xaxis": "x",
         "y": [
          4470.34
         ],
         "yaxis": "y"
        },
        {
         "alignmentgroup": "True",
         "hovertemplate": "product_name=BCBGMAXAZRIA Women's Magde Strapless Cocktail Dress<br>Month=%{x}<br>Profit=%{y}<extra></extra>",
         "legendgroup": "BCBGMAXAZRIA Women's Magde Strapless Cocktail Dress",
         "marker": {
          "color": "#00cc96",
          "pattern": {
           "shape": ""
          }
         },
         "name": "BCBGMAXAZRIA Women's Magde Strapless Cocktail Dress",
         "offsetgroup": "BCBGMAXAZRIA Women's Magde Strapless Cocktail Dress",
         "orientation": "v",
         "showlegend": true,
         "textposition": "auto",
         "type": "bar",
         "x": [
          "2019-07-01"
         ],
         "xaxis": "x",
         "y": [
          4030.45
         ],
         "yaxis": "y"
        },
        {
         "alignmentgroup": "True",
         "hovertemplate": "product_name=French Connection Men's Nostalgic Jacket<br>Month=%{x}<br>Profit=%{y}<extra></extra>",
         "legendgroup": "French Connection Men's Nostalgic Jacket",
         "marker": {
          "color": "#ab63fa",
          "pattern": {
           "shape": ""
          }
         },
         "name": "French Connection Men's Nostalgic Jacket",
         "offsetgroup": "French Connection Men's Nostalgic Jacket",
         "orientation": "v",
         "showlegend": true,
         "textposition": "auto",
         "type": "bar",
         "x": [
          "2019-07-01"
         ],
         "xaxis": "x",
         "y": [
          3848.37
         ],
         "yaxis": "y"
        },
        {
         "alignmentgroup": "True",
         "hovertemplate": "product_name=Joseph Abboud Men's 2 Button Side Vent Stripe Suit With Flat Front Pant<br>Month=%{x}<br>Profit=%{y}<extra></extra>",
         "legendgroup": "Joseph Abboud Men's 2 Button Side Vent Stripe Suit With Flat Front Pant",
         "marker": {
          "color": "#FFA15A",
          "pattern": {
           "shape": ""
          }
         },
         "name": "Joseph Abboud Men's 2 Button Side Vent Stripe Suit With Flat Front Pant",
         "offsetgroup": "Joseph Abboud Men's 2 Button Side Vent Stripe Suit With Flat Front Pant",
         "orientation": "v",
         "showlegend": true,
         "textposition": "auto",
         "type": "bar",
         "x": [
          "2019-07-01"
         ],
         "xaxis": "x",
         "y": [
          3377.28
         ],
         "yaxis": "y"
        },
        {
         "alignmentgroup": "True",
         "hovertemplate": "product_name=Trina Turk Women's Baroness Dress<br>Month=%{x}<br>Profit=%{y}<extra></extra>",
         "legendgroup": "Trina Turk Women's Baroness Dress",
         "marker": {
          "color": "#19d3f3",
          "pattern": {
           "shape": ""
          }
         },
         "name": "Trina Turk Women's Baroness Dress",
         "offsetgroup": "Trina Turk Women's Baroness Dress",
         "orientation": "v",
         "showlegend": true,
         "textposition": "auto",
         "type": "bar",
         "x": [
          "2019-08-01"
         ],
         "xaxis": "x",
         "y": [
          6435.66
         ],
         "yaxis": "y"
        },
        {
         "alignmentgroup": "True",
         "hovertemplate": "product_name=Men's Full Length Overcoat in Pure Cashmere<br>Month=%{x}<br>Profit=%{y}<extra></extra>",
         "legendgroup": "Men's Full Length Overcoat in Pure Cashmere",
         "marker": {
          "color": "#FF6692",
          "pattern": {
           "shape": ""
          }
         },
         "name": "Men's Full Length Overcoat in Pure Cashmere",
         "offsetgroup": "Men's Full Length Overcoat in Pure Cashmere",
         "orientation": "v",
         "showlegend": true,
         "textposition": "auto",
         "type": "bar",
         "x": [
          "2019-08-01"
         ],
         "xaxis": "x",
         "y": [
          5299.1
         ],
         "yaxis": "y"
        },
        {
         "alignmentgroup": "True",
         "hovertemplate": "product_name=Karen Kane Women's Sequin Wool Blazer<br>Month=%{x}<br>Profit=%{y}<extra></extra>",
         "legendgroup": "Karen Kane Women's Sequin Wool Blazer",
         "marker": {
          "color": "#B6E880",
          "pattern": {
           "shape": ""
          }
         },
         "name": "Karen Kane Women's Sequin Wool Blazer",
         "offsetgroup": "Karen Kane Women's Sequin Wool Blazer",
         "orientation": "v",
         "showlegend": true,
         "textposition": "auto",
         "type": "bar",
         "x": [
          "2019-08-01"
         ],
         "xaxis": "x",
         "y": [
          3198.93
         ],
         "yaxis": "y"
        },
        {
         "alignmentgroup": "True",
         "hovertemplate": "product_name=Yoana Baraschi Women's Gotham Tux Blazer<br>Month=%{x}<br>Profit=%{y}<extra></extra>",
         "legendgroup": "Yoana Baraschi Women's Gotham Tux Blazer",
         "marker": {
          "color": "#FF97FF",
          "pattern": {
           "shape": ""
          }
         },
         "name": "Yoana Baraschi Women's Gotham Tux Blazer",
         "offsetgroup": "Yoana Baraschi Women's Gotham Tux Blazer",
         "orientation": "v",
         "showlegend": true,
         "textposition": "auto",
         "type": "bar",
         "x": [
          "2019-08-01"
         ],
         "xaxis": "x",
         "y": [
          3045.12
         ],
         "yaxis": "y"
        },
        {
         "alignmentgroup": "True",
         "hovertemplate": "product_name=Robert Rodriguez Women's Tux Boyfriend Blazer<br>Month=%{x}<br>Profit=%{y}<extra></extra>",
         "legendgroup": "Robert Rodriguez Women's Tux Boyfriend Blazer",
         "marker": {
          "color": "#FECB52",
          "pattern": {
           "shape": ""
          }
         },
         "name": "Robert Rodriguez Women's Tux Boyfriend Blazer",
         "offsetgroup": "Robert Rodriguez Women's Tux Boyfriend Blazer",
         "orientation": "v",
         "showlegend": true,
         "textposition": "auto",
         "type": "bar",
         "x": [
          "2019-08-01"
         ],
         "xaxis": "x",
         "y": [
          1947.5
         ],
         "yaxis": "y"
        },
        {
         "alignmentgroup": "True",
         "hovertemplate": "product_name=Marc New York by Andrew Marc Men's Nucky Natural Rugged Lamb Bomber Jacket with Shearling Collar<br>Month=%{x}<br>Profit=%{y}<extra></extra>",
         "legendgroup": "Marc New York by Andrew Marc Men's Nucky Natural Rugged Lamb Bomber Jacket with Shearling Collar",
         "marker": {
          "color": "#636efa",
          "pattern": {
           "shape": ""
          }
         },
         "name": "Marc New York by Andrew Marc Men's Nucky Natural Rugged Lamb Bomber Jacket with Shearling Collar",
         "offsetgroup": "Marc New York by Andrew Marc Men's Nucky Natural Rugged Lamb Bomber Jacket with Shearling Collar",
         "orientation": "v",
         "showlegend": true,
         "textposition": "auto",
         "type": "bar",
         "x": [
          "2019-09-01",
          "2021-02-01"
         ],
         "xaxis": "x",
         "y": [
          6067.78,
          6067.78
         ],
         "yaxis": "y"
        },
        {
         "alignmentgroup": "True",
         "hovertemplate": "product_name=7 For All Mankind Men's Austyn Relaxed Straight Leg<br>Month=%{x}<br>Profit=%{y}<extra></extra>",
         "legendgroup": "7 For All Mankind Men's Austyn Relaxed Straight Leg",
         "marker": {
          "color": "#EF553B",
          "pattern": {
           "shape": ""
          }
         },
         "name": "7 For All Mankind Men's Austyn Relaxed Straight Leg",
         "offsetgroup": "7 For All Mankind Men's Austyn Relaxed Straight Leg",
         "orientation": "v",
         "showlegend": true,
         "textposition": "auto",
         "type": "bar",
         "x": [
          "2019-09-01"
         ],
         "xaxis": "x",
         "y": [
          2874.96
         ],
         "yaxis": "y"
        },
        {
         "alignmentgroup": "True",
         "hovertemplate": "product_name=Woolrich Men's Elite Waterproof Breathable Tactical Parka Jacket<br>Month=%{x}<br>Profit=%{y}<extra></extra>",
         "legendgroup": "Woolrich Men's Elite Waterproof Breathable Tactical Parka Jacket",
         "marker": {
          "color": "#00cc96",
          "pattern": {
           "shape": ""
          }
         },
         "name": "Woolrich Men's Elite Waterproof Breathable Tactical Parka Jacket",
         "offsetgroup": "Woolrich Men's Elite Waterproof Breathable Tactical Parka Jacket",
         "orientation": "v",
         "showlegend": true,
         "textposition": "auto",
         "type": "bar",
         "x": [
          "2019-09-01"
         ],
         "xaxis": "x",
         "y": [
          2543.47
         ],
         "yaxis": "y"
        },
        {
         "alignmentgroup": "True",
         "hovertemplate": "product_name=Nike Vapor Mens Wind and Rain Jacket<br>Month=%{x}<br>Profit=%{y}<extra></extra>",
         "legendgroup": "Nike Vapor Mens Wind and Rain Jacket",
         "marker": {
          "color": "#ab63fa",
          "pattern": {
           "shape": ""
          }
         },
         "name": "Nike Vapor Mens Wind and Rain Jacket",
         "offsetgroup": "Nike Vapor Mens Wind and Rain Jacket",
         "orientation": "v",
         "showlegend": true,
         "textposition": "auto",
         "type": "bar",
         "x": [
          "2019-09-01"
         ],
         "xaxis": "x",
         "y": [
          2530.52
         ],
         "yaxis": "y"
        },
        {
         "alignmentgroup": "True",
         "hovertemplate": "product_name=Kenneth Cole Men's End On End Zip Blazer<br>Month=%{x}<br>Profit=%{y}<extra></extra>",
         "legendgroup": "Kenneth Cole Men's End On End Zip Blazer",
         "marker": {
          "color": "#FFA15A",
          "pattern": {
           "shape": ""
          }
         },
         "name": "Kenneth Cole Men's End On End Zip Blazer",
         "offsetgroup": "Kenneth Cole Men's End On End Zip Blazer",
         "orientation": "v",
         "showlegend": true,
         "textposition": "auto",
         "type": "bar",
         "x": [
          "2019-09-01"
         ],
         "xaxis": "x",
         "y": [
          2334.64
         ],
         "yaxis": "y"
        },
        {
         "alignmentgroup": "True",
         "hovertemplate": "product_name=Canada Goose Men's Citadel Parka<br>Month=%{x}<br>Profit=%{y}<extra></extra>",
         "legendgroup": "Canada Goose Men's Citadel Parka",
         "marker": {
          "color": "#19d3f3",
          "pattern": {
           "shape": ""
          }
         },
         "name": "Canada Goose Men's Citadel Parka",
         "offsetgroup": "Canada Goose Men's Citadel Parka",
         "orientation": "v",
         "showlegend": true,
         "textposition": "auto",
         "type": "bar",
         "x": [
          "2019-10-01",
          "2020-03-01"
         ],
         "xaxis": "x",
         "y": [
          15497.73,
          15497.73
         ],
         "yaxis": "y"
        },
        {
         "alignmentgroup": "True",
         "hovertemplate": "product_name=Marc New York by Andrew Marc Men's Boston Rugged Lambskin Moto Jacket<br>Month=%{x}<br>Profit=%{y}<extra></extra>",
         "legendgroup": "Marc New York by Andrew Marc Men's Boston Rugged Lambskin Moto Jacket",
         "marker": {
          "color": "#FF6692",
          "pattern": {
           "shape": ""
          }
         },
         "name": "Marc New York by Andrew Marc Men's Boston Rugged Lambskin Moto Jacket",
         "offsetgroup": "Marc New York by Andrew Marc Men's Boston Rugged Lambskin Moto Jacket",
         "orientation": "v",
         "showlegend": true,
         "textposition": "auto",
         "type": "bar",
         "x": [
          "2019-10-01",
          "2022-03-01"
         ],
         "xaxis": "x",
         "y": [
          4762.64,
          4762.64
         ],
         "yaxis": "y"
        },
        {
         "alignmentgroup": "True",
         "hovertemplate": "product_name=Rab Neutrino Endurance Down Jacket - Men's<br>Month=%{x}<br>Profit=%{y}<extra></extra>",
         "legendgroup": "Rab Neutrino Endurance Down Jacket - Men's",
         "marker": {
          "color": "#B6E880",
          "pattern": {
           "shape": ""
          }
         },
         "name": "Rab Neutrino Endurance Down Jacket - Men's",
         "offsetgroup": "Rab Neutrino Endurance Down Jacket - Men's",
         "orientation": "v",
         "showlegend": true,
         "textposition": "auto",
         "type": "bar",
         "x": [
          "2019-10-01"
         ],
         "xaxis": "x",
         "y": [
          4032.6
         ],
         "yaxis": "y"
        },
        {
         "alignmentgroup": "True",
         "hovertemplate": "product_name=Calvin Klein Sportswear Men's Two Button Sportcoat<br>Month=%{x}<br>Profit=%{y}<extra></extra>",
         "legendgroup": "Calvin Klein Sportswear Men's Two Button Sportcoat",
         "marker": {
          "color": "#FF97FF",
          "pattern": {
           "shape": ""
          }
         },
         "name": "Calvin Klein Sportswear Men's Two Button Sportcoat",
         "offsetgroup": "Calvin Klein Sportswear Men's Two Button Sportcoat",
         "orientation": "v",
         "showlegend": true,
         "textposition": "auto",
         "type": "bar",
         "x": [
          "2019-10-01"
         ],
         "xaxis": "x",
         "y": [
          3498.06
         ],
         "yaxis": "y"
        },
        {
         "alignmentgroup": "True",
         "hovertemplate": "product_name=Mountain Hardwear Men's Ghost Whisperer Down Jacket<br>Month=%{x}<br>Profit=%{y}<extra></extra>",
         "legendgroup": "Mountain Hardwear Men's Ghost Whisperer Down Jacket",
         "marker": {
          "color": "#FECB52",
          "pattern": {
           "shape": ""
          }
         },
         "name": "Mountain Hardwear Men's Ghost Whisperer Down Jacket",
         "offsetgroup": "Mountain Hardwear Men's Ghost Whisperer Down Jacket",
         "orientation": "v",
         "showlegend": true,
         "textposition": "auto",
         "type": "bar",
         "x": [
          "2019-10-01"
         ],
         "xaxis": "x",
         "y": [
          3487.26
         ],
         "yaxis": "y"
        },
        {
         "alignmentgroup": "True",
         "hovertemplate": "product_name=Tommy Hilfiger Men's Lamb 2 Pocket Moto Jacket<br>Month=%{x}<br>Profit=%{y}<extra></extra>",
         "legendgroup": "Tommy Hilfiger Men's Lamb 2 Pocket Moto Jacket",
         "marker": {
          "color": "#636efa",
          "pattern": {
           "shape": ""
          }
         },
         "name": "Tommy Hilfiger Men's Lamb 2 Pocket Moto Jacket",
         "offsetgroup": "Tommy Hilfiger Men's Lamb 2 Pocket Moto Jacket",
         "orientation": "v",
         "showlegend": true,
         "textposition": "auto",
         "type": "bar",
         "x": [
          "2019-11-01",
          "2020-11-01"
         ],
         "xaxis": "x",
         "y": [
          4790.63,
          4790.63
         ],
         "yaxis": "y"
        },
        {
         "alignmentgroup": "True",
         "hovertemplate": "product_name=7 For All Mankind Men's Ombre Plaid Blazer<br>Month=%{x}<br>Profit=%{y}<extra></extra>",
         "legendgroup": "7 For All Mankind Men's Ombre Plaid Blazer",
         "marker": {
          "color": "#EF553B",
          "pattern": {
           "shape": ""
          }
         },
         "name": "7 For All Mankind Men's Ombre Plaid Blazer",
         "offsetgroup": "7 For All Mankind Men's Ombre Plaid Blazer",
         "orientation": "v",
         "showlegend": true,
         "textposition": "auto",
         "type": "bar",
         "x": [
          "2019-11-01"
         ],
         "xaxis": "x",
         "y": [
          4194.92
         ],
         "yaxis": "y"
        },
        {
         "alignmentgroup": "True",
         "hovertemplate": "product_name=Shephe 4 Ply Women's Classic Cashmere Robe with Full Length<br>Month=%{x}<br>Profit=%{y}<extra></extra>",
         "legendgroup": "Shephe 4 Ply Women's Classic Cashmere Robe with Full Length",
         "marker": {
          "color": "#00cc96",
          "pattern": {
           "shape": ""
          }
         },
         "name": "Shephe 4 Ply Women's Classic Cashmere Robe with Full Length",
         "offsetgroup": "Shephe 4 Ply Women's Classic Cashmere Robe with Full Length",
         "orientation": "v",
         "showlegend": true,
         "textposition": "auto",
         "type": "bar",
         "x": [
          "2019-11-01"
         ],
         "xaxis": "x",
         "y": [
          4006.52
         ],
         "yaxis": "y"
        },
        {
         "alignmentgroup": "True",
         "hovertemplate": "product_name=Kate Spade New York Brightspot Avenue-Desiree  Wallet<br>Month=%{x}<br>Profit=%{y}<extra></extra>",
         "legendgroup": "Kate Spade New York Brightspot Avenue-Desiree  Wallet",
         "marker": {
          "color": "#ab63fa",
          "pattern": {
           "shape": ""
          }
         },
         "name": "Kate Spade New York Brightspot Avenue-Desiree  Wallet",
         "offsetgroup": "Kate Spade New York Brightspot Avenue-Desiree  Wallet",
         "orientation": "v",
         "showlegend": true,
         "textposition": "auto",
         "type": "bar",
         "x": [
          "2019-11-01"
         ],
         "xaxis": "x",
         "y": [
          2644.49
         ],
         "yaxis": "y"
        },
        {
         "alignmentgroup": "True",
         "hovertemplate": "product_name=Paul Fredrick Striped Linen Double-Breasted Suit<br>Month=%{x}<br>Profit=%{y}<extra></extra>",
         "legendgroup": "Paul Fredrick Striped Linen Double-Breasted Suit",
         "marker": {
          "color": "#FFA15A",
          "pattern": {
           "shape": ""
          }
         },
         "name": "Paul Fredrick Striped Linen Double-Breasted Suit",
         "offsetgroup": "Paul Fredrick Striped Linen Double-Breasted Suit",
         "orientation": "v",
         "showlegend": true,
         "textposition": "auto",
         "type": "bar",
         "x": [
          "2019-12-01"
         ],
         "xaxis": "x",
         "y": [
          4312.92
         ],
         "yaxis": "y"
        },
        {
         "alignmentgroup": "True",
         "hovertemplate": "product_name=Vince Mens Thick Wool Shawl Cardigan Sweater Long Sleeves Brown<br>Month=%{x}<br>Profit=%{y}<extra></extra>",
         "legendgroup": "Vince Mens Thick Wool Shawl Cardigan Sweater Long Sleeves Brown",
         "marker": {
          "color": "#19d3f3",
          "pattern": {
           "shape": ""
          }
         },
         "name": "Vince Mens Thick Wool Shawl Cardigan Sweater Long Sleeves Brown",
         "offsetgroup": "Vince Mens Thick Wool Shawl Cardigan Sweater Long Sleeves Brown",
         "orientation": "v",
         "showlegend": true,
         "textposition": "auto",
         "type": "bar",
         "x": [
          "2019-12-01"
         ],
         "xaxis": "x",
         "y": [
          1889.64
         ],
         "yaxis": "y"
        },
        {
         "alignmentgroup": "True",
         "hovertemplate": "product_name=Ramonti Mens Distressed Aviator Bomber Jacket<br>Month=%{x}<br>Profit=%{y}<extra></extra>",
         "legendgroup": "Ramonti Mens Distressed Aviator Bomber Jacket",
         "marker": {
          "color": "#FF6692",
          "pattern": {
           "shape": ""
          }
         },
         "name": "Ramonti Mens Distressed Aviator Bomber Jacket",
         "offsetgroup": "Ramonti Mens Distressed Aviator Bomber Jacket",
         "orientation": "v",
         "showlegend": true,
         "textposition": "auto",
         "type": "bar",
         "x": [
          "2019-12-01"
         ],
         "xaxis": "x",
         "y": [
          1878.43
         ],
         "yaxis": "y"
        },
        {
         "alignmentgroup": "True",
         "hovertemplate": "product_name=Evan Picone Water Color Skirt Suit<br>Month=%{x}<br>Profit=%{y}<extra></extra>",
         "legendgroup": "Evan Picone Water Color Skirt Suit",
         "marker": {
          "color": "#B6E880",
          "pattern": {
           "shape": ""
          }
         },
         "name": "Evan Picone Water Color Skirt Suit",
         "offsetgroup": "Evan Picone Water Color Skirt Suit",
         "orientation": "v",
         "showlegend": true,
         "textposition": "auto",
         "type": "bar",
         "x": [
          "2019-12-01"
         ],
         "xaxis": "x",
         "y": [
          1779.91
         ],
         "yaxis": "y"
        },
        {
         "alignmentgroup": "True",
         "hovertemplate": "product_name=Diesel Women's Getlegg Jean<br>Month=%{x}<br>Profit=%{y}<extra></extra>",
         "legendgroup": "Diesel Women's Getlegg Jean",
         "marker": {
          "color": "#FF97FF",
          "pattern": {
           "shape": ""
          }
         },
         "name": "Diesel Women's Getlegg Jean",
         "offsetgroup": "Diesel Women's Getlegg Jean",
         "orientation": "v",
         "showlegend": true,
         "textposition": "auto",
         "type": "bar",
         "x": [
          "2019-12-01"
         ],
         "xaxis": "x",
         "y": [
          1700.71
         ],
         "yaxis": "y"
        },
        {
         "alignmentgroup": "True",
         "hovertemplate": "product_name=Design History Women's 100% Cashmere Cowl Mitered Sweater<br>Month=%{x}<br>Profit=%{y}<extra></extra>",
         "legendgroup": "Design History Women's 100% Cashmere Cowl Mitered Sweater",
         "marker": {
          "color": "#FECB52",
          "pattern": {
           "shape": ""
          }
         },
         "name": "Design History Women's 100% Cashmere Cowl Mitered Sweater",
         "offsetgroup": "Design History Women's 100% Cashmere Cowl Mitered Sweater",
         "orientation": "v",
         "showlegend": true,
         "textposition": "auto",
         "type": "bar",
         "x": [
          "2020-01-01"
         ],
         "xaxis": "x",
         "y": [
          3353.01
         ],
         "yaxis": "y"
        },
        {
         "alignmentgroup": "True",
         "hovertemplate": "product_name=Zero Restriction Men's Featherweight Pant Rain Pant<br>Month=%{x}<br>Profit=%{y}<extra></extra>",
         "legendgroup": "Zero Restriction Men's Featherweight Pant Rain Pant",
         "marker": {
          "color": "#636efa",
          "pattern": {
           "shape": ""
          }
         },
         "name": "Zero Restriction Men's Featherweight Pant Rain Pant",
         "offsetgroup": "Zero Restriction Men's Featherweight Pant Rain Pant",
         "orientation": "v",
         "showlegend": true,
         "textposition": "auto",
         "type": "bar",
         "x": [
          "2020-01-01"
         ],
         "xaxis": "x",
         "y": [
          3176.76
         ],
         "yaxis": "y"
        },
        {
         "alignmentgroup": "True",
         "hovertemplate": "product_name=Lilly Pulitzer Women's Millie Jacket<br>Month=%{x}<br>Profit=%{y}<extra></extra>",
         "legendgroup": "Lilly Pulitzer Women's Millie Jacket",
         "marker": {
          "color": "#EF553B",
          "pattern": {
           "shape": ""
          }
         },
         "name": "Lilly Pulitzer Women's Millie Jacket",
         "offsetgroup": "Lilly Pulitzer Women's Millie Jacket",
         "orientation": "v",
         "showlegend": true,
         "textposition": "auto",
         "type": "bar",
         "x": [
          "2020-01-01"
         ],
         "xaxis": "x",
         "y": [
          2265.73
         ],
         "yaxis": "y"
        },
        {
         "alignmentgroup": "True",
         "hovertemplate": "product_name=7 For All Mankind Men's The Straight Modern Denim Jean<br>Month=%{x}<br>Profit=%{y}<extra></extra>",
         "legendgroup": "7 For All Mankind Men's The Straight Modern Denim Jean",
         "marker": {
          "color": "#00cc96",
          "pattern": {
           "shape": ""
          }
         },
         "name": "7 For All Mankind Men's The Straight Modern Denim Jean",
         "offsetgroup": "7 For All Mankind Men's The Straight Modern Denim Jean",
         "orientation": "v",
         "showlegend": true,
         "textposition": "auto",
         "type": "bar",
         "x": [
          "2020-01-01"
         ],
         "xaxis": "x",
         "y": [
          2109.24
         ],
         "yaxis": "y"
        },
        {
         "alignmentgroup": "True",
         "hovertemplate": "product_name=<br>Month=%{x}<br>Profit=%{y}<extra></extra>",
         "legendgroup": "",
         "marker": {
          "color": "#ab63fa",
          "pattern": {
           "shape": ""
          }
         },
         "name": "",
         "offsetgroup": "",
         "orientation": "v",
         "showlegend": false,
         "textposition": "auto",
         "type": "bar",
         "x": [
          "2020-01-01"
         ],
         "xaxis": "x",
         "y": [
          2097.02
         ],
         "yaxis": "y"
        },
        {
         "alignmentgroup": "True",
         "hovertemplate": "product_name=Arc'teryx Men's Alpha SV Jacket<br>Month=%{x}<br>Profit=%{y}<extra></extra>",
         "legendgroup": "Arc'teryx Men's Alpha SV Jacket",
         "marker": {
          "color": "#FFA15A",
          "pattern": {
           "shape": ""
          }
         },
         "name": "Arc'teryx Men's Alpha SV Jacket",
         "offsetgroup": "Arc'teryx Men's Alpha SV Jacket",
         "orientation": "v",
         "showlegend": true,
         "textposition": "auto",
         "type": "bar",
         "x": [
          "2020-02-01"
         ],
         "xaxis": "x",
         "y": [
          9421.88
         ],
         "yaxis": "y"
        },
        {
         "alignmentgroup": "True",
         "hovertemplate": "product_name=Regency New York Men's Smoking Jacket Constantine Black<br>Month=%{x}<br>Profit=%{y}<extra></extra>",
         "legendgroup": "Regency New York Men's Smoking Jacket Constantine Black",
         "marker": {
          "color": "#19d3f3",
          "pattern": {
           "shape": ""
          }
         },
         "name": "Regency New York Men's Smoking Jacket Constantine Black",
         "offsetgroup": "Regency New York Men's Smoking Jacket Constantine Black",
         "orientation": "v",
         "showlegend": true,
         "textposition": "auto",
         "type": "bar",
         "x": [
          "2020-02-01"
         ],
         "xaxis": "x",
         "y": [
          8009.4
         ],
         "yaxis": "y"
        },
        {
         "alignmentgroup": "True",
         "hovertemplate": "product_name=Lacoste Men's Club Cashmere Crewneck Sweater Blue<br>Month=%{x}<br>Profit=%{y}<extra></extra>",
         "legendgroup": "Lacoste Men's Club Cashmere Crewneck Sweater Blue",
         "marker": {
          "color": "#FF6692",
          "pattern": {
           "shape": ""
          }
         },
         "name": "Lacoste Men's Club Cashmere Crewneck Sweater Blue",
         "offsetgroup": "Lacoste Men's Club Cashmere Crewneck Sweater Blue",
         "orientation": "v",
         "showlegend": true,
         "textposition": "auto",
         "type": "bar",
         "x": [
          "2020-02-01"
         ],
         "xaxis": "x",
         "y": [
          4735.23
         ],
         "yaxis": "y"
        },
        {
         "alignmentgroup": "True",
         "hovertemplate": "product_name=Tallia Mens 2 Button Flat Front Dark Gray 3 Piece Check Suit<br>Month=%{x}<br>Profit=%{y}<extra></extra>",
         "legendgroup": "Tallia Mens 2 Button Flat Front Dark Gray 3 Piece Check Suit",
         "marker": {
          "color": "#B6E880",
          "pattern": {
           "shape": ""
          }
         },
         "name": "Tallia Mens 2 Button Flat Front Dark Gray 3 Piece Check Suit",
         "offsetgroup": "Tallia Mens 2 Button Flat Front Dark Gray 3 Piece Check Suit",
         "orientation": "v",
         "showlegend": true,
         "textposition": "auto",
         "type": "bar",
         "x": [
          "2020-02-01"
         ],
         "xaxis": "x",
         "y": [
          3824.96
         ],
         "yaxis": "y"
        },
        {
         "alignmentgroup": "True",
         "hovertemplate": "product_name=Mammut Men's Ultimate Hoody Jacket<br>Month=%{x}<br>Profit=%{y}<extra></extra>",
         "legendgroup": "Mammut Men's Ultimate Hoody Jacket",
         "marker": {
          "color": "#FF97FF",
          "pattern": {
           "shape": ""
          }
         },
         "name": "Mammut Men's Ultimate Hoody Jacket",
         "offsetgroup": "Mammut Men's Ultimate Hoody Jacket",
         "orientation": "v",
         "showlegend": true,
         "textposition": "auto",
         "type": "bar",
         "x": [
          "2020-02-01"
         ],
         "xaxis": "x",
         "y": [
          3186.38
         ],
         "yaxis": "y"
        },
        {
         "alignmentgroup": "True",
         "hovertemplate": "product_name=The North Face Apex Bionic Mens Soft Shell Ski Jacket 2013<br>Month=%{x}<br>Profit=%{y}<extra></extra>",
         "legendgroup": "The North Face Apex Bionic Mens Soft Shell Ski Jacket 2013",
         "marker": {
          "color": "#FECB52",
          "pattern": {
           "shape": ""
          }
         },
         "name": "The North Face Apex Bionic Mens Soft Shell Ski Jacket 2013",
         "offsetgroup": "The North Face Apex Bionic Mens Soft Shell Ski Jacket 2013",
         "orientation": "v",
         "showlegend": true,
         "textposition": "auto",
         "type": "bar",
         "x": [
          "2020-03-01",
          "2021-09-01",
          "2022-01-01"
         ],
         "xaxis": "x",
         "y": [
          7729.68,
          7729.68,
          7729.68
         ],
         "yaxis": "y"
        },
        {
         "alignmentgroup": "True",
         "hovertemplate": "product_name=Ben Sherman Men's Plectrum Tweed Blazer<br>Month=%{x}<br>Profit=%{y}<extra></extra>",
         "legendgroup": "Ben Sherman Men's Plectrum Tweed Blazer",
         "marker": {
          "color": "#636efa",
          "pattern": {
           "shape": ""
          }
         },
         "name": "Ben Sherman Men's Plectrum Tweed Blazer",
         "offsetgroup": "Ben Sherman Men's Plectrum Tweed Blazer",
         "orientation": "v",
         "showlegend": true,
         "textposition": "auto",
         "type": "bar",
         "x": [
          "2020-03-01"
         ],
         "xaxis": "x",
         "y": [
          5423.87
         ],
         "yaxis": "y"
        },
        {
         "alignmentgroup": "True",
         "hovertemplate": "product_name=True Religion Men's Ricky Super T Straight Jean<br>Month=%{x}<br>Profit=%{y}<extra></extra>",
         "legendgroup": "True Religion Men's Ricky Super T Straight Jean",
         "marker": {
          "color": "#EF553B",
          "pattern": {
           "shape": ""
          }
         },
         "name": "True Religion Men's Ricky Super T Straight Jean",
         "offsetgroup": "True Religion Men's Ricky Super T Straight Jean",
         "orientation": "v",
         "showlegend": true,
         "textposition": "auto",
         "type": "bar",
         "x": [
          "2020-03-01"
         ],
         "xaxis": "x",
         "y": [
          4509.29
         ],
         "yaxis": "y"
        },
        {
         "alignmentgroup": "True",
         "hovertemplate": "product_name=Karen Kane Women's Drape Neck Jacket<br>Month=%{x}<br>Profit=%{y}<extra></extra>",
         "legendgroup": "Karen Kane Women's Drape Neck Jacket",
         "marker": {
          "color": "#00cc96",
          "pattern": {
           "shape": ""
          }
         },
         "name": "Karen Kane Women's Drape Neck Jacket",
         "offsetgroup": "Karen Kane Women's Drape Neck Jacket",
         "orientation": "v",
         "showlegend": true,
         "textposition": "auto",
         "type": "bar",
         "x": [
          "2020-03-01",
          "2021-07-01"
         ],
         "xaxis": "x",
         "y": [
          4135.62,
          4135.62
         ],
         "yaxis": "y"
        },
        {
         "alignmentgroup": "True",
         "hovertemplate": "product_name=Canada Goose Women's Mystique<br>Month=%{x}<br>Profit=%{y}<extra></extra>",
         "legendgroup": "Canada Goose Women's Mystique",
         "marker": {
          "color": "#ab63fa",
          "pattern": {
           "shape": ""
          }
         },
         "name": "Canada Goose Women's Mystique",
         "offsetgroup": "Canada Goose Women's Mystique",
         "orientation": "v",
         "showlegend": true,
         "textposition": "auto",
         "type": "bar",
         "x": [
          "2020-04-01"
         ],
         "xaxis": "x",
         "y": [
          9125.25
         ],
         "yaxis": "y"
        },
        {
         "alignmentgroup": "True",
         "hovertemplate": "product_name=G-Star Raw - Mens Attacc Low Straight Leg Jeans in Dark Aged<br>Month=%{x}<br>Profit=%{y}<extra></extra>",
         "legendgroup": "G-Star Raw - Mens Attacc Low Straight Leg Jeans in Dark Aged",
         "marker": {
          "color": "#FFA15A",
          "pattern": {
           "shape": ""
          }
         },
         "name": "G-Star Raw - Mens Attacc Low Straight Leg Jeans in Dark Aged",
         "offsetgroup": "G-Star Raw - Mens Attacc Low Straight Leg Jeans in Dark Aged",
         "orientation": "v",
         "showlegend": true,
         "textposition": "auto",
         "type": "bar",
         "x": [
          "2020-04-01"
         ],
         "xaxis": "x",
         "y": [
          2987.44
         ],
         "yaxis": "y"
        },
        {
         "alignmentgroup": "True",
         "hovertemplate": "product_name=Diesel Men's Larkee 74W Regular Straight-Leg Jean<br>Month=%{x}<br>Profit=%{y}<extra></extra>",
         "legendgroup": "Diesel Men's Larkee 74W Regular Straight-Leg Jean",
         "marker": {
          "color": "#19d3f3",
          "pattern": {
           "shape": ""
          }
         },
         "name": "Diesel Men's Larkee 74W Regular Straight-Leg Jean",
         "offsetgroup": "Diesel Men's Larkee 74W Regular Straight-Leg Jean",
         "orientation": "v",
         "showlegend": true,
         "textposition": "auto",
         "type": "bar",
         "x": [
          "2020-04-01"
         ],
         "xaxis": "x",
         "y": [
          2726.45
         ],
         "yaxis": "y"
        },
        {
         "alignmentgroup": "True",
         "hovertemplate": "product_name=Ibex Women's Izzi Pant<br>Month=%{x}<br>Profit=%{y}<extra></extra>",
         "legendgroup": "Ibex Women's Izzi Pant",
         "marker": {
          "color": "#FF6692",
          "pattern": {
           "shape": ""
          }
         },
         "name": "Ibex Women's Izzi Pant",
         "offsetgroup": "Ibex Women's Izzi Pant",
         "orientation": "v",
         "showlegend": true,
         "textposition": "auto",
         "type": "bar",
         "x": [
          "2020-04-01"
         ],
         "xaxis": "x",
         "y": [
          2682.72
         ],
         "yaxis": "y"
        },
        {
         "alignmentgroup": "True",
         "hovertemplate": "product_name=McGinn Women's Tabitha Short<br>Month=%{x}<br>Profit=%{y}<extra></extra>",
         "legendgroup": "McGinn Women's Tabitha Short",
         "marker": {
          "color": "#B6E880",
          "pattern": {
           "shape": ""
          }
         },
         "name": "McGinn Women's Tabitha Short",
         "offsetgroup": "McGinn Women's Tabitha Short",
         "orientation": "v",
         "showlegend": true,
         "textposition": "auto",
         "type": "bar",
         "x": [
          "2020-04-01"
         ],
         "xaxis": "x",
         "y": [
          2680.13
         ],
         "yaxis": "y"
        },
        {
         "alignmentgroup": "True",
         "hovertemplate": "product_name=McGinn Women's Clara Textured Blazer<br>Month=%{x}<br>Profit=%{y}<extra></extra>",
         "legendgroup": "McGinn Women's Clara Textured Blazer",
         "marker": {
          "color": "#FF97FF",
          "pattern": {
           "shape": ""
          }
         },
         "name": "McGinn Women's Clara Textured Blazer",
         "offsetgroup": "McGinn Women's Clara Textured Blazer",
         "orientation": "v",
         "showlegend": true,
         "textposition": "auto",
         "type": "bar",
         "x": [
          "2020-05-01"
         ],
         "xaxis": "x",
         "y": [
          5285.28
         ],
         "yaxis": "y"
        },
        {
         "alignmentgroup": "True",
         "hovertemplate": "product_name=Woolrich Men's Langhorn Jacket<br>Month=%{x}<br>Profit=%{y}<extra></extra>",
         "legendgroup": "Woolrich Men's Langhorn Jacket",
         "marker": {
          "color": "#FECB52",
          "pattern": {
           "shape": ""
          }
         },
         "name": "Woolrich Men's Langhorn Jacket",
         "offsetgroup": "Woolrich Men's Langhorn Jacket",
         "orientation": "v",
         "showlegend": true,
         "textposition": "auto",
         "type": "bar",
         "x": [
          "2020-05-01"
         ],
         "xaxis": "x",
         "y": [
          3114.4
         ],
         "yaxis": "y"
        },
        {
         "alignmentgroup": "True",
         "hovertemplate": "product_name=Austin Reed Men's Black Label Mini Check Two Button Sport Coat<br>Month=%{x}<br>Profit=%{y}<extra></extra>",
         "legendgroup": "Austin Reed Men's Black Label Mini Check Two Button Sport Coat",
         "marker": {
          "color": "#636efa",
          "pattern": {
           "shape": ""
          }
         },
         "name": "Austin Reed Men's Black Label Mini Check Two Button Sport Coat",
         "offsetgroup": "Austin Reed Men's Black Label Mini Check Two Button Sport Coat",
         "orientation": "v",
         "showlegend": true,
         "textposition": "auto",
         "type": "bar",
         "x": [
          "2020-05-01"
         ],
         "xaxis": "x",
         "y": [
          2539.61
         ],
         "yaxis": "y"
        },
        {
         "alignmentgroup": "True",
         "hovertemplate": "product_name=ANSAI Women's Mobile Warming Softshell Jacket<br>Month=%{x}<br>Profit=%{y}<extra></extra>",
         "legendgroup": "ANSAI Women's Mobile Warming Softshell Jacket",
         "marker": {
          "color": "#EF553B",
          "pattern": {
           "shape": ""
          }
         },
         "name": "ANSAI Women's Mobile Warming Softshell Jacket",
         "offsetgroup": "ANSAI Women's Mobile Warming Softshell Jacket",
         "orientation": "v",
         "showlegend": true,
         "textposition": "auto",
         "type": "bar",
         "x": [
          "2020-05-01"
         ],
         "xaxis": "x",
         "y": [
          2402.28
         ],
         "yaxis": "y"
        },
        {
         "alignmentgroup": "True",
         "hovertemplate": "product_name=Jet Lag Men's Take Off Basic Cargo Short<br>Month=%{x}<br>Profit=%{y}<extra></extra>",
         "legendgroup": "Jet Lag Men's Take Off Basic Cargo Short",
         "marker": {
          "color": "#00cc96",
          "pattern": {
           "shape": ""
          }
         },
         "name": "Jet Lag Men's Take Off Basic Cargo Short",
         "offsetgroup": "Jet Lag Men's Take Off Basic Cargo Short",
         "orientation": "v",
         "showlegend": true,
         "textposition": "auto",
         "type": "bar",
         "x": [
          "2020-05-01"
         ],
         "xaxis": "x",
         "y": [
          2132.24
         ],
         "yaxis": "y"
        },
        {
         "alignmentgroup": "True",
         "hovertemplate": "product_name=Quiksilver Men's Rockefeller Walkshort<br>Month=%{x}<br>Profit=%{y}<extra></extra>",
         "legendgroup": "Quiksilver Men's Rockefeller Walkshort",
         "marker": {
          "color": "#ab63fa",
          "pattern": {
           "shape": ""
          }
         },
         "name": "Quiksilver Men's Rockefeller Walkshort",
         "offsetgroup": "Quiksilver Men's Rockefeller Walkshort",
         "orientation": "v",
         "showlegend": true,
         "textposition": "auto",
         "type": "bar",
         "x": [
          "2020-06-01",
          "2020-11-01"
         ],
         "xaxis": "x",
         "y": [
          5599.5,
          5599.5
         ],
         "yaxis": "y"
        },
        {
         "alignmentgroup": "True",
         "hovertemplate": "product_name=Yoana Baraschi Women's Boyfriend Blazer<br>Month=%{x}<br>Profit=%{y}<extra></extra>",
         "legendgroup": "Yoana Baraschi Women's Boyfriend Blazer",
         "marker": {
          "color": "#FFA15A",
          "pattern": {
           "shape": ""
          }
         },
         "name": "Yoana Baraschi Women's Boyfriend Blazer",
         "offsetgroup": "Yoana Baraschi Women's Boyfriend Blazer",
         "orientation": "v",
         "showlegend": true,
         "textposition": "auto",
         "type": "bar",
         "x": [
          "2020-06-01",
          "2021-01-01"
         ],
         "xaxis": "x",
         "y": [
          4701.84,
          4701.84
         ],
         "yaxis": "y"
        },
        {
         "alignmentgroup": "True",
         "hovertemplate": "product_name=Volcom Men's TDS Jacket<br>Month=%{x}<br>Profit=%{y}<extra></extra>",
         "legendgroup": "Volcom Men's TDS Jacket",
         "marker": {
          "color": "#19d3f3",
          "pattern": {
           "shape": ""
          }
         },
         "name": "Volcom Men's TDS Jacket",
         "offsetgroup": "Volcom Men's TDS Jacket",
         "orientation": "v",
         "showlegend": true,
         "textposition": "auto",
         "type": "bar",
         "x": [
          "2020-06-01",
          "2020-11-01"
         ],
         "xaxis": "x",
         "y": [
          4654.08,
          4654.08
         ],
         "yaxis": "y"
        },
        {
         "alignmentgroup": "True",
         "hovertemplate": "product_name=True Religion Women's Billy Straight Leg Jean<br>Month=%{x}<br>Profit=%{y}<extra></extra>",
         "legendgroup": "True Religion Women's Billy Straight Leg Jean",
         "marker": {
          "color": "#FF6692",
          "pattern": {
           "shape": ""
          }
         },
         "name": "True Religion Women's Billy Straight Leg Jean",
         "offsetgroup": "True Religion Women's Billy Straight Leg Jean",
         "orientation": "v",
         "showlegend": true,
         "textposition": "auto",
         "type": "bar",
         "x": [
          "2020-06-01"
         ],
         "xaxis": "x",
         "y": [
          3414.58
         ],
         "yaxis": "y"
        },
        {
         "alignmentgroup": "True",
         "hovertemplate": "product_name=Spyder Router Insulated Ski Pant Mens<br>Month=%{x}<br>Profit=%{y}<extra></extra>",
         "legendgroup": "Spyder Router Insulated Ski Pant Mens",
         "marker": {
          "color": "#B6E880",
          "pattern": {
           "shape": ""
          }
         },
         "name": "Spyder Router Insulated Ski Pant Mens",
         "offsetgroup": "Spyder Router Insulated Ski Pant Mens",
         "orientation": "v",
         "showlegend": true,
         "textposition": "auto",
         "type": "bar",
         "x": [
          "2020-06-01"
         ],
         "xaxis": "x",
         "y": [
          2729.09
         ],
         "yaxis": "y"
        },
        {
         "alignmentgroup": "True",
         "hovertemplate": "product_name=Diesel Men's Lisardo Jacket<br>Month=%{x}<br>Profit=%{y}<extra></extra>",
         "legendgroup": "Diesel Men's Lisardo Jacket",
         "marker": {
          "color": "#FF97FF",
          "pattern": {
           "shape": ""
          }
         },
         "name": "Diesel Men's Lisardo Jacket",
         "offsetgroup": "Diesel Men's Lisardo Jacket",
         "orientation": "v",
         "showlegend": true,
         "textposition": "auto",
         "type": "bar",
         "x": [
          "2020-07-01"
         ],
         "xaxis": "x",
         "y": [
          8882.24
         ],
         "yaxis": "y"
        },
        {
         "alignmentgroup": "True",
         "hovertemplate": "product_name=PAIGE Women's Skyline Ankle Peg Classic Rise Denim<br>Month=%{x}<br>Profit=%{y}<extra></extra>",
         "legendgroup": "PAIGE Women's Skyline Ankle Peg Classic Rise Denim",
         "marker": {
          "color": "#FECB52",
          "pattern": {
           "shape": ""
          }
         },
         "name": "PAIGE Women's Skyline Ankle Peg Classic Rise Denim",
         "offsetgroup": "PAIGE Women's Skyline Ankle Peg Classic Rise Denim",
         "orientation": "v",
         "showlegend": true,
         "textposition": "auto",
         "type": "bar",
         "x": [
          "2020-07-01"
         ],
         "xaxis": "x",
         "y": [
          5288.98
         ],
         "yaxis": "y"
        },
        {
         "alignmentgroup": "True",
         "hovertemplate": "product_name=The North Face Denali Down Womens Jacket 2013<br>Month=%{x}<br>Profit=%{y}<extra></extra>",
         "legendgroup": "The North Face Denali Down Womens Jacket 2013",
         "marker": {
          "color": "#636efa",
          "pattern": {
           "shape": ""
          }
         },
         "name": "The North Face Denali Down Womens Jacket 2013",
         "offsetgroup": "The North Face Denali Down Womens Jacket 2013",
         "orientation": "v",
         "showlegend": true,
         "textposition": "auto",
         "type": "bar",
         "x": [
          "2020-07-01",
          "2021-12-01"
         ],
         "xaxis": "x",
         "y": [
          5074.86,
          9318.96
         ],
         "yaxis": "y"
        },
        {
         "alignmentgroup": "True",
         "hovertemplate": "product_name=TOM FORD WILLIAM TF0207 TF207 Sunglasses 59-15-135<br>Month=%{x}<br>Profit=%{y}<extra></extra>",
         "legendgroup": "TOM FORD WILLIAM TF0207 TF207 Sunglasses 59-15-135",
         "marker": {
          "color": "#EF553B",
          "pattern": {
           "shape": ""
          }
         },
         "name": "TOM FORD WILLIAM TF0207 TF207 Sunglasses 59-15-135",
         "offsetgroup": "TOM FORD WILLIAM TF0207 TF207 Sunglasses 59-15-135",
         "orientation": "v",
         "showlegend": true,
         "textposition": "auto",
         "type": "bar",
         "x": [
          "2020-07-01",
          "2020-10-01",
          "2020-11-01",
          "2022-03-01"
         ],
         "xaxis": "x",
         "y": [
          4813.31,
          4813.31,
          4813.31,
          4813.31
         ],
         "yaxis": "y"
        },
        {
         "alignmentgroup": "True",
         "hovertemplate": "product_name=Mountain Hardwear Women's Ghost Whisperer Down Jacket<br>Month=%{x}<br>Profit=%{y}<extra></extra>",
         "legendgroup": "Mountain Hardwear Women's Ghost Whisperer Down Jacket",
         "marker": {
          "color": "#00cc96",
          "pattern": {
           "shape": ""
          }
         },
         "name": "Mountain Hardwear Women's Ghost Whisperer Down Jacket",
         "offsetgroup": "Mountain Hardwear Women's Ghost Whisperer Down Jacket",
         "orientation": "v",
         "showlegend": true,
         "textposition": "auto",
         "type": "bar",
         "x": [
          "2020-07-01"
         ],
         "xaxis": "x",
         "y": [
          4486.19
         ],
         "yaxis": "y"
        },
        {
         "alignmentgroup": "True",
         "hovertemplate": "product_name=Joseph Abboud Men's Two-button Side Vent Sport Coat<br>Month=%{x}<br>Profit=%{y}<extra></extra>",
         "legendgroup": "Joseph Abboud Men's Two-button Side Vent Sport Coat",
         "marker": {
          "color": "#ab63fa",
          "pattern": {
           "shape": ""
          }
         },
         "name": "Joseph Abboud Men's Two-button Side Vent Sport Coat",
         "offsetgroup": "Joseph Abboud Men's Two-button Side Vent Sport Coat",
         "orientation": "v",
         "showlegend": true,
         "textposition": "auto",
         "type": "bar",
         "x": [
          "2020-08-01",
          "2021-01-01"
         ],
         "xaxis": "x",
         "y": [
          5401.44,
          5401.44
         ],
         "yaxis": "y"
        },
        {
         "alignmentgroup": "True",
         "hovertemplate": "product_name=Long Le Fay Hoodie in Black by Prairie Underground<br>Month=%{x}<br>Profit=%{y}<extra></extra>",
         "legendgroup": "Long Le Fay Hoodie in Black by Prairie Underground",
         "marker": {
          "color": "#FFA15A",
          "pattern": {
           "shape": ""
          }
         },
         "name": "Long Le Fay Hoodie in Black by Prairie Underground",
         "offsetgroup": "Long Le Fay Hoodie in Black by Prairie Underground",
         "orientation": "v",
         "showlegend": true,
         "textposition": "auto",
         "type": "bar",
         "x": [
          "2020-08-01"
         ],
         "xaxis": "x",
         "y": [
          4253.47
         ],
         "yaxis": "y"
        },
        {
         "alignmentgroup": "True",
         "hovertemplate": "product_name=Joe's Jeans Men's Slim Fit Straight Leg Brixton<br>Month=%{x}<br>Profit=%{y}<extra></extra>",
         "legendgroup": "Joe's Jeans Men's Slim Fit Straight Leg Brixton",
         "marker": {
          "color": "#19d3f3",
          "pattern": {
           "shape": ""
          }
         },
         "name": "Joe's Jeans Men's Slim Fit Straight Leg Brixton",
         "offsetgroup": "Joe's Jeans Men's Slim Fit Straight Leg Brixton",
         "orientation": "v",
         "showlegend": true,
         "textposition": "auto",
         "type": "bar",
         "x": [
          "2020-08-01"
         ],
         "xaxis": "x",
         "y": [
          3560.44
         ],
         "yaxis": "y"
        },
        {
         "alignmentgroup": "True",
         "hovertemplate": "product_name=Men's Terry Cotton Full Length Hooded Bathrobe Robe Sizes Small to 4XL<br>Month=%{x}<br>Profit=%{y}<extra></extra>",
         "legendgroup": "Men's Terry Cotton Full Length Hooded Bathrobe Robe Sizes Small to 4XL",
         "marker": {
          "color": "#FF6692",
          "pattern": {
           "shape": ""
          }
         },
         "name": "Men's Terry Cotton Full Length Hooded Bathrobe Robe Sizes Small to 4XL",
         "offsetgroup": "Men's Terry Cotton Full Length Hooded Bathrobe Robe Sizes Small to 4XL",
         "orientation": "v",
         "showlegend": true,
         "textposition": "auto",
         "type": "bar",
         "x": [
          "2020-08-01"
         ],
         "xaxis": "x",
         "y": [
          3288.23
         ],
         "yaxis": "y"
        },
        {
         "alignmentgroup": "True",
         "hovertemplate": "product_name=Spiewak Women's Mcelroy Jacket<br>Month=%{x}<br>Profit=%{y}<extra></extra>",
         "legendgroup": "Spiewak Women's Mcelroy Jacket",
         "marker": {
          "color": "#B6E880",
          "pattern": {
           "shape": ""
          }
         },
         "name": "Spiewak Women's Mcelroy Jacket",
         "offsetgroup": "Spiewak Women's Mcelroy Jacket",
         "orientation": "v",
         "showlegend": true,
         "textposition": "auto",
         "type": "bar",
         "x": [
          "2020-08-01"
         ],
         "xaxis": "x",
         "y": [
          3002.02
         ],
         "yaxis": "y"
        },
        {
         "alignmentgroup": "True",
         "hovertemplate": "product_name=Diesel Men's Lagnum Leather Jacket<br>Month=%{x}<br>Profit=%{y}<extra></extra>",
         "legendgroup": "Diesel Men's Lagnum Leather Jacket",
         "marker": {
          "color": "#FF97FF",
          "pattern": {
           "shape": ""
          }
         },
         "name": "Diesel Men's Lagnum Leather Jacket",
         "offsetgroup": "Diesel Men's Lagnum Leather Jacket",
         "orientation": "v",
         "showlegend": true,
         "textposition": "auto",
         "type": "bar",
         "x": [
          "2020-09-01"
         ],
         "xaxis": "x",
         "y": [
          6932.02
         ],
         "yaxis": "y"
        },
        {
         "alignmentgroup": "True",
         "hovertemplate": "product_name=Levi's Men's Leather Racer Jacket<br>Month=%{x}<br>Profit=%{y}<extra></extra>",
         "legendgroup": "Levi's Men's Leather Racer Jacket",
         "marker": {
          "color": "#FECB52",
          "pattern": {
           "shape": ""
          }
         },
         "name": "Levi's Men's Leather Racer Jacket",
         "offsetgroup": "Levi's Men's Leather Racer Jacket",
         "orientation": "v",
         "showlegend": true,
         "textposition": "auto",
         "type": "bar",
         "x": [
          "2020-09-01"
         ],
         "xaxis": "x",
         "y": [
          4617.36
         ],
         "yaxis": "y"
        },
        {
         "alignmentgroup": "True",
         "hovertemplate": "product_name=Faconnable Men's Double Closure Sweater Vest<br>Month=%{x}<br>Profit=%{y}<extra></extra>",
         "legendgroup": "Faconnable Men's Double Closure Sweater Vest",
         "marker": {
          "color": "#636efa",
          "pattern": {
           "shape": ""
          }
         },
         "name": "Faconnable Men's Double Closure Sweater Vest",
         "offsetgroup": "Faconnable Men's Double Closure Sweater Vest",
         "orientation": "v",
         "showlegend": true,
         "textposition": "auto",
         "type": "bar",
         "x": [
          "2020-09-01",
          "2021-09-01"
         ],
         "xaxis": "x",
         "y": [
          4109.8,
          8219.6
         ],
         "yaxis": "y"
        },
        {
         "alignmentgroup": "True",
         "hovertemplate": "product_name=Men's Henningsvaer Norwegian Wool Pullover<br>Month=%{x}<br>Profit=%{y}<extra></extra>",
         "legendgroup": "Men's Henningsvaer Norwegian Wool Pullover",
         "marker": {
          "color": "#EF553B",
          "pattern": {
           "shape": ""
          }
         },
         "name": "Men's Henningsvaer Norwegian Wool Pullover",
         "offsetgroup": "Men's Henningsvaer Norwegian Wool Pullover",
         "orientation": "v",
         "showlegend": true,
         "textposition": "auto",
         "type": "bar",
         "x": [
          "2020-09-01",
          "2021-11-01"
         ],
         "xaxis": "x",
         "y": [
          3799.8,
          3799.8
         ],
         "yaxis": "y"
        },
        {
         "alignmentgroup": "True",
         "hovertemplate": "product_name=AG Adriano Goldschmied The Hero Relaxed Fit Jean<br>Month=%{x}<br>Profit=%{y}<extra></extra>",
         "legendgroup": "AG Adriano Goldschmied The Hero Relaxed Fit Jean",
         "marker": {
          "color": "#00cc96",
          "pattern": {
           "shape": ""
          }
         },
         "name": "AG Adriano Goldschmied The Hero Relaxed Fit Jean",
         "offsetgroup": "AG Adriano Goldschmied The Hero Relaxed Fit Jean",
         "orientation": "v",
         "showlegend": true,
         "textposition": "auto",
         "type": "bar",
         "x": [
          "2020-09-01",
          "2021-04-01"
         ],
         "xaxis": "x",
         "y": [
          3511.49,
          3511.49
         ],
         "yaxis": "y"
        },
        {
         "alignmentgroup": "True",
         "hovertemplate": "product_name=GUESS by Marciano Woven Blazer<br>Month=%{x}<br>Profit=%{y}<extra></extra>",
         "legendgroup": "GUESS by Marciano Woven Blazer",
         "marker": {
          "color": "#ab63fa",
          "pattern": {
           "shape": ""
          }
         },
         "name": "GUESS by Marciano Woven Blazer",
         "offsetgroup": "GUESS by Marciano Woven Blazer",
         "orientation": "v",
         "showlegend": true,
         "textposition": "auto",
         "type": "bar",
         "x": [
          "2020-10-01",
          "2022-03-01"
         ],
         "xaxis": "x",
         "y": [
          3942.56,
          3942.56
         ],
         "yaxis": "y"
        },
        {
         "alignmentgroup": "True",
         "hovertemplate": "product_name=Tommy Hilfiger Mens 2 Button Side Vent Trim Fit 100% Wool Suit Separate Coat<br>Month=%{x}<br>Profit=%{y}<extra></extra>",
         "legendgroup": "Tommy Hilfiger Mens 2 Button Side Vent Trim Fit 100% Wool Suit Separate Coat",
         "marker": {
          "color": "#FFA15A",
          "pattern": {
           "shape": ""
          }
         },
         "name": "Tommy Hilfiger Mens 2 Button Side Vent Trim Fit 100% Wool Suit Separate Coat",
         "offsetgroup": "Tommy Hilfiger Mens 2 Button Side Vent Trim Fit 100% Wool Suit Separate Coat",
         "orientation": "v",
         "showlegend": true,
         "textposition": "auto",
         "type": "bar",
         "x": [
          "2020-10-01",
          "2021-03-01"
         ],
         "xaxis": "x",
         "y": [
          3761.72,
          3761.72
         ],
         "yaxis": "y"
        },
        {
         "alignmentgroup": "True",
         "hovertemplate": "product_name=Calvin Klein Sportswear Men's 3/4 Coat With Stand Up Collar<br>Month=%{x}<br>Profit=%{y}<extra></extra>",
         "legendgroup": "Calvin Klein Sportswear Men's 3/4 Coat With Stand Up Collar",
         "marker": {
          "color": "#19d3f3",
          "pattern": {
           "shape": ""
          }
         },
         "name": "Calvin Klein Sportswear Men's 3/4 Coat With Stand Up Collar",
         "offsetgroup": "Calvin Klein Sportswear Men's 3/4 Coat With Stand Up Collar",
         "orientation": "v",
         "showlegend": true,
         "textposition": "auto",
         "type": "bar",
         "x": [
          "2020-10-01"
         ],
         "xaxis": "x",
         "y": [
          3668.29
         ],
         "yaxis": "y"
        },
        {
         "alignmentgroup": "True",
         "hovertemplate": "product_name=True Religion Men's Ricky Spt Straight Jean<br>Month=%{x}<br>Profit=%{y}<extra></extra>",
         "legendgroup": "True Religion Men's Ricky Spt Straight Jean",
         "marker": {
          "color": "#FF6692",
          "pattern": {
           "shape": ""
          }
         },
         "name": "True Religion Men's Ricky Spt Straight Jean",
         "offsetgroup": "True Religion Men's Ricky Spt Straight Jean",
         "orientation": "v",
         "showlegend": true,
         "textposition": "auto",
         "type": "bar",
         "x": [
          "2020-10-01"
         ],
         "xaxis": "x",
         "y": [
          3389.37
         ],
         "yaxis": "y"
        },
        {
         "alignmentgroup": "True",
         "hovertemplate": "product_name=The North Face Nuptse 2 Jacket Deep Water Blue Mens<br>Month=%{x}<br>Profit=%{y}<extra></extra>",
         "legendgroup": "The North Face Nuptse 2 Jacket Deep Water Blue Mens",
         "marker": {
          "color": "#B6E880",
          "pattern": {
           "shape": ""
          }
         },
         "name": "The North Face Nuptse 2 Jacket Deep Water Blue Mens",
         "offsetgroup": "The North Face Nuptse 2 Jacket Deep Water Blue Mens",
         "orientation": "v",
         "showlegend": true,
         "textposition": "auto",
         "type": "bar",
         "x": [
          "2020-11-01",
          "2021-05-01"
         ],
         "xaxis": "x",
         "y": [
          14993.41,
          14993.41
         ],
         "yaxis": "y"
        },
        {
         "alignmentgroup": "True",
         "hovertemplate": "product_name=Pearl Izumi Men's Pro Softshell Jacket<br>Month=%{x}<br>Profit=%{y}<extra></extra>",
         "legendgroup": "Pearl Izumi Men's Pro Softshell Jacket",
         "marker": {
          "color": "#FF97FF",
          "pattern": {
           "shape": ""
          }
         },
         "name": "Pearl Izumi Men's Pro Softshell Jacket",
         "offsetgroup": "Pearl Izumi Men's Pro Softshell Jacket",
         "orientation": "v",
         "showlegend": true,
         "textposition": "auto",
         "type": "bar",
         "x": [
          "2020-12-01"
         ],
         "xaxis": "x",
         "y": [
          5038.31
         ],
         "yaxis": "y"
        },
        {
         "alignmentgroup": "True",
         "hovertemplate": "product_name=Icebreaker Men's Legacy Coat<br>Month=%{x}<br>Profit=%{y}<extra></extra>",
         "legendgroup": "Icebreaker Men's Legacy Coat",
         "marker": {
          "color": "#FECB52",
          "pattern": {
           "shape": ""
          }
         },
         "name": "Icebreaker Men's Legacy Coat",
         "offsetgroup": "Icebreaker Men's Legacy Coat",
         "orientation": "v",
         "showlegend": true,
         "textposition": "auto",
         "type": "bar",
         "x": [
          "2020-12-01"
         ],
         "xaxis": "x",
         "y": [
          4830
         ],
         "yaxis": "y"
        },
        {
         "alignmentgroup": "True",
         "hovertemplate": "product_name=Trina Turk Women's Henrietta Blazer<br>Month=%{x}<br>Profit=%{y}<extra></extra>",
         "legendgroup": "Trina Turk Women's Henrietta Blazer",
         "marker": {
          "color": "#636efa",
          "pattern": {
           "shape": ""
          }
         },
         "name": "Trina Turk Women's Henrietta Blazer",
         "offsetgroup": "Trina Turk Women's Henrietta Blazer",
         "orientation": "v",
         "showlegend": true,
         "textposition": "auto",
         "type": "bar",
         "x": [
          "2020-12-01",
          "2021-05-01"
         ],
         "xaxis": "x",
         "y": [
          4529.08,
          4529.08
         ],
         "yaxis": "y"
        },
        {
         "alignmentgroup": "True",
         "hovertemplate": "product_name=Salomon Women's Exposure II Jacket<br>Month=%{x}<br>Profit=%{y}<extra></extra>",
         "legendgroup": "Salomon Women's Exposure II Jacket",
         "marker": {
          "color": "#EF553B",
          "pattern": {
           "shape": ""
          }
         },
         "name": "Salomon Women's Exposure II Jacket",
         "offsetgroup": "Salomon Women's Exposure II Jacket",
         "orientation": "v",
         "showlegend": true,
         "textposition": "auto",
         "type": "bar",
         "x": [
          "2020-12-01",
          "2021-08-01"
         ],
         "xaxis": "x",
         "y": [
          4374,
          8748
         ],
         "yaxis": "y"
        },
        {
         "alignmentgroup": "True",
         "hovertemplate": "product_name=Mountain Hardwear Men's Chillwave Down Parka<br>Month=%{x}<br>Profit=%{y}<extra></extra>",
         "legendgroup": "Mountain Hardwear Men's Chillwave Down Parka",
         "marker": {
          "color": "#00cc96",
          "pattern": {
           "shape": ""
          }
         },
         "name": "Mountain Hardwear Men's Chillwave Down Parka",
         "offsetgroup": "Mountain Hardwear Men's Chillwave Down Parka",
         "orientation": "v",
         "showlegend": true,
         "textposition": "auto",
         "type": "bar",
         "x": [
          "2020-12-01"
         ],
         "xaxis": "x",
         "y": [
          3570.75
         ],
         "yaxis": "y"
        },
        {
         "alignmentgroup": "True",
         "hovertemplate": "product_name=HALSTON HERITAGE Women's Sleeveless V-Neck Faille Dress<br>Month=%{x}<br>Profit=%{y}<extra></extra>",
         "legendgroup": "HALSTON HERITAGE Women's Sleeveless V-Neck Faille Dress",
         "marker": {
          "color": "#ab63fa",
          "pattern": {
           "shape": ""
          }
         },
         "name": "HALSTON HERITAGE Women's Sleeveless V-Neck Faille Dress",
         "offsetgroup": "HALSTON HERITAGE Women's Sleeveless V-Neck Faille Dress",
         "orientation": "v",
         "showlegend": true,
         "textposition": "auto",
         "type": "bar",
         "x": [
          "2021-01-01"
         ],
         "xaxis": "x",
         "y": [
          4527.27
         ],
         "yaxis": "y"
        },
        {
         "alignmentgroup": "True",
         "hovertemplate": "product_name=Vivienne Westwood Red Label Women's Giacca Plaid Jacket<br>Month=%{x}<br>Profit=%{y}<extra></extra>",
         "legendgroup": "Vivienne Westwood Red Label Women's Giacca Plaid Jacket",
         "marker": {
          "color": "#FFA15A",
          "pattern": {
           "shape": ""
          }
         },
         "name": "Vivienne Westwood Red Label Women's Giacca Plaid Jacket",
         "offsetgroup": "Vivienne Westwood Red Label Women's Giacca Plaid Jacket",
         "orientation": "v",
         "showlegend": true,
         "textposition": "auto",
         "type": "bar",
         "x": [
          "2021-01-01"
         ],
         "xaxis": "x",
         "y": [
          4129.77
         ],
         "yaxis": "y"
        },
        {
         "alignmentgroup": "True",
         "hovertemplate": "product_name=Ralph Lauren Mens SB 2B Solid Navy Blue Wool Suit<br>Month=%{x}<br>Profit=%{y}<extra></extra>",
         "legendgroup": "Ralph Lauren Mens SB 2B Solid Navy Blue Wool Suit",
         "marker": {
          "color": "#19d3f3",
          "pattern": {
           "shape": ""
          }
         },
         "name": "Ralph Lauren Mens SB 2B Solid Navy Blue Wool Suit",
         "offsetgroup": "Ralph Lauren Mens SB 2B Solid Navy Blue Wool Suit",
         "orientation": "v",
         "showlegend": true,
         "textposition": "auto",
         "type": "bar",
         "x": [
          "2021-01-01"
         ],
         "xaxis": "x",
         "y": [
          4119.23
         ],
         "yaxis": "y"
        },
        {
         "alignmentgroup": "True",
         "hovertemplate": "product_name=Kenneth Cole New York Men's 2 Piece Suit<br>Month=%{x}<br>Profit=%{y}<extra></extra>",
         "legendgroup": "Kenneth Cole New York Men's 2 Piece Suit",
         "marker": {
          "color": "#FF6692",
          "pattern": {
           "shape": ""
          }
         },
         "name": "Kenneth Cole New York Men's 2 Piece Suit",
         "offsetgroup": "Kenneth Cole New York Men's 2 Piece Suit",
         "orientation": "v",
         "showlegend": true,
         "textposition": "auto",
         "type": "bar",
         "x": [
          "2021-02-01"
         ],
         "xaxis": "x",
         "y": [
          10108.54
         ],
         "yaxis": "y"
        },
        {
         "alignmentgroup": "True",
         "hovertemplate": "product_name=Woolrich Men's Rescue Jacket<br>Month=%{x}<br>Profit=%{y}<extra></extra>",
         "legendgroup": "Woolrich Men's Rescue Jacket",
         "marker": {
          "color": "#B6E880",
          "pattern": {
           "shape": ""
          }
         },
         "name": "Woolrich Men's Rescue Jacket",
         "offsetgroup": "Woolrich Men's Rescue Jacket",
         "orientation": "v",
         "showlegend": true,
         "textposition": "auto",
         "type": "bar",
         "x": [
          "2021-02-01"
         ],
         "xaxis": "x",
         "y": [
          5296.49
         ],
         "yaxis": "y"
        },
        {
         "alignmentgroup": "True",
         "hovertemplate": "product_name=Ray-Ban Meteor Wayfarer Sunglasses<br>Month=%{x}<br>Profit=%{y}<extra></extra>",
         "legendgroup": "Ray-Ban Meteor Wayfarer Sunglasses",
         "marker": {
          "color": "#FF97FF",
          "pattern": {
           "shape": ""
          }
         },
         "name": "Ray-Ban Meteor Wayfarer Sunglasses",
         "offsetgroup": "Ray-Ban Meteor Wayfarer Sunglasses",
         "orientation": "v",
         "showlegend": true,
         "textposition": "auto",
         "type": "bar",
         "x": [
          "2021-02-01"
         ],
         "xaxis": "x",
         "y": [
          4864.32
         ],
         "yaxis": "y"
        },
        {
         "alignmentgroup": "True",
         "hovertemplate": "product_name=BCBGMAXAZRIA Women's Vallissa Geometric Sequin Shift Dress<br>Month=%{x}<br>Profit=%{y}<extra></extra>",
         "legendgroup": "BCBGMAXAZRIA Women's Vallissa Geometric Sequin Shift Dress",
         "marker": {
          "color": "#FECB52",
          "pattern": {
           "shape": ""
          }
         },
         "name": "BCBGMAXAZRIA Women's Vallissa Geometric Sequin Shift Dress",
         "offsetgroup": "BCBGMAXAZRIA Women's Vallissa Geometric Sequin Shift Dress",
         "orientation": "v",
         "showlegend": true,
         "textposition": "auto",
         "type": "bar",
         "x": [
          "2021-02-01"
         ],
         "xaxis": "x",
         "y": [
          4842.56
         ],
         "yaxis": "y"
        },
        {
         "alignmentgroup": "True",
         "hovertemplate": "product_name=Mens Brown Sheepskin Flying Jacket 'Air force' Aviator Leather coat #S5<br>Month=%{x}<br>Profit=%{y}<extra></extra>",
         "legendgroup": "Mens Brown Sheepskin Flying Jacket 'Air force' Aviator Leather coat #S5",
         "marker": {
          "color": "#636efa",
          "pattern": {
           "shape": ""
          }
         },
         "name": "Mens Brown Sheepskin Flying Jacket 'Air force' Aviator Leather coat #S5",
         "offsetgroup": "Mens Brown Sheepskin Flying Jacket 'Air force' Aviator Leather coat #S5",
         "orientation": "v",
         "showlegend": true,
         "textposition": "auto",
         "type": "bar",
         "x": [
          "2021-03-01"
         ],
         "xaxis": "x",
         "y": [
          6680.55
         ],
         "yaxis": "y"
        },
        {
         "alignmentgroup": "True",
         "hovertemplate": "product_name=Oakley Men's Plaintiff Aviator Polarized Sunglasses<br>Month=%{x}<br>Profit=%{y}<extra></extra>",
         "legendgroup": "Oakley Men's Plaintiff Aviator Polarized Sunglasses",
         "marker": {
          "color": "#EF553B",
          "pattern": {
           "shape": ""
          }
         },
         "name": "Oakley Men's Plaintiff Aviator Polarized Sunglasses",
         "offsetgroup": "Oakley Men's Plaintiff Aviator Polarized Sunglasses",
         "orientation": "v",
         "showlegend": true,
         "textposition": "auto",
         "type": "bar",
         "x": [
          "2021-03-01"
         ],
         "xaxis": "x",
         "y": [
          4202.8
         ],
         "yaxis": "y"
        },
        {
         "alignmentgroup": "True",
         "hovertemplate": "product_name=G. Fiorelli 3 Button Men Suit Solid Dark Navy Super 150's Premium Quality Textile<br>Month=%{x}<br>Profit=%{y}<extra></extra>",
         "legendgroup": "G. Fiorelli 3 Button Men Suit Solid Dark Navy Super 150's Premium Quality Textile",
         "marker": {
          "color": "#00cc96",
          "pattern": {
           "shape": ""
          }
         },
         "name": "G. Fiorelli 3 Button Men Suit Solid Dark Navy Super 150's Premium Quality Textile",
         "offsetgroup": "G. Fiorelli 3 Button Men Suit Solid Dark Navy Super 150's Premium Quality Textile",
         "orientation": "v",
         "showlegend": true,
         "textposition": "auto",
         "type": "bar",
         "x": [
          "2021-03-01"
         ],
         "xaxis": "x",
         "y": [
          3469.7
         ],
         "yaxis": "y"
        },
        {
         "alignmentgroup": "True",
         "hovertemplate": "product_name=Tommy Hilfiger Men's Windowpane Trim Fit Suit<br>Month=%{x}<br>Profit=%{y}<extra></extra>",
         "legendgroup": "Tommy Hilfiger Men's Windowpane Trim Fit Suit",
         "marker": {
          "color": "#ab63fa",
          "pattern": {
           "shape": ""
          }
         },
         "name": "Tommy Hilfiger Men's Windowpane Trim Fit Suit",
         "offsetgroup": "Tommy Hilfiger Men's Windowpane Trim Fit Suit",
         "orientation": "v",
         "showlegend": true,
         "textposition": "auto",
         "type": "bar",
         "x": [
          "2021-03-01"
         ],
         "xaxis": "x",
         "y": [
          3281.33
         ],
         "yaxis": "y"
        },
        {
         "alignmentgroup": "True",
         "hovertemplate": "product_name=Paul Fredrick Trim Fit Twill Weave Two-Button Suit Jacket<br>Month=%{x}<br>Profit=%{y}<extra></extra>",
         "legendgroup": "Paul Fredrick Trim Fit Twill Weave Two-Button Suit Jacket",
         "marker": {
          "color": "#FFA15A",
          "pattern": {
           "shape": ""
          }
         },
         "name": "Paul Fredrick Trim Fit Twill Weave Two-Button Suit Jacket",
         "offsetgroup": "Paul Fredrick Trim Fit Twill Weave Two-Button Suit Jacket",
         "orientation": "v",
         "showlegend": true,
         "textposition": "auto",
         "type": "bar",
         "x": [
          "2021-04-01"
         ],
         "xaxis": "x",
         "y": [
          5012.94
         ],
         "yaxis": "y"
        },
        {
         "alignmentgroup": "True",
         "hovertemplate": "product_name=Marc New York by Andrew Marc Men's Liam Smooth Lamb Car Coat with Bib<br>Month=%{x}<br>Profit=%{y}<extra></extra>",
         "legendgroup": "Marc New York by Andrew Marc Men's Liam Smooth Lamb Car Coat with Bib",
         "marker": {
          "color": "#19d3f3",
          "pattern": {
           "shape": ""
          }
         },
         "name": "Marc New York by Andrew Marc Men's Liam Smooth Lamb Car Coat with Bib",
         "offsetgroup": "Marc New York by Andrew Marc Men's Liam Smooth Lamb Car Coat with Bib",
         "orientation": "v",
         "showlegend": true,
         "textposition": "auto",
         "type": "bar",
         "x": [
          "2021-04-01",
          "2021-06-01"
         ],
         "xaxis": "x",
         "y": [
          3596.74,
          3596.74
         ],
         "yaxis": "y"
        },
        {
         "alignmentgroup": "True",
         "hovertemplate": "product_name=Vivienne Westwood Men's Pantalone Pant<br>Month=%{x}<br>Profit=%{y}<extra></extra>",
         "legendgroup": "Vivienne Westwood Men's Pantalone Pant",
         "marker": {
          "color": "#FF6692",
          "pattern": {
           "shape": ""
          }
         },
         "name": "Vivienne Westwood Men's Pantalone Pant",
         "offsetgroup": "Vivienne Westwood Men's Pantalone Pant",
         "orientation": "v",
         "showlegend": true,
         "textposition": "auto",
         "type": "bar",
         "x": [
          "2021-04-01"
         ],
         "xaxis": "x",
         "y": [
          3509.6
         ],
         "yaxis": "y"
        },
        {
         "alignmentgroup": "True",
         "hovertemplate": "product_name=True Religion Men's Ricky Straight Leg Jean<br>Month=%{x}<br>Profit=%{y}<extra></extra>",
         "legendgroup": "True Religion Men's Ricky Straight Leg Jean",
         "marker": {
          "color": "#B6E880",
          "pattern": {
           "shape": ""
          }
         },
         "name": "True Religion Men's Ricky Straight Leg Jean",
         "offsetgroup": "True Religion Men's Ricky Straight Leg Jean",
         "orientation": "v",
         "showlegend": true,
         "textposition": "auto",
         "type": "bar",
         "x": [
          "2021-04-01"
         ],
         "xaxis": "x",
         "y": [
          3278.37
         ],
         "yaxis": "y"
        },
        {
         "alignmentgroup": "True",
         "hovertemplate": "product_name=Darla<br>Month=%{x}<br>Profit=%{y}<extra></extra>",
         "legendgroup": "Darla",
         "marker": {
          "color": "#FF97FF",
          "pattern": {
           "shape": ""
          }
         },
         "name": "Darla",
         "offsetgroup": "Darla",
         "orientation": "v",
         "showlegend": true,
         "textposition": "auto",
         "type": "bar",
         "x": [
          "2021-05-01"
         ],
         "xaxis": "x",
         "y": [
          8321.67
         ],
         "yaxis": "y"
        },
        {
         "alignmentgroup": "True",
         "hovertemplate": "product_name=Diesel Men's K-Nahoa Sweater<br>Month=%{x}<br>Profit=%{y}<extra></extra>",
         "legendgroup": "Diesel Men's K-Nahoa Sweater",
         "marker": {
          "color": "#FECB52",
          "pattern": {
           "shape": ""
          }
         },
         "name": "Diesel Men's K-Nahoa Sweater",
         "offsetgroup": "Diesel Men's K-Nahoa Sweater",
         "orientation": "v",
         "showlegend": true,
         "textposition": "auto",
         "type": "bar",
         "x": [
          "2021-05-01"
         ],
         "xaxis": "x",
         "y": [
          5195.52
         ],
         "yaxis": "y"
        },
        {
         "alignmentgroup": "True",
         "hovertemplate": "product_name=Oakley Men's Radar Path Iridium Polarized Sunglasses<br>Month=%{x}<br>Profit=%{y}<extra></extra>",
         "legendgroup": "Oakley Men's Radar Path Iridium Polarized Sunglasses",
         "marker": {
          "color": "#636efa",
          "pattern": {
           "shape": ""
          }
         },
         "name": "Oakley Men's Radar Path Iridium Polarized Sunglasses",
         "offsetgroup": "Oakley Men's Radar Path Iridium Polarized Sunglasses",
         "orientation": "v",
         "showlegend": true,
         "textposition": "auto",
         "type": "bar",
         "x": [
          "2021-05-01"
         ],
         "xaxis": "x",
         "y": [
          5036.46
         ],
         "yaxis": "y"
        },
        {
         "alignmentgroup": "True",
         "hovertemplate": "product_name=Nobis Yatesy Parka<br>Month=%{x}<br>Profit=%{y}<extra></extra>",
         "legendgroup": "Nobis Yatesy Parka",
         "marker": {
          "color": "#EF553B",
          "pattern": {
           "shape": ""
          }
         },
         "name": "Nobis Yatesy Parka",
         "offsetgroup": "Nobis Yatesy Parka",
         "orientation": "v",
         "showlegend": true,
         "textposition": "auto",
         "type": "bar",
         "x": [
          "2021-06-01"
         ],
         "xaxis": "x",
         "y": [
          10225.8
         ],
         "yaxis": "y"
        },
        {
         "alignmentgroup": "True",
         "hovertemplate": "product_name=Joseph Abboud Men's Super 120's Two Button Side Vent Single Pleat Pant Tuxedo With Grosgrain Notch Lapel<br>Month=%{x}<br>Profit=%{y}<extra></extra>",
         "legendgroup": "Joseph Abboud Men's Super 120's Two Button Side Vent Single Pleat Pant Tuxedo With Grosgrain Notch Lapel",
         "marker": {
          "color": "#00cc96",
          "pattern": {
           "shape": ""
          }
         },
         "name": "Joseph Abboud Men's Super 120's Two Button Side Vent Single Pleat Pant Tuxedo With Grosgrain Notch Lapel",
         "offsetgroup": "Joseph Abboud Men's Super 120's Two Button Side Vent Single Pleat Pant Tuxedo With Grosgrain Notch Lapel",
         "orientation": "v",
         "showlegend": true,
         "textposition": "auto",
         "type": "bar",
         "x": [
          "2021-06-01",
          "2021-12-01"
         ],
         "xaxis": "x",
         "y": [
          6764.6,
          6764.6
         ],
         "yaxis": "y"
        },
        {
         "alignmentgroup": "True",
         "hovertemplate": "product_name=AG Adriano Goldschmied Women's City Short<br>Month=%{x}<br>Profit=%{y}<extra></extra>",
         "legendgroup": "AG Adriano Goldschmied Women's City Short",
         "marker": {
          "color": "#ab63fa",
          "pattern": {
           "shape": ""
          }
         },
         "name": "AG Adriano Goldschmied Women's City Short",
         "offsetgroup": "AG Adriano Goldschmied Women's City Short",
         "orientation": "v",
         "showlegend": true,
         "textposition": "auto",
         "type": "bar",
         "x": [
          "2021-06-01"
         ],
         "xaxis": "x",
         "y": [
          4409.22
         ],
         "yaxis": "y"
        },
        {
         "alignmentgroup": "True",
         "hovertemplate": "product_name=Diesel Men's Thavar Skinny Straight Jean<br>Month=%{x}<br>Profit=%{y}<extra></extra>",
         "legendgroup": "Diesel Men's Thavar Skinny Straight Jean",
         "marker": {
          "color": "#FFA15A",
          "pattern": {
           "shape": ""
          }
         },
         "name": "Diesel Men's Thavar Skinny Straight Jean",
         "offsetgroup": "Diesel Men's Thavar Skinny Straight Jean",
         "orientation": "v",
         "showlegend": true,
         "textposition": "auto",
         "type": "bar",
         "x": [
          "2021-06-01"
         ],
         "xaxis": "x",
         "y": [
          4338.75
         ],
         "yaxis": "y"
        },
        {
         "alignmentgroup": "True",
         "hovertemplate": "product_name=ASCIS Cushion Low Socks (Pack of 3)<br>Month=%{x}<br>Profit=%{y}<extra></extra>",
         "legendgroup": "ASCIS Cushion Low Socks (Pack of 3)",
         "marker": {
          "color": "#19d3f3",
          "pattern": {
           "shape": ""
          }
         },
         "name": "ASCIS Cushion Low Socks (Pack of 3)",
         "offsetgroup": "ASCIS Cushion Low Socks (Pack of 3)",
         "orientation": "v",
         "showlegend": true,
         "textposition": "auto",
         "type": "bar",
         "x": [
          "2021-07-01",
          "2022-04-01"
         ],
         "xaxis": "x",
         "y": [
          5291.58,
          5291.58
         ],
         "yaxis": "y"
        },
        {
         "alignmentgroup": "True",
         "hovertemplate": "product_name=Hart Schaffner Marx Men's Burnett Double Breasted Military Trench Coat<br>Month=%{x}<br>Profit=%{y}<extra></extra>",
         "legendgroup": "Hart Schaffner Marx Men's Burnett Double Breasted Military Trench Coat",
         "marker": {
          "color": "#FF6692",
          "pattern": {
           "shape": ""
          }
         },
         "name": "Hart Schaffner Marx Men's Burnett Double Breasted Military Trench Coat",
         "offsetgroup": "Hart Schaffner Marx Men's Burnett Double Breasted Military Trench Coat",
         "orientation": "v",
         "showlegend": true,
         "textposition": "auto",
         "type": "bar",
         "x": [
          "2021-07-01"
         ],
         "xaxis": "x",
         "y": [
          5253.6
         ],
         "yaxis": "y"
        },
        {
         "alignmentgroup": "True",
         "hovertemplate": "product_name=7 Diamonds Men's Treviso<br>Month=%{x}<br>Profit=%{y}<extra></extra>",
         "legendgroup": "7 Diamonds Men's Treviso",
         "marker": {
          "color": "#B6E880",
          "pattern": {
           "shape": ""
          }
         },
         "name": "7 Diamonds Men's Treviso",
         "offsetgroup": "7 Diamonds Men's Treviso",
         "orientation": "v",
         "showlegend": true,
         "textposition": "auto",
         "type": "bar",
         "x": [
          "2021-07-01"
         ],
         "xaxis": "x",
         "y": [
          4541.88
         ],
         "yaxis": "y"
        },
        {
         "alignmentgroup": "True",
         "hovertemplate": "product_name=Scotch & Soda Men's Tuxedo Blazer<br>Month=%{x}<br>Profit=%{y}<extra></extra>",
         "legendgroup": "Scotch & Soda Men's Tuxedo Blazer",
         "marker": {
          "color": "#FF97FF",
          "pattern": {
           "shape": ""
          }
         },
         "name": "Scotch & Soda Men's Tuxedo Blazer",
         "offsetgroup": "Scotch & Soda Men's Tuxedo Blazer",
         "orientation": "v",
         "showlegend": true,
         "textposition": "auto",
         "type": "bar",
         "x": [
          "2021-07-01"
         ],
         "xaxis": "x",
         "y": [
          4354.56
         ],
         "yaxis": "y"
        },
        {
         "alignmentgroup": "True",
         "hovertemplate": "product_name=The North Face Apex Bionic Jacket - Men's<br>Month=%{x}<br>Profit=%{y}<extra></extra>",
         "legendgroup": "The North Face Apex Bionic Jacket - Men's",
         "marker": {
          "color": "#FECB52",
          "pattern": {
           "shape": ""
          }
         },
         "name": "The North Face Apex Bionic Jacket - Men's",
         "offsetgroup": "The North Face Apex Bionic Jacket - Men's",
         "orientation": "v",
         "showlegend": true,
         "textposition": "auto",
         "type": "bar",
         "x": [
          "2021-08-01"
         ],
         "xaxis": "x",
         "y": [
          14612.35
         ],
         "yaxis": "y"
        },
        {
         "alignmentgroup": "True",
         "hovertemplate": "product_name=The North Face Apex Bionic Soft Shell Jacket - Men's<br>Month=%{x}<br>Profit=%{y}<extra></extra>",
         "legendgroup": "The North Face Apex Bionic Soft Shell Jacket - Men's",
         "marker": {
          "color": "#636efa",
          "pattern": {
           "shape": ""
          }
         },
         "name": "The North Face Apex Bionic Soft Shell Jacket - Men's",
         "offsetgroup": "The North Face Apex Bionic Soft Shell Jacket - Men's",
         "orientation": "v",
         "showlegend": true,
         "textposition": "auto",
         "type": "bar",
         "x": [
          "2021-08-01"
         ],
         "xaxis": "x",
         "y": [
          9837.28
         ],
         "yaxis": "y"
        },
        {
         "alignmentgroup": "True",
         "hovertemplate": "product_name=AIR JORDAN DOMINATE SHORTS MENS 465071-100<br>Month=%{x}<br>Profit=%{y}<extra></extra>",
         "legendgroup": "AIR JORDAN DOMINATE SHORTS MENS 465071-100",
         "marker": {
          "color": "#EF553B",
          "pattern": {
           "shape": ""
          }
         },
         "name": "AIR JORDAN DOMINATE SHORTS MENS 465071-100",
         "offsetgroup": "AIR JORDAN DOMINATE SHORTS MENS 465071-100",
         "orientation": "v",
         "showlegend": true,
         "textposition": "auto",
         "type": "bar",
         "x": [
          "2021-08-01"
         ],
         "xaxis": "x",
         "y": [
          7180.66
         ],
         "yaxis": "y"
        },
        {
         "alignmentgroup": "True",
         "hovertemplate": "product_name=Derek Rose Men's Flannel Classic Pajama Set<br>Month=%{x}<br>Profit=%{y}<extra></extra>",
         "legendgroup": "Derek Rose Men's Flannel Classic Pajama Set",
         "marker": {
          "color": "#00cc96",
          "pattern": {
           "shape": ""
          }
         },
         "name": "Derek Rose Men's Flannel Classic Pajama Set",
         "offsetgroup": "Derek Rose Men's Flannel Classic Pajama Set",
         "orientation": "v",
         "showlegend": true,
         "textposition": "auto",
         "type": "bar",
         "x": [
          "2021-08-01"
         ],
         "xaxis": "x",
         "y": [
          4500
         ],
         "yaxis": "y"
        },
        {
         "alignmentgroup": "True",
         "hovertemplate": "product_name=NIKE WOMEN'S PRO COMPRESSION SPORTS BRA *Outstanding Support and Comfort*<br>Month=%{x}<br>Profit=%{y}<extra></extra>",
         "legendgroup": "NIKE WOMEN'S PRO COMPRESSION SPORTS BRA *Outstanding Support and Comfort*",
         "marker": {
          "color": "#ab63fa",
          "pattern": {
           "shape": ""
          }
         },
         "name": "NIKE WOMEN'S PRO COMPRESSION SPORTS BRA *Outstanding Support and Comfort*",
         "offsetgroup": "NIKE WOMEN'S PRO COMPRESSION SPORTS BRA *Outstanding Support and Comfort*",
         "orientation": "v",
         "showlegend": true,
         "textposition": "auto",
         "type": "bar",
         "x": [
          "2021-09-01"
         ],
         "xaxis": "x",
         "y": [
          10608.44
         ],
         "yaxis": "y"
        },
        {
         "alignmentgroup": "True",
         "hovertemplate": "product_name=Men's Andrew Marc Nucky Lambskin Leather Bomber Jacket with Sheepskin Collar<br>Month=%{x}<br>Profit=%{y}<extra></extra>",
         "legendgroup": "Men's Andrew Marc Nucky Lambskin Leather Bomber Jacket with Sheepskin Collar",
         "marker": {
          "color": "#FFA15A",
          "pattern": {
           "shape": ""
          }
         },
         "name": "Men's Andrew Marc Nucky Lambskin Leather Bomber Jacket with Sheepskin Collar",
         "offsetgroup": "Men's Andrew Marc Nucky Lambskin Leather Bomber Jacket with Sheepskin Collar",
         "orientation": "v",
         "showlegend": true,
         "textposition": "auto",
         "type": "bar",
         "x": [
          "2021-09-01"
         ],
         "xaxis": "x",
         "y": [
          8190.9
         ],
         "yaxis": "y"
        },
        {
         "alignmentgroup": "True",
         "hovertemplate": "product_name=Rebecca Minkoff Women's Leather Luciana Skirt<br>Month=%{x}<br>Profit=%{y}<extra></extra>",
         "legendgroup": "Rebecca Minkoff Women's Leather Luciana Skirt",
         "marker": {
          "color": "#19d3f3",
          "pattern": {
           "shape": ""
          }
         },
         "name": "Rebecca Minkoff Women's Leather Luciana Skirt",
         "offsetgroup": "Rebecca Minkoff Women's Leather Luciana Skirt",
         "orientation": "v",
         "showlegend": true,
         "textposition": "auto",
         "type": "bar",
         "x": [
          "2021-09-01",
          "2022-04-01"
         ],
         "xaxis": "x",
         "y": [
          6960.72,
          6960.72
         ],
         "yaxis": "y"
        },
        {
         "alignmentgroup": "True",
         "hovertemplate": "product_name=Alpha Industries A-2 Leather Jacket<br>Month=%{x}<br>Profit=%{y}<extra></extra>",
         "legendgroup": "Alpha Industries A-2 Leather Jacket",
         "marker": {
          "color": "#FF6692",
          "pattern": {
           "shape": ""
          }
         },
         "name": "Alpha Industries A-2 Leather Jacket",
         "offsetgroup": "Alpha Industries A-2 Leather Jacket",
         "orientation": "v",
         "showlegend": true,
         "textposition": "auto",
         "type": "bar",
         "x": [
          "2021-10-01",
          "2022-01-01"
         ],
         "xaxis": "x",
         "y": [
          7616,
          7616
         ],
         "yaxis": "y"
        },
        {
         "alignmentgroup": "True",
         "hovertemplate": "product_name=BALLIN Men's Super 120's Gaberdine Dunhill Pant<br>Month=%{x}<br>Profit=%{y}<extra></extra>",
         "legendgroup": "BALLIN Men's Super 120's Gaberdine Dunhill Pant",
         "marker": {
          "color": "#B6E880",
          "pattern": {
           "shape": ""
          }
         },
         "name": "BALLIN Men's Super 120's Gaberdine Dunhill Pant",
         "offsetgroup": "BALLIN Men's Super 120's Gaberdine Dunhill Pant",
         "orientation": "v",
         "showlegend": true,
         "textposition": "auto",
         "type": "bar",
         "x": [
          "2021-10-01"
         ],
         "xaxis": "x",
         "y": [
          5907.3
         ],
         "yaxis": "y"
        },
        {
         "alignmentgroup": "True",
         "hovertemplate": "product_name=Tommy Hilfiger Men's Tattersal Trim Fit Suit<br>Month=%{x}<br>Profit=%{y}<extra></extra>",
         "legendgroup": "Tommy Hilfiger Men's Tattersal Trim Fit Suit",
         "marker": {
          "color": "#FF97FF",
          "pattern": {
           "shape": ""
          }
         },
         "name": "Tommy Hilfiger Men's Tattersal Trim Fit Suit",
         "offsetgroup": "Tommy Hilfiger Men's Tattersal Trim Fit Suit",
         "orientation": "v",
         "showlegend": true,
         "textposition": "auto",
         "type": "bar",
         "x": [
          "2021-10-01"
         ],
         "xaxis": "x",
         "y": [
          4463.51
         ],
         "yaxis": "y"
        },
        {
         "alignmentgroup": "True",
         "hovertemplate": "product_name=Faconnable Men's Waffle Pique Polo<br>Month=%{x}<br>Profit=%{y}<extra></extra>",
         "legendgroup": "Faconnable Men's Waffle Pique Polo",
         "marker": {
          "color": "#FECB52",
          "pattern": {
           "shape": ""
          }
         },
         "name": "Faconnable Men's Waffle Pique Polo",
         "offsetgroup": "Faconnable Men's Waffle Pique Polo",
         "orientation": "v",
         "showlegend": true,
         "textposition": "auto",
         "type": "bar",
         "x": [
          "2021-10-01"
         ],
         "xaxis": "x",
         "y": [
          3802.5
         ],
         "yaxis": "y"
        },
        {
         "alignmentgroup": "True",
         "hovertemplate": "product_name=True Religion Billy Super T Jean<br>Month=%{x}<br>Profit=%{y}<extra></extra>",
         "legendgroup": "True Religion Billy Super T Jean",
         "marker": {
          "color": "#636efa",
          "pattern": {
           "shape": ""
          }
         },
         "name": "True Religion Billy Super T Jean",
         "offsetgroup": "True Religion Billy Super T Jean",
         "orientation": "v",
         "showlegend": true,
         "textposition": "auto",
         "type": "bar",
         "x": [
          "2021-10-01"
         ],
         "xaxis": "x",
         "y": [
          3788.77
         ],
         "yaxis": "y"
        },
        {
         "alignmentgroup": "True",
         "hovertemplate": "product_name=Arc'teryx Women's Stingray Jacket<br>Month=%{x}<br>Profit=%{y}<extra></extra>",
         "legendgroup": "Arc'teryx Women's Stingray Jacket",
         "marker": {
          "color": "#EF553B",
          "pattern": {
           "shape": ""
          }
         },
         "name": "Arc'teryx Women's Stingray Jacket",
         "offsetgroup": "Arc'teryx Women's Stingray Jacket",
         "orientation": "v",
         "showlegend": true,
         "textposition": "auto",
         "type": "bar",
         "x": [
          "2021-11-01"
         ],
         "xaxis": "x",
         "y": [
          8924.12
         ],
         "yaxis": "y"
        },
        {
         "alignmentgroup": "True",
         "hovertemplate": "product_name=Hanro Men's City Pajama Set<br>Month=%{x}<br>Profit=%{y}<extra></extra>",
         "legendgroup": "Hanro Men's City Pajama Set",
         "marker": {
          "color": "#00cc96",
          "pattern": {
           "shape": ""
          }
         },
         "name": "Hanro Men's City Pajama Set",
         "offsetgroup": "Hanro Men's City Pajama Set",
         "orientation": "v",
         "showlegend": true,
         "textposition": "auto",
         "type": "bar",
         "x": [
          "2021-11-01"
         ],
         "xaxis": "x",
         "y": [
          5324.04
         ],
         "yaxis": "y"
        },
        {
         "alignmentgroup": "True",
         "hovertemplate": "product_name=HALSTON HERITAGE Women's Oversized Double Faced Coat<br>Month=%{x}<br>Profit=%{y}<extra></extra>",
         "legendgroup": "HALSTON HERITAGE Women's Oversized Double Faced Coat",
         "marker": {
          "color": "#ab63fa",
          "pattern": {
           "shape": ""
          }
         },
         "name": "HALSTON HERITAGE Women's Oversized Double Faced Coat",
         "offsetgroup": "HALSTON HERITAGE Women's Oversized Double Faced Coat",
         "orientation": "v",
         "showlegend": true,
         "textposition": "auto",
         "type": "bar",
         "x": [
          "2021-11-01"
         ],
         "xaxis": "x",
         "y": [
          3935.12
         ],
         "yaxis": "y"
        },
        {
         "alignmentgroup": "True",
         "hovertemplate": "product_name=Paul Fredrick Performance 100% Wrinkle \\ Stain Resistant Wool Suit<br>Month=%{x}<br>Profit=%{y}<extra></extra>",
         "legendgroup": "Paul Fredrick Performance 100% Wrinkle \\ Stain Resistant Wool Suit",
         "marker": {
          "color": "#FFA15A",
          "pattern": {
           "shape": ""
          }
         },
         "name": "Paul Fredrick Performance 100% Wrinkle \\ Stain Resistant Wool Suit",
         "offsetgroup": "Paul Fredrick Performance 100% Wrinkle \\ Stain Resistant Wool Suit",
         "orientation": "v",
         "showlegend": true,
         "textposition": "auto",
         "type": "bar",
         "x": [
          "2021-11-01"
         ],
         "xaxis": "x",
         "y": [
          3903.28
         ],
         "yaxis": "y"
        },
        {
         "alignmentgroup": "True",
         "hovertemplate": "product_name=Men's Moncler Down Vest Tib<br>Month=%{x}<br>Profit=%{y}<extra></extra>",
         "legendgroup": "Men's Moncler Down Vest Tib",
         "marker": {
          "color": "#19d3f3",
          "pattern": {
           "shape": ""
          }
         },
         "name": "Men's Moncler Down Vest Tib",
         "offsetgroup": "Men's Moncler Down Vest Tib",
         "orientation": "v",
         "showlegend": true,
         "textposition": "auto",
         "type": "bar",
         "x": [
          "2021-12-01"
         ],
         "xaxis": "x",
         "y": [
          9043.65
         ],
         "yaxis": "y"
        },
        {
         "alignmentgroup": "True",
         "hovertemplate": "product_name=The North Face Freedom Mens Ski Pants 2013<br>Month=%{x}<br>Profit=%{y}<extra></extra>",
         "legendgroup": "The North Face Freedom Mens Ski Pants 2013",
         "marker": {
          "color": "#FF6692",
          "pattern": {
           "shape": ""
          }
         },
         "name": "The North Face Freedom Mens Ski Pants 2013",
         "offsetgroup": "The North Face Freedom Mens Ski Pants 2013",
         "orientation": "v",
         "showlegend": true,
         "textposition": "auto",
         "type": "bar",
         "x": [
          "2021-12-01",
          "2022-02-01"
         ],
         "xaxis": "x",
         "y": [
          8538.77,
          8538.77
         ],
         "yaxis": "y"
        },
        {
         "alignmentgroup": "True",
         "hovertemplate": "product_name=Joseph Abboud Men's 2 Button Side Vent Soft Construction Check Sport Coat<br>Month=%{x}<br>Profit=%{y}<extra></extra>",
         "legendgroup": "Joseph Abboud Men's 2 Button Side Vent Soft Construction Check Sport Coat",
         "marker": {
          "color": "#B6E880",
          "pattern": {
           "shape": ""
          }
         },
         "name": "Joseph Abboud Men's 2 Button Side Vent Soft Construction Check Sport Coat",
         "offsetgroup": "Joseph Abboud Men's 2 Button Side Vent Soft Construction Check Sport Coat",
         "orientation": "v",
         "showlegend": true,
         "textposition": "auto",
         "type": "bar",
         "x": [
          "2021-12-01"
         ],
         "xaxis": "x",
         "y": [
          7609.73
         ],
         "yaxis": "y"
        },
        {
         "alignmentgroup": "True",
         "hovertemplate": "product_name=7 For All Mankind Men's Standard Classic Straight Leg Jean<br>Month=%{x}<br>Profit=%{y}<extra></extra>",
         "legendgroup": "7 For All Mankind Men's Standard Classic Straight Leg Jean",
         "marker": {
          "color": "#FF97FF",
          "pattern": {
           "shape": ""
          }
         },
         "name": "7 For All Mankind Men's Standard Classic Straight Leg Jean",
         "offsetgroup": "7 For All Mankind Men's Standard Classic Straight Leg Jean",
         "orientation": "v",
         "showlegend": true,
         "textposition": "auto",
         "type": "bar",
         "x": [
          "2022-01-01"
         ],
         "xaxis": "x",
         "y": [
          7802.24
         ],
         "yaxis": "y"
        },
        {
         "alignmentgroup": "True",
         "hovertemplate": "product_name=Canada Goose Men's The Chateau Jacket<br>Month=%{x}<br>Profit=%{y}<extra></extra>",
         "legendgroup": "Canada Goose Men's The Chateau Jacket",
         "marker": {
          "color": "#FECB52",
          "pattern": {
           "shape": ""
          }
         },
         "name": "Canada Goose Men's The Chateau Jacket",
         "offsetgroup": "Canada Goose Men's The Chateau Jacket",
         "orientation": "v",
         "showlegend": true,
         "textposition": "auto",
         "type": "bar",
         "x": [
          "2022-01-01"
         ],
         "xaxis": "x",
         "y": [
          7426.28
         ],
         "yaxis": "y"
        },
        {
         "alignmentgroup": "True",
         "hovertemplate": "product_name=Gottex Women's Andromeda Bandeau One Piece Swimsuit<br>Month=%{x}<br>Profit=%{y}<extra></extra>",
         "legendgroup": "Gottex Women's Andromeda Bandeau One Piece Swimsuit",
         "marker": {
          "color": "#636efa",
          "pattern": {
           "shape": ""
          }
         },
         "name": "Gottex Women's Andromeda Bandeau One Piece Swimsuit",
         "offsetgroup": "Gottex Women's Andromeda Bandeau One Piece Swimsuit",
         "orientation": "v",
         "showlegend": true,
         "textposition": "auto",
         "type": "bar",
         "x": [
          "2022-01-01"
         ],
         "xaxis": "x",
         "y": [
          7295.9
         ],
         "yaxis": "y"
        },
        {
         "alignmentgroup": "True",
         "hovertemplate": "product_name=Ben Sherman Men's Side Vent 2 Piece Suit<br>Month=%{x}<br>Profit=%{y}<extra></extra>",
         "legendgroup": "Ben Sherman Men's Side Vent 2 Piece Suit",
         "marker": {
          "color": "#EF553B",
          "pattern": {
           "shape": ""
          }
         },
         "name": "Ben Sherman Men's Side Vent 2 Piece Suit",
         "offsetgroup": "Ben Sherman Men's Side Vent 2 Piece Suit",
         "orientation": "v",
         "showlegend": true,
         "textposition": "auto",
         "type": "bar",
         "x": [
          "2022-02-01"
         ],
         "xaxis": "x",
         "y": [
          6855.75
         ],
         "yaxis": "y"
        },
        {
         "alignmentgroup": "True",
         "hovertemplate": "product_name=True Religion Men's Bobby Super Jean<br>Month=%{x}<br>Profit=%{y}<extra></extra>",
         "legendgroup": "True Religion Men's Bobby Super Jean",
         "marker": {
          "color": "#00cc96",
          "pattern": {
           "shape": ""
          }
         },
         "name": "True Religion Men's Bobby Super Jean",
         "offsetgroup": "True Religion Men's Bobby Super Jean",
         "orientation": "v",
         "showlegend": true,
         "textposition": "auto",
         "type": "bar",
         "x": [
          "2022-02-01"
         ],
         "xaxis": "x",
         "y": [
          6205.75
         ],
         "yaxis": "y"
        },
        {
         "alignmentgroup": "True",
         "hovertemplate": "product_name=Minnie Rose Women's 100% Cashmere Fringe Ruana<br>Month=%{x}<br>Profit=%{y}<extra></extra>",
         "legendgroup": "Minnie Rose Women's 100% Cashmere Fringe Ruana",
         "marker": {
          "color": "#ab63fa",
          "pattern": {
           "shape": ""
          }
         },
         "name": "Minnie Rose Women's 100% Cashmere Fringe Ruana",
         "offsetgroup": "Minnie Rose Women's 100% Cashmere Fringe Ruana",
         "orientation": "v",
         "showlegend": true,
         "textposition": "auto",
         "type": "bar",
         "x": [
          "2022-02-01"
         ],
         "xaxis": "x",
         "y": [
          5125.73
         ],
         "yaxis": "y"
        },
        {
         "alignmentgroup": "True",
         "hovertemplate": "product_name=Nobis Tula Parka<br>Month=%{x}<br>Profit=%{y}<extra></extra>",
         "legendgroup": "Nobis Tula Parka",
         "marker": {
          "color": "#FFA15A",
          "pattern": {
           "shape": ""
          }
         },
         "name": "Nobis Tula Parka",
         "offsetgroup": "Nobis Tula Parka",
         "orientation": "v",
         "showlegend": true,
         "textposition": "auto",
         "type": "bar",
         "x": [
          "2022-02-01"
         ],
         "xaxis": "x",
         "y": [
          5063.85
         ],
         "yaxis": "y"
        },
        {
         "alignmentgroup": "True",
         "hovertemplate": "product_name=Arc'teryx Women's Caliber Cardigan<br>Month=%{x}<br>Profit=%{y}<extra></extra>",
         "legendgroup": "Arc'teryx Women's Caliber Cardigan",
         "marker": {
          "color": "#19d3f3",
          "pattern": {
           "shape": ""
          }
         },
         "name": "Arc'teryx Women's Caliber Cardigan",
         "offsetgroup": "Arc'teryx Women's Caliber Cardigan",
         "orientation": "v",
         "showlegend": true,
         "textposition": "auto",
         "type": "bar",
         "x": [
          "2022-03-01"
         ],
         "xaxis": "x",
         "y": [
          3921.39
         ],
         "yaxis": "y"
        },
        {
         "alignmentgroup": "True",
         "hovertemplate": "product_name=Trina Turk Women's Elizabeth Toggle Coat<br>Month=%{x}<br>Profit=%{y}<extra></extra>",
         "legendgroup": "Trina Turk Women's Elizabeth Toggle Coat",
         "marker": {
          "color": "#FF6692",
          "pattern": {
           "shape": ""
          }
         },
         "name": "Trina Turk Women's Elizabeth Toggle Coat",
         "offsetgroup": "Trina Turk Women's Elizabeth Toggle Coat",
         "orientation": "v",
         "showlegend": true,
         "textposition": "auto",
         "type": "bar",
         "x": [
          "2022-03-01"
         ],
         "xaxis": "x",
         "y": [
          3755.06
         ],
         "yaxis": "y"
        },
        {
         "alignmentgroup": "True",
         "hovertemplate": "product_name=Arc'teryx Moray Jacket - Women's<br>Month=%{x}<br>Profit=%{y}<extra></extra>",
         "legendgroup": "Arc'teryx Moray Jacket - Women's",
         "marker": {
          "color": "#B6E880",
          "pattern": {
           "shape": ""
          }
         },
         "name": "Arc'teryx Moray Jacket - Women's",
         "offsetgroup": "Arc'teryx Moray Jacket - Women's",
         "orientation": "v",
         "showlegend": true,
         "textposition": "auto",
         "type": "bar",
         "x": [
          "2022-04-01"
         ],
         "xaxis": "x",
         "y": [
          7812.02
         ],
         "yaxis": "y"
        },
        {
         "alignmentgroup": "True",
         "hovertemplate": "product_name=Carhartt Men's Flame Resistant Heavyweight Duck Traditional Coat<br>Month=%{x}<br>Profit=%{y}<extra></extra>",
         "legendgroup": "Carhartt Men's Flame Resistant Heavyweight Duck Traditional Coat",
         "marker": {
          "color": "#FF97FF",
          "pattern": {
           "shape": ""
          }
         },
         "name": "Carhartt Men's Flame Resistant Heavyweight Duck Traditional Coat",
         "offsetgroup": "Carhartt Men's Flame Resistant Heavyweight Duck Traditional Coat",
         "orientation": "v",
         "showlegend": true,
         "textposition": "auto",
         "type": "bar",
         "x": [
          "2022-04-01"
         ],
         "xaxis": "x",
         "y": [
          5328.45
         ],
         "yaxis": "y"
        },
        {
         "alignmentgroup": "True",
         "hovertemplate": "product_name=BALLIN Men's Zig Zag Twill Manchester Pant<br>Month=%{x}<br>Profit=%{y}<extra></extra>",
         "legendgroup": "BALLIN Men's Zig Zag Twill Manchester Pant",
         "marker": {
          "color": "#FECB52",
          "pattern": {
           "shape": ""
          }
         },
         "name": "BALLIN Men's Zig Zag Twill Manchester Pant",
         "offsetgroup": "BALLIN Men's Zig Zag Twill Manchester Pant",
         "orientation": "v",
         "showlegend": true,
         "textposition": "auto",
         "type": "bar",
         "x": [
          "2022-04-01"
         ],
         "xaxis": "x",
         "y": [
          5132.4
         ],
         "yaxis": "y"
        }
       ],
       "layout": {
        "barmode": "relative",
        "legend": {
         "title": {
          "text": "product_name"
         },
         "tracegroupgap": 0
        },
        "template": {
         "data": {
          "bar": [
           {
            "error_x": {
             "color": "#2a3f5f"
            },
            "error_y": {
             "color": "#2a3f5f"
            },
            "marker": {
             "line": {
              "color": "#E5ECF6",
              "width": 0.5
             },
             "pattern": {
              "fillmode": "overlay",
              "size": 10,
              "solidity": 0.2
             }
            },
            "type": "bar"
           }
          ],
          "barpolar": [
           {
            "marker": {
             "line": {
              "color": "#E5ECF6",
              "width": 0.5
             },
             "pattern": {
              "fillmode": "overlay",
              "size": 10,
              "solidity": 0.2
             }
            },
            "type": "barpolar"
           }
          ],
          "carpet": [
           {
            "aaxis": {
             "endlinecolor": "#2a3f5f",
             "gridcolor": "white",
             "linecolor": "white",
             "minorgridcolor": "white",
             "startlinecolor": "#2a3f5f"
            },
            "baxis": {
             "endlinecolor": "#2a3f5f",
             "gridcolor": "white",
             "linecolor": "white",
             "minorgridcolor": "white",
             "startlinecolor": "#2a3f5f"
            },
            "type": "carpet"
           }
          ],
          "choropleth": [
           {
            "colorbar": {
             "outlinewidth": 0,
             "ticks": ""
            },
            "type": "choropleth"
           }
          ],
          "contour": [
           {
            "colorbar": {
             "outlinewidth": 0,
             "ticks": ""
            },
            "colorscale": [
             [
              0,
              "#0d0887"
             ],
             [
              0.1111111111111111,
              "#46039f"
             ],
             [
              0.2222222222222222,
              "#7201a8"
             ],
             [
              0.3333333333333333,
              "#9c179e"
             ],
             [
              0.4444444444444444,
              "#bd3786"
             ],
             [
              0.5555555555555556,
              "#d8576b"
             ],
             [
              0.6666666666666666,
              "#ed7953"
             ],
             [
              0.7777777777777778,
              "#fb9f3a"
             ],
             [
              0.8888888888888888,
              "#fdca26"
             ],
             [
              1,
              "#f0f921"
             ]
            ],
            "type": "contour"
           }
          ],
          "contourcarpet": [
           {
            "colorbar": {
             "outlinewidth": 0,
             "ticks": ""
            },
            "type": "contourcarpet"
           }
          ],
          "heatmap": [
           {
            "colorbar": {
             "outlinewidth": 0,
             "ticks": ""
            },
            "colorscale": [
             [
              0,
              "#0d0887"
             ],
             [
              0.1111111111111111,
              "#46039f"
             ],
             [
              0.2222222222222222,
              "#7201a8"
             ],
             [
              0.3333333333333333,
              "#9c179e"
             ],
             [
              0.4444444444444444,
              "#bd3786"
             ],
             [
              0.5555555555555556,
              "#d8576b"
             ],
             [
              0.6666666666666666,
              "#ed7953"
             ],
             [
              0.7777777777777778,
              "#fb9f3a"
             ],
             [
              0.8888888888888888,
              "#fdca26"
             ],
             [
              1,
              "#f0f921"
             ]
            ],
            "type": "heatmap"
           }
          ],
          "heatmapgl": [
           {
            "colorbar": {
             "outlinewidth": 0,
             "ticks": ""
            },
            "colorscale": [
             [
              0,
              "#0d0887"
             ],
             [
              0.1111111111111111,
              "#46039f"
             ],
             [
              0.2222222222222222,
              "#7201a8"
             ],
             [
              0.3333333333333333,
              "#9c179e"
             ],
             [
              0.4444444444444444,
              "#bd3786"
             ],
             [
              0.5555555555555556,
              "#d8576b"
             ],
             [
              0.6666666666666666,
              "#ed7953"
             ],
             [
              0.7777777777777778,
              "#fb9f3a"
             ],
             [
              0.8888888888888888,
              "#fdca26"
             ],
             [
              1,
              "#f0f921"
             ]
            ],
            "type": "heatmapgl"
           }
          ],
          "histogram": [
           {
            "marker": {
             "pattern": {
              "fillmode": "overlay",
              "size": 10,
              "solidity": 0.2
             }
            },
            "type": "histogram"
           }
          ],
          "histogram2d": [
           {
            "colorbar": {
             "outlinewidth": 0,
             "ticks": ""
            },
            "colorscale": [
             [
              0,
              "#0d0887"
             ],
             [
              0.1111111111111111,
              "#46039f"
             ],
             [
              0.2222222222222222,
              "#7201a8"
             ],
             [
              0.3333333333333333,
              "#9c179e"
             ],
             [
              0.4444444444444444,
              "#bd3786"
             ],
             [
              0.5555555555555556,
              "#d8576b"
             ],
             [
              0.6666666666666666,
              "#ed7953"
             ],
             [
              0.7777777777777778,
              "#fb9f3a"
             ],
             [
              0.8888888888888888,
              "#fdca26"
             ],
             [
              1,
              "#f0f921"
             ]
            ],
            "type": "histogram2d"
           }
          ],
          "histogram2dcontour": [
           {
            "colorbar": {
             "outlinewidth": 0,
             "ticks": ""
            },
            "colorscale": [
             [
              0,
              "#0d0887"
             ],
             [
              0.1111111111111111,
              "#46039f"
             ],
             [
              0.2222222222222222,
              "#7201a8"
             ],
             [
              0.3333333333333333,
              "#9c179e"
             ],
             [
              0.4444444444444444,
              "#bd3786"
             ],
             [
              0.5555555555555556,
              "#d8576b"
             ],
             [
              0.6666666666666666,
              "#ed7953"
             ],
             [
              0.7777777777777778,
              "#fb9f3a"
             ],
             [
              0.8888888888888888,
              "#fdca26"
             ],
             [
              1,
              "#f0f921"
             ]
            ],
            "type": "histogram2dcontour"
           }
          ],
          "mesh3d": [
           {
            "colorbar": {
             "outlinewidth": 0,
             "ticks": ""
            },
            "type": "mesh3d"
           }
          ],
          "parcoords": [
           {
            "line": {
             "colorbar": {
              "outlinewidth": 0,
              "ticks": ""
             }
            },
            "type": "parcoords"
           }
          ],
          "pie": [
           {
            "automargin": true,
            "type": "pie"
           }
          ],
          "scatter": [
           {
            "fillpattern": {
             "fillmode": "overlay",
             "size": 10,
             "solidity": 0.2
            },
            "type": "scatter"
           }
          ],
          "scatter3d": [
           {
            "line": {
             "colorbar": {
              "outlinewidth": 0,
              "ticks": ""
             }
            },
            "marker": {
             "colorbar": {
              "outlinewidth": 0,
              "ticks": ""
             }
            },
            "type": "scatter3d"
           }
          ],
          "scattercarpet": [
           {
            "marker": {
             "colorbar": {
              "outlinewidth": 0,
              "ticks": ""
             }
            },
            "type": "scattercarpet"
           }
          ],
          "scattergeo": [
           {
            "marker": {
             "colorbar": {
              "outlinewidth": 0,
              "ticks": ""
             }
            },
            "type": "scattergeo"
           }
          ],
          "scattergl": [
           {
            "marker": {
             "colorbar": {
              "outlinewidth": 0,
              "ticks": ""
             }
            },
            "type": "scattergl"
           }
          ],
          "scattermapbox": [
           {
            "marker": {
             "colorbar": {
              "outlinewidth": 0,
              "ticks": ""
             }
            },
            "type": "scattermapbox"
           }
          ],
          "scatterpolar": [
           {
            "marker": {
             "colorbar": {
              "outlinewidth": 0,
              "ticks": ""
             }
            },
            "type": "scatterpolar"
           }
          ],
          "scatterpolargl": [
           {
            "marker": {
             "colorbar": {
              "outlinewidth": 0,
              "ticks": ""
             }
            },
            "type": "scatterpolargl"
           }
          ],
          "scatterternary": [
           {
            "marker": {
             "colorbar": {
              "outlinewidth": 0,
              "ticks": ""
             }
            },
            "type": "scatterternary"
           }
          ],
          "surface": [
           {
            "colorbar": {
             "outlinewidth": 0,
             "ticks": ""
            },
            "colorscale": [
             [
              0,
              "#0d0887"
             ],
             [
              0.1111111111111111,
              "#46039f"
             ],
             [
              0.2222222222222222,
              "#7201a8"
             ],
             [
              0.3333333333333333,
              "#9c179e"
             ],
             [
              0.4444444444444444,
              "#bd3786"
             ],
             [
              0.5555555555555556,
              "#d8576b"
             ],
             [
              0.6666666666666666,
              "#ed7953"
             ],
             [
              0.7777777777777778,
              "#fb9f3a"
             ],
             [
              0.8888888888888888,
              "#fdca26"
             ],
             [
              1,
              "#f0f921"
             ]
            ],
            "type": "surface"
           }
          ],
          "table": [
           {
            "cells": {
             "fill": {
              "color": "#EBF0F8"
             },
             "line": {
              "color": "white"
             }
            },
            "header": {
             "fill": {
              "color": "#C8D4E3"
             },
             "line": {
              "color": "white"
             }
            },
            "type": "table"
           }
          ]
         },
         "layout": {
          "annotationdefaults": {
           "arrowcolor": "#2a3f5f",
           "arrowhead": 0,
           "arrowwidth": 1
          },
          "autotypenumbers": "strict",
          "coloraxis": {
           "colorbar": {
            "outlinewidth": 0,
            "ticks": ""
           }
          },
          "colorscale": {
           "diverging": [
            [
             0,
             "#8e0152"
            ],
            [
             0.1,
             "#c51b7d"
            ],
            [
             0.2,
             "#de77ae"
            ],
            [
             0.3,
             "#f1b6da"
            ],
            [
             0.4,
             "#fde0ef"
            ],
            [
             0.5,
             "#f7f7f7"
            ],
            [
             0.6,
             "#e6f5d0"
            ],
            [
             0.7,
             "#b8e186"
            ],
            [
             0.8,
             "#7fbc41"
            ],
            [
             0.9,
             "#4d9221"
            ],
            [
             1,
             "#276419"
            ]
           ],
           "sequential": [
            [
             0,
             "#0d0887"
            ],
            [
             0.1111111111111111,
             "#46039f"
            ],
            [
             0.2222222222222222,
             "#7201a8"
            ],
            [
             0.3333333333333333,
             "#9c179e"
            ],
            [
             0.4444444444444444,
             "#bd3786"
            ],
            [
             0.5555555555555556,
             "#d8576b"
            ],
            [
             0.6666666666666666,
             "#ed7953"
            ],
            [
             0.7777777777777778,
             "#fb9f3a"
            ],
            [
             0.8888888888888888,
             "#fdca26"
            ],
            [
             1,
             "#f0f921"
            ]
           ],
           "sequentialminus": [
            [
             0,
             "#0d0887"
            ],
            [
             0.1111111111111111,
             "#46039f"
            ],
            [
             0.2222222222222222,
             "#7201a8"
            ],
            [
             0.3333333333333333,
             "#9c179e"
            ],
            [
             0.4444444444444444,
             "#bd3786"
            ],
            [
             0.5555555555555556,
             "#d8576b"
            ],
            [
             0.6666666666666666,
             "#ed7953"
            ],
            [
             0.7777777777777778,
             "#fb9f3a"
            ],
            [
             0.8888888888888888,
             "#fdca26"
            ],
            [
             1,
             "#f0f921"
            ]
           ]
          },
          "colorway": [
           "#636efa",
           "#EF553B",
           "#00cc96",
           "#ab63fa",
           "#FFA15A",
           "#19d3f3",
           "#FF6692",
           "#B6E880",
           "#FF97FF",
           "#FECB52"
          ],
          "font": {
           "color": "#2a3f5f"
          },
          "geo": {
           "bgcolor": "white",
           "lakecolor": "white",
           "landcolor": "#E5ECF6",
           "showlakes": true,
           "showland": true,
           "subunitcolor": "white"
          },
          "hoverlabel": {
           "align": "left"
          },
          "hovermode": "closest",
          "mapbox": {
           "style": "light"
          },
          "paper_bgcolor": "white",
          "plot_bgcolor": "#E5ECF6",
          "polar": {
           "angularaxis": {
            "gridcolor": "white",
            "linecolor": "white",
            "ticks": ""
           },
           "bgcolor": "#E5ECF6",
           "radialaxis": {
            "gridcolor": "white",
            "linecolor": "white",
            "ticks": ""
           }
          },
          "scene": {
           "xaxis": {
            "backgroundcolor": "#E5ECF6",
            "gridcolor": "white",
            "gridwidth": 2,
            "linecolor": "white",
            "showbackground": true,
            "ticks": "",
            "zerolinecolor": "white"
           },
           "yaxis": {
            "backgroundcolor": "#E5ECF6",
            "gridcolor": "white",
            "gridwidth": 2,
            "linecolor": "white",
            "showbackground": true,
            "ticks": "",
            "zerolinecolor": "white"
           },
           "zaxis": {
            "backgroundcolor": "#E5ECF6",
            "gridcolor": "white",
            "gridwidth": 2,
            "linecolor": "white",
            "showbackground": true,
            "ticks": "",
            "zerolinecolor": "white"
           }
          },
          "shapedefaults": {
           "line": {
            "color": "#2a3f5f"
           }
          },
          "ternary": {
           "aaxis": {
            "gridcolor": "white",
            "linecolor": "white",
            "ticks": ""
           },
           "baxis": {
            "gridcolor": "white",
            "linecolor": "white",
            "ticks": ""
           },
           "bgcolor": "#E5ECF6",
           "caxis": {
            "gridcolor": "white",
            "linecolor": "white",
            "ticks": ""
           }
          },
          "title": {
           "x": 0.05
          },
          "xaxis": {
           "automargin": true,
           "gridcolor": "white",
           "linecolor": "white",
           "ticks": "",
           "title": {
            "standoff": 15
           },
           "zerolinecolor": "white",
           "zerolinewidth": 2
          },
          "yaxis": {
           "automargin": true,
           "gridcolor": "white",
           "linecolor": "white",
           "ticks": "",
           "title": {
            "standoff": 15
           },
           "zerolinecolor": "white",
           "zerolinewidth": 2
          }
         }
        },
        "title": {
         "text": "Top Profitable Products Over Time"
        },
        "xaxis": {
         "anchor": "y",
         "domain": [
          0,
          1
         ],
         "title": {
          "text": "Month"
         }
        },
        "yaxis": {
         "anchor": "x",
         "domain": [
          0,
          1
         ],
         "title": {
          "text": "Profit"
         }
        }
       }
      }
     },
     "metadata": {},
     "output_type": "display_data"
    }
   ],
   "source": [
    "fig = exp.bar(\n",
    "    product_df,\n",
    "    x=\"month\",\n",
    "    y=\"profit\",\n",
    "    color=\"product_name\",\n",
    "    title=\"Top Profitable Products Over Time\",\n",
    "    labels={\"month\": \"Month\", \"profit\": \"Profit\"},\n",
    "    template=\"plotly\",\n",
    ")\n",
    "\n",
    "fig.show()\n"
   ]
  },
  {
   "cell_type": "code",
   "execution_count": 39,
   "metadata": {},
   "outputs": [
    {
     "data": {
      "image/png": "[encoded data removed]",
      "text/plain": [
       "<Figure size 1000x600 with 1 Axes>"
      ]
     },
     "metadata": {},
     "output_type": "display_data"
    }
   ],
   "source": [
    "product_df['profit'] = product_df['sales'] - product_df['cost']\n",
    "\n",
    "# Identify the top 5 profitable products\n",
    "top_products = product_df.nlargest(5, 'profit')\n",
    "\n",
    "# Create a bar plot for the top 5 products\n",
    "plt.figure(figsize=(10, 6))\n",
    "sns.barplot(x='product_name', y='profit', data=top_products, palette=\"Set2\")\n",
    "plt.xlabel(\"Product\")\n",
    "plt.ylabel(\"Profit\")\n",
    "plt.title(\"Top 5 Profitable Products\")\n",
    "plt.xticks(rotation=45)\n",
    "plt.tight_layout()\n",
    "\n",
    "# Show the plot\n",
    "plt.show()"
   ]
  },
  {
   "cell_type": "code",
   "execution_count": 42,
   "metadata": {},
   "outputs": [
    {
     "data": {
      "application/vnd.plotly.v1+json": {
       "config": {
        "plotlyServerURL": "https://plot.ly"
       },
       "data": [
        {
         "alignmentgroup": "True",
         "hovertemplate": "Product=%{x}<br>Profit=%{y}<extra></extra>",
         "legendgroup": "",
         "marker": {
          "color": "#636efa",
          "pattern": {
           "shape": ""
          }
         },
         "name": "",
         "offsetgroup": "",
         "orientation": "v",
         "showlegend": false,
         "textposition": "auto",
         "type": "bar",
         "x": [
          "Canada Goose Men's Citadel Parka",
          "Canada Goose Men's Citadel Parka",
          "The North Face Nuptse 2 Jacket Deep Water Blue Mens",
          "The North Face Nuptse 2 Jacket Deep Water Blue Mens",
          "The North Face Apex Bionic Jacket - Men's"
         ],
         "xaxis": "x",
         "y": [
          15497.73,
          15497.73,
          14993.41,
          14993.41,
          14612.35
         ],
         "yaxis": "y"
        }
       ],
       "layout": {
        "barmode": "relative",
        "legend": {
         "tracegroupgap": 0
        },
        "template": {
         "data": {
          "bar": [
           {
            "error_x": {
             "color": "#2a3f5f"
            },
            "error_y": {
             "color": "#2a3f5f"
            },
            "marker": {
             "line": {
              "color": "#E5ECF6",
              "width": 0.5
             },
             "pattern": {
              "fillmode": "overlay",
              "size": 10,
              "solidity": 0.2
             }
            },
            "type": "bar"
           }
          ],
          "barpolar": [
           {
            "marker": {
             "line": {
              "color": "#E5ECF6",
              "width": 0.5
             },
             "pattern": {
              "fillmode": "overlay",
              "size": 10,
              "solidity": 0.2
             }
            },
            "type": "barpolar"
           }
          ],
          "carpet": [
           {
            "aaxis": {
             "endlinecolor": "#2a3f5f",
             "gridcolor": "white",
             "linecolor": "white",
             "minorgridcolor": "white",
             "startlinecolor": "#2a3f5f"
            },
            "baxis": {
             "endlinecolor": "#2a3f5f",
             "gridcolor": "white",
             "linecolor": "white",
             "minorgridcolor": "white",
             "startlinecolor": "#2a3f5f"
            },
            "type": "carpet"
           }
          ],
          "choropleth": [
           {
            "colorbar": {
             "outlinewidth": 0,
             "ticks": ""
            },
            "type": "choropleth"
           }
          ],
          "contour": [
           {
            "colorbar": {
             "outlinewidth": 0,
             "ticks": ""
            },
            "colorscale": [
             [
              0,
              "#0d0887"
             ],
             [
              0.1111111111111111,
              "#46039f"
             ],
             [
              0.2222222222222222,
              "#7201a8"
             ],
             [
              0.3333333333333333,
              "#9c179e"
             ],
             [
              0.4444444444444444,
              "#bd3786"
             ],
             [
              0.5555555555555556,
              "#d8576b"
             ],
             [
              0.6666666666666666,
              "#ed7953"
             ],
             [
              0.7777777777777778,
              "#fb9f3a"
             ],
             [
              0.8888888888888888,
              "#fdca26"
             ],
             [
              1,
              "#f0f921"
             ]
            ],
            "type": "contour"
           }
          ],
          "contourcarpet": [
           {
            "colorbar": {
             "outlinewidth": 0,
             "ticks": ""
            },
            "type": "contourcarpet"
           }
          ],
          "heatmap": [
           {
            "colorbar": {
             "outlinewidth": 0,
             "ticks": ""
            },
            "colorscale": [
             [
              0,
              "#0d0887"
             ],
             [
              0.1111111111111111,
              "#46039f"
             ],
             [
              0.2222222222222222,
              "#7201a8"
             ],
             [
              0.3333333333333333,
              "#9c179e"
             ],
             [
              0.4444444444444444,
              "#bd3786"
             ],
             [
              0.5555555555555556,
              "#d8576b"
             ],
             [
              0.6666666666666666,
              "#ed7953"
             ],
             [
              0.7777777777777778,
              "#fb9f3a"
             ],
             [
              0.8888888888888888,
              "#fdca26"
             ],
             [
              1,
              "#f0f921"
             ]
            ],
            "type": "heatmap"
           }
          ],
          "heatmapgl": [
           {
            "colorbar": {
             "outlinewidth": 0,
             "ticks": ""
            },
            "colorscale": [
             [
              0,
              "#0d0887"
             ],
             [
              0.1111111111111111,
              "#46039f"
             ],
             [
              0.2222222222222222,
              "#7201a8"
             ],
             [
              0.3333333333333333,
              "#9c179e"
             ],
             [
              0.4444444444444444,
              "#bd3786"
             ],
             [
              0.5555555555555556,
              "#d8576b"
             ],
             [
              0.6666666666666666,
              "#ed7953"
             ],
             [
              0.7777777777777778,
              "#fb9f3a"
             ],
             [
              0.8888888888888888,
              "#fdca26"
             ],
             [
              1,
              "#f0f921"
             ]
            ],
            "type": "heatmapgl"
           }
          ],
          "histogram": [
           {
            "marker": {
             "pattern": {
              "fillmode": "overlay",
              "size": 10,
              "solidity": 0.2
             }
            },
            "type": "histogram"
           }
          ],
          "histogram2d": [
           {
            "colorbar": {
             "outlinewidth": 0,
             "ticks": ""
            },
            "colorscale": [
             [
              0,
              "#0d0887"
             ],
             [
              0.1111111111111111,
              "#46039f"
             ],
             [
              0.2222222222222222,
              "#7201a8"
             ],
             [
              0.3333333333333333,
              "#9c179e"
             ],
             [
              0.4444444444444444,
              "#bd3786"
             ],
             [
              0.5555555555555556,
              "#d8576b"
             ],
             [
              0.6666666666666666,
              "#ed7953"
             ],
             [
              0.7777777777777778,
              "#fb9f3a"
             ],
             [
              0.8888888888888888,
              "#fdca26"
             ],
             [
              1,
              "#f0f921"
             ]
            ],
            "type": "histogram2d"
           }
          ],
          "histogram2dcontour": [
           {
            "colorbar": {
             "outlinewidth": 0,
             "ticks": ""
            },
            "colorscale": [
             [
              0,
              "#0d0887"
             ],
             [
              0.1111111111111111,
              "#46039f"
             ],
             [
              0.2222222222222222,
              "#7201a8"
             ],
             [
              0.3333333333333333,
              "#9c179e"
             ],
             [
              0.4444444444444444,
              "#bd3786"
             ],
             [
              0.5555555555555556,
              "#d8576b"
             ],
             [
              0.6666666666666666,
              "#ed7953"
             ],
             [
              0.7777777777777778,
              "#fb9f3a"
             ],
             [
              0.8888888888888888,
              "#fdca26"
             ],
             [
              1,
              "#f0f921"
             ]
            ],
            "type": "histogram2dcontour"
           }
          ],
          "mesh3d": [
           {
            "colorbar": {
             "outlinewidth": 0,
             "ticks": ""
            },
            "type": "mesh3d"
           }
          ],
          "parcoords": [
           {
            "line": {
             "colorbar": {
              "outlinewidth": 0,
              "ticks": ""
             }
            },
            "type": "parcoords"
           }
          ],
          "pie": [
           {
            "automargin": true,
            "type": "pie"
           }
          ],
          "scatter": [
           {
            "fillpattern": {
             "fillmode": "overlay",
             "size": 10,
             "solidity": 0.2
            },
            "type": "scatter"
           }
          ],
          "scatter3d": [
           {
            "line": {
             "colorbar": {
              "outlinewidth": 0,
              "ticks": ""
             }
            },
            "marker": {
             "colorbar": {
              "outlinewidth": 0,
              "ticks": ""
             }
            },
            "type": "scatter3d"
           }
          ],
          "scattercarpet": [
           {
            "marker": {
             "colorbar": {
              "outlinewidth": 0,
              "ticks": ""
             }
            },
            "type": "scattercarpet"
           }
          ],
          "scattergeo": [
           {
            "marker": {
             "colorbar": {
              "outlinewidth": 0,
              "ticks": ""
             }
            },
            "type": "scattergeo"
           }
          ],
          "scattergl": [
           {
            "marker": {
             "colorbar": {
              "outlinewidth": 0,
              "ticks": ""
             }
            },
            "type": "scattergl"
           }
          ],
          "scattermapbox": [
           {
            "marker": {
             "colorbar": {
              "outlinewidth": 0,
              "ticks": ""
             }
            },
            "type": "scattermapbox"
           }
          ],
          "scatterpolar": [
           {
            "marker": {
             "colorbar": {
              "outlinewidth": 0,
              "ticks": ""
             }
            },
            "type": "scatterpolar"
           }
          ],
          "scatterpolargl": [
           {
            "marker": {
             "colorbar": {
              "outlinewidth": 0,
              "ticks": ""
             }
            },
            "type": "scatterpolargl"
           }
          ],
          "scatterternary": [
           {
            "marker": {
             "colorbar": {
              "outlinewidth": 0,
              "ticks": ""
             }
            },
            "type": "scatterternary"
           }
          ],
          "surface": [
           {
            "colorbar": {
             "outlinewidth": 0,
             "ticks": ""
            },
            "colorscale": [
             [
              0,
              "#0d0887"
             ],
             [
              0.1111111111111111,
              "#46039f"
             ],
             [
              0.2222222222222222,
              "#7201a8"
             ],
             [
              0.3333333333333333,
              "#9c179e"
             ],
             [
              0.4444444444444444,
              "#bd3786"
             ],
             [
              0.5555555555555556,
              "#d8576b"
             ],
             [
              0.6666666666666666,
              "#ed7953"
             ],
             [
              0.7777777777777778,
              "#fb9f3a"
             ],
             [
              0.8888888888888888,
              "#fdca26"
             ],
             [
              1,
              "#f0f921"
             ]
            ],
            "type": "surface"
           }
          ],
          "table": [
           {
            "cells": {
             "fill": {
              "color": "#EBF0F8"
             },
             "line": {
              "color": "white"
             }
            },
            "header": {
             "fill": {
              "color": "#C8D4E3"
             },
             "line": {
              "color": "white"
             }
            },
            "type": "table"
           }
          ]
         },
         "layout": {
          "annotationdefaults": {
           "arrowcolor": "#2a3f5f",
           "arrowhead": 0,
           "arrowwidth": 1
          },
          "autotypenumbers": "strict",
          "coloraxis": {
           "colorbar": {
            "outlinewidth": 0,
            "ticks": ""
           }
          },
          "colorscale": {
           "diverging": [
            [
             0,
             "#8e0152"
            ],
            [
             0.1,
             "#c51b7d"
            ],
            [
             0.2,
             "#de77ae"
            ],
            [
             0.3,
             "#f1b6da"
            ],
            [
             0.4,
             "#fde0ef"
            ],
            [
             0.5,
             "#f7f7f7"
            ],
            [
             0.6,
             "#e6f5d0"
            ],
            [
             0.7,
             "#b8e186"
            ],
            [
             0.8,
             "#7fbc41"
            ],
            [
             0.9,
             "#4d9221"
            ],
            [
             1,
             "#276419"
            ]
           ],
           "sequential": [
            [
             0,
             "#0d0887"
            ],
            [
             0.1111111111111111,
             "#46039f"
            ],
            [
             0.2222222222222222,
             "#7201a8"
            ],
            [
             0.3333333333333333,
             "#9c179e"
            ],
            [
             0.4444444444444444,
             "#bd3786"
            ],
            [
             0.5555555555555556,
             "#d8576b"
            ],
            [
             0.6666666666666666,
             "#ed7953"
            ],
            [
             0.7777777777777778,
             "#fb9f3a"
            ],
            [
             0.8888888888888888,
             "#fdca26"
            ],
            [
             1,
             "#f0f921"
            ]
           ],
           "sequentialminus": [
            [
             0,
             "#0d0887"
            ],
            [
             0.1111111111111111,
             "#46039f"
            ],
            [
             0.2222222222222222,
             "#7201a8"
            ],
            [
             0.3333333333333333,
             "#9c179e"
            ],
            [
             0.4444444444444444,
             "#bd3786"
            ],
            [
             0.5555555555555556,
             "#d8576b"
            ],
            [
             0.6666666666666666,
             "#ed7953"
            ],
            [
             0.7777777777777778,
             "#fb9f3a"
            ],
            [
             0.8888888888888888,
             "#fdca26"
            ],
            [
             1,
             "#f0f921"
            ]
           ]
          },
          "colorway": [
           "#636efa",
           "#EF553B",
           "#00cc96",
           "#ab63fa",
           "#FFA15A",
           "#19d3f3",
           "#FF6692",
           "#B6E880",
           "#FF97FF",
           "#FECB52"
          ],
          "font": {
           "color": "#2a3f5f"
          },
          "geo": {
           "bgcolor": "white",
           "lakecolor": "white",
           "landcolor": "#E5ECF6",
           "showlakes": true,
           "showland": true,
           "subunitcolor": "white"
          },
          "hoverlabel": {
           "align": "left"
          },
          "hovermode": "closest",
          "mapbox": {
           "style": "light"
          },
          "paper_bgcolor": "white",
          "plot_bgcolor": "#E5ECF6",
          "polar": {
           "angularaxis": {
            "gridcolor": "white",
            "linecolor": "white",
            "ticks": ""
           },
           "bgcolor": "#E5ECF6",
           "radialaxis": {
            "gridcolor": "white",
            "linecolor": "white",
            "ticks": ""
           }
          },
          "scene": {
           "xaxis": {
            "backgroundcolor": "#E5ECF6",
            "gridcolor": "white",
            "gridwidth": 2,
            "linecolor": "white",
            "showbackground": true,
            "ticks": "",
            "zerolinecolor": "white"
           },
           "yaxis": {
            "backgroundcolor": "#E5ECF6",
            "gridcolor": "white",
            "gridwidth": 2,
            "linecolor": "white",
            "showbackground": true,
            "ticks": "",
            "zerolinecolor": "white"
           },
           "zaxis": {
            "backgroundcolor": "#E5ECF6",
            "gridcolor": "white",
            "gridwidth": 2,
            "linecolor": "white",
            "showbackground": true,
            "ticks": "",
            "zerolinecolor": "white"
           }
          },
          "shapedefaults": {
           "line": {
            "color": "#2a3f5f"
           }
          },
          "ternary": {
           "aaxis": {
            "gridcolor": "white",
            "linecolor": "white",
            "ticks": ""
           },
           "baxis": {
            "gridcolor": "white",
            "linecolor": "white",
            "ticks": ""
           },
           "bgcolor": "#E5ECF6",
           "caxis": {
            "gridcolor": "white",
            "linecolor": "white",
            "ticks": ""
           }
          },
          "title": {
           "x": 0.05
          },
          "xaxis": {
           "automargin": true,
           "gridcolor": "white",
           "linecolor": "white",
           "ticks": "",
           "title": {
            "standoff": 15
           },
           "zerolinecolor": "white",
           "zerolinewidth": 2
          },
          "yaxis": {
           "automargin": true,
           "gridcolor": "white",
           "linecolor": "white",
           "ticks": "",
           "title": {
            "standoff": 15
           },
           "zerolinecolor": "white",
           "zerolinewidth": 2
          }
         }
        },
        "title": {
         "text": "Top 5 Profitable Products"
        },
        "xaxis": {
         "anchor": "y",
         "domain": [
          0,
          1
         ],
         "tickangle": 0,
         "title": {
          "text": "Product"
         }
        },
        "yaxis": {
         "anchor": "x",
         "domain": [
          0,
          1
         ],
         "title": {
          "text": "Profit"
         }
        }
       }
      }
     },
     "metadata": {},
     "output_type": "display_data"
    }
   ],
   "source": [
    "product_df['profit'] = product_df['sales'] - product_df['cost']\n",
    "\n",
    "# Identify the top 5 profitable products\n",
    "top_products = product_df.nlargest(5, 'profit')\n",
    "\n",
    "# Create a bar plot for the top 5 products using Plotly\n",
    "fig = exp.bar(\n",
    "    top_products,\n",
    "    x='product_name',\n",
    "    y='profit',\n",
    "    title='Top 5 Profitable Products',\n",
    "    labels={'product_name': 'Product', 'profit': 'Profit'},\n",
    "    template='plotly',\n",
    ")\n",
    "\n",
    "# Rotate x-axis labels for better readability\n",
    "fig.update_xaxes(tickangle=0)\n",
    "\n",
    "# Show the plot\n",
    "fig.show()"
   ]
  }
 ],
 "metadata": {
  "kernelspec": {
   "display_name": "Python 3",
   "language": "python",
   "name": "python3"
  },
  "language_info": {
   "codemirror_mode": {
    "name": "ipython",
    "version": 3
   },
   "file_extension": ".py",
   "mimetype": "text/x-python",
   "name": "python",
   "nbconvert_exporter": "python",
   "pygments_lexer": "ipython3",
   "version": "3.11.3"
  },
  "orig_nbformat": 4
 },
 "nbformat": 4,
 "nbformat_minor": 2
}
